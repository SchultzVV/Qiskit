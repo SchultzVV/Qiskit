{
 "cells": [
  {
   "cell_type": "markdown",
   "metadata": {},
   "source": [
    "# Obtendo os gradientes de um circuito quântico\n",
    "\n",
    "Seja $|\\psi\\rangle$ o estado inicial ou preparado, $U(\\theta)$ uma porta lógica parametrizada. O vaor médio de um observáve $\\hat{M}$ é :\n",
    "$$\\begin{equation*}\n",
    "    a=9\n",
    "\\end{equation*}$$\n",
    "\n"
   ]
  },
  {
   "cell_type": "markdown",
   "metadata": {},
   "source": [
    "\n"
   ]
  }
 ],
 "metadata": {
  "kernelspec": {
   "display_name": "Python 3.10.6 64-bit",
   "language": "python",
   "name": "python3"
  },
  "language_info": {
   "name": "python",
   "version": "3.10.6"
  },
  "orig_nbformat": 4,
  "vscode": {
   "interpreter": {
    "hash": "916dbcbb3f70747c44a77c7bcd40155683ae19c65e1c03b4aa3499c5328201f1"
   }
  }
 },
 "nbformat": 4,
 "nbformat_minor": 2
}
