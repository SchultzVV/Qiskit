{
 "cells": [
  {
   "cell_type": "code",
   "execution_count": 1,
   "metadata": {},
   "outputs": [],
   "source": [
    "import pennylane as qml\n",
    "import numpy as np\n",
    "import matplotlib.pyplot as plt\n",
    "import torch\n",
    "from torch.autograd import Variable"
   ]
  },
  {
   "cell_type": "code",
   "execution_count": 2,
   "metadata": {},
   "outputs": [
    {
     "name": "stdout",
     "output_type": "stream",
     "text": [
      "tensor([ 0.1843,  0.2918, -0.2909], dtype=torch.float64)\n",
      "0.779881733078468\n"
     ]
    }
   ],
   "source": [
    "purity = 0.5 + 0.5*np.random.rand()\n",
    "target_vector = np.random.normal(0, 1, 3)\n",
    "target_vector = target_vector/(np.sum(target_vector**2))\n",
    "target_vector = target_vector*(2*purity - 1)**0.5\n",
    "target_vector = Variable(torch.tensor(target_vector ))\n",
    "\n",
    "print(target_vector)    \n",
    "print(purity)\n"
   ]
  },
  {
   "cell_type": "code",
   "execution_count": 3,
   "metadata": {},
   "outputs": [],
   "source": [
    "device = qml.device('qiskit.aer', wires=3, backend='qasm_simulator')\n",
    "params = np.random.normal(0,np.pi, (3, 2, 3))\n",
    "params = Variable(torch.tensor(params), requires_grad=True)\n",
    "\n",
    "@qml.qnode(device, interface=\"torch\")\n",
    "def circuit(params, M=None):\n",
    "    j=0\n",
    "    for i in range(3):\n",
    "        qml.RX(params[i, j, 0], wires=i)\n",
    "        qml.RY(params[i, j, 1], wires=i)\n",
    "        qml.RZ(params[i, j, 2], wires=i)\n",
    "        \n",
    "    qml.CNOT(wires=[0, 1])\n",
    "    qml.CNOT(wires=[0, 2])\n",
    "    qml.CNOT(wires=[1, 2])\n",
    "\n",
    "    j=1\n",
    "    for i in range(3):\n",
    "        qml.RX(params[i, j, 0], wires=i)\n",
    "        qml.RY(params[i, j, 1], wires=i)\n",
    "        qml.RZ(params[i, j, 2], wires=i)\n",
    "        \n",
    "    qml.CNOT(wires=[0, 1])\n",
    "    qml.CNOT(wires=[0, 2])\n",
    "    qml.CNOT(wires=[1, 2])\n",
    "    \n",
    "    return qml.expval(qml.Hermitian(M, wires=0))\n"
   ]
  },
  {
   "cell_type": "code",
   "execution_count": 9,
   "metadata": {},
   "outputs": [],
   "source": [
    "Paulis = Variable(torch.zeros([3, 2, 2], dtype=torch.complex128), requires_grad=False)\n",
    "Paulis[0] = torch.tensor([[0, 1], [1, 0]])\n",
    "Paulis[1] = torch.tensor([[0, -1j], [1j, 0]])\n",
    "Paulis[2] = torch.tensor([[1, 0], [0, -1]])\n",
    "\n",
    "def cost(params):\n",
    "    L = 0\n",
    "    for k in range(3):\n",
    "        L += torch.abs(circuit(params, Paulis[k]) - target_vector[k])\n",
    "    return L\n",
    "\n",
    "opt = torch.optim.Adam([params], lr=0.1)\n",
    "best_loss = 1*cost(params)\n",
    "best_params = 1*params"
   ]
  },
  {
   "cell_type": "code",
   "execution_count": 10,
   "metadata": {},
   "outputs": [
    {
     "name": "stdout",
     "output_type": "stream",
     "text": [
      "0 tensor(2.0031, dtype=torch.float64, grad_fn=<AddBackward0>)\n",
      "1 tensor(1.3117, dtype=torch.float64, grad_fn=<AddBackward0>)\n",
      "2 tensor(0.8039, dtype=torch.float64, grad_fn=<AddBackward0>)\n",
      "3 tensor(0.7223, dtype=torch.float64, grad_fn=<AddBackward0>)\n",
      "4 tensor(0.5446, dtype=torch.float64, grad_fn=<AddBackward0>)\n",
      "5 tensor(0.5148, dtype=torch.float64, grad_fn=<AddBackward0>)\n",
      "6 tensor(0.5110, dtype=torch.float64, grad_fn=<AddBackward0>)\n",
      "7 tensor(0.5735, dtype=torch.float64, grad_fn=<AddBackward0>)\n",
      "8 tensor(0.3898, dtype=torch.float64, grad_fn=<AddBackward0>)\n",
      "9 tensor(0.3449, dtype=torch.float64, grad_fn=<AddBackward0>)\n",
      "10 tensor(0.3019, dtype=torch.float64, grad_fn=<AddBackward0>)\n",
      "11 tensor(0.2239, dtype=torch.float64, grad_fn=<AddBackward0>)\n",
      "12 tensor(0.0758, dtype=torch.float64, grad_fn=<AddBackward0>)\n",
      "13 tensor(0.0133, dtype=torch.float64, grad_fn=<AddBackward0>)\n",
      "14 tensor(0.2367, dtype=torch.float64, grad_fn=<AddBackward0>)\n",
      "15 tensor(0.2523, dtype=torch.float64, grad_fn=<AddBackward0>)\n",
      "16 tensor(0.1664, dtype=torch.float64, grad_fn=<AddBackward0>)\n",
      "17 tensor(0.2214, dtype=torch.float64, grad_fn=<AddBackward0>)\n",
      "18 tensor(0.3015, dtype=torch.float64, grad_fn=<AddBackward0>)\n",
      "19 tensor(0.2019, dtype=torch.float64, grad_fn=<AddBackward0>)\n",
      "20 tensor(0.1370, dtype=torch.float64, grad_fn=<AddBackward0>)\n",
      "21 tensor(0.0883, dtype=torch.float64, grad_fn=<AddBackward0>)\n",
      "22 tensor(0.1302, dtype=torch.float64, grad_fn=<AddBackward0>)\n",
      "23 tensor(0.1126, dtype=torch.float64, grad_fn=<AddBackward0>)\n",
      "24 tensor(0.2086, dtype=torch.float64, grad_fn=<AddBackward0>)\n",
      "25 tensor(0.2379, dtype=torch.float64, grad_fn=<AddBackward0>)\n",
      "26 tensor(0.2379, dtype=torch.float64, grad_fn=<AddBackward0>)\n",
      "27 tensor(0.1296, dtype=torch.float64, grad_fn=<AddBackward0>)\n",
      "28 tensor(0.0851, dtype=torch.float64, grad_fn=<AddBackward0>)\n",
      "29 tensor(0.2386, dtype=torch.float64, grad_fn=<AddBackward0>)\n",
      "30 tensor(0.2914, dtype=torch.float64, grad_fn=<AddBackward0>)\n",
      "31 tensor(0.2875, dtype=torch.float64, grad_fn=<AddBackward0>)\n"
     ]
    }
   ],
   "source": [
    "for epoch in range(32):\n",
    "    opt.zero_grad()\n",
    "    loss = cost(params)\n",
    "    print(epoch, loss)\n",
    "    loss.backward()\n",
    "    opt.step()\n",
    "\n",
    "    if loss < best_loss:\n",
    "        best_loss = 1*loss\n",
    "        best_params = 1*params"
   ]
  },
  {
   "cell_type": "code",
   "execution_count": 11,
   "metadata": {},
   "outputs": [
    {
     "name": "stdout",
     "output_type": "stream",
     "text": [
      "-0.48828125 -0.478515625 0.568359375\n"
     ]
    }
   ],
   "source": [
    "X_exp = circuit(params, Paulis[0]).item()\n",
    "Y_exp = circuit(params, Paulis[1]).item()\n",
    "Z_exp = circuit(params, Paulis[2]).item()\n",
    "print(X_exp, Y_exp, Z_exp)"
   ]
  },
  {
   "cell_type": "code",
   "execution_count": 12,
   "metadata": {},
   "outputs": [
    {
     "name": "stdout",
     "output_type": "stream",
     "text": [
      "[-0.51246847 -0.41497495  0.5463451 ]\n"
     ]
    }
   ],
   "source": [
    "print(target_vector.numpy())"
   ]
  },
  {
   "cell_type": "code",
   "execution_count": 13,
   "metadata": {},
   "outputs": [
    {
     "name": "stdout",
     "output_type": "stream",
     "text": [
      "[[ 0.78417969+0.j         -0.24414062+0.23925781j]\n",
      " [-0.24414062-0.23925781j  0.21582031+0.j        ]]\n"
     ]
    }
   ],
   "source": [
    "rho = 0.5*(torch.eye(2) + X_exp*Paulis[0] + Y_exp*Paulis[1] + Z_exp*Paulis[2]).detach().numpy()\n",
    "print(rho)"
   ]
  },
  {
   "cell_type": "code",
   "execution_count": null,
   "metadata": {},
   "outputs": [],
   "source": []
  }
 ],
 "metadata": {
  "kernelspec": {
   "display_name": "Python 3.9.13 ('base')",
   "language": "python",
   "name": "python3"
  },
  "language_info": {
   "codemirror_mode": {
    "name": "ipython",
    "version": 3
   },
   "file_extension": ".py",
   "mimetype": "text/x-python",
   "name": "python",
   "nbconvert_exporter": "python",
   "pygments_lexer": "ipython3",
   "version": "3.9.13"
  },
  "orig_nbformat": 4,
  "vscode": {
   "interpreter": {
    "hash": "0ed14abce7655850474e63ee7c6c2759d1bab8539f26a9d7ce141d9d93c461cb"
   }
  }
 },
 "nbformat": 4,
 "nbformat_minor": 2
}
