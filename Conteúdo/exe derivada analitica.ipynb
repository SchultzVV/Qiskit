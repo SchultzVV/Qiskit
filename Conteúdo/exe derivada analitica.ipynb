{
 "cells": [
  {
   "cell_type": "code",
   "execution_count": null,
   "metadata": {},
   "outputs": [],
   "source": [
    "import np as np\n",
    "def getExpectedValue(counts, p, shots):\n",
    "    if '0' in counts and '1' in counts:\n",
    "        exp = np.cos(p)*(counts['0'] - counts['1'])/shots"
   ]
  }
 ],
 "metadata": {
  "language_info": {
   "name": "python"
  },
  "orig_nbformat": 4
 },
 "nbformat": 4,
 "nbformat_minor": 2
}
