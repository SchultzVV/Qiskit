{
 "cells": [
  {
   "cell_type": "markdown",
   "metadata": {},
   "source": [
    "# The density operator"
   ]
  },
  {
   "cell_type": "markdown",
   "metadata": {},
   "source": [
    "Seja ensamble de estados puros $\\{p_i, |\\psi_i\\rangle\\}$. Seu operador densidade segue a definição:\n",
    "* $ \\rho \\equiv \\sum_i p_i |\\psi_i\\rangle\\langle\\psi_i| $.\n",
    "\n",
    "A evolução do operador densidade é descrito pela equação: \n",
    "* $ \\rho = \\sum_i p_i U|\\psi_i\\rangle\\langle\\psi_i|U^\\dagger = U\\rho U^\\dagger $.\n",
    "\n",
    "Supondo que realizemos uma medida descrita pelos operadores de medida $ M_m $ no estado inicial $|\\psi_i\\rangle$, a probabilidade de obter o valor $m$ é:\n",
    "* $ p(m|i) = \\langle\\psi_i|M_{i}^{\\dagger} M_m |\\psi_i\\rangle = tr(M_{i}^{\\dagger} M_m |\\psi_i\\rangle\\langle\\psi_i|) $.\n",
    "* $p(m) = \\sum_i p(m|i)p_i = \\sum_i p_itr(M_{i}^{\\dagger} M_m |\\psi_i\\rangle\\langle\\psi_i|) = tr(M_m^\\dagger M_m \\rho) $"
   ]
  },
  {
   "cell_type": "markdown",
   "metadata": {},
   "source": [
    "## Theorem 2.5 (Characterization of density operators)\n",
    "Para um ensamble $\\{p_i,|\\psi_i\\rangle\\}$, $\\rho$ é um operador densidade se, e somente se obedecer as seguintes condições:\n",
    "* (Traço) O traço de $\\rho$ deve ser igual a 1.\n",
    "* (Positividade) $\\rho$ deve ser um operador positivo.\n",
    "\n",
    "#### Positividade do operador:\n",
    "Suponha que $|\\phi\\rangle$ seja um vetor qualquer do espaço de estados. Então:\n",
    "$$ \\langle \\phi|\\rho|\\phi\\rangle = \\sum_i p_i\\langle\\phi|\\psi_i\\rangle\\langle\\psi_i|\\phi\\rangle$$\n",
    "$$ \\langle \\phi|\\rho|\\phi\\rangle = \\sum_i p_i|\\langle\\phi|\\psi_i\\rangle|^2$$\n",
    "$$ \\langle \\phi|\\rho|\\phi\\rangle \\geq 0$$"
   ]
  },
  {
   "cell_type": "markdown",
   "metadata": {},
   "source": [
    "Consequentemente, se o operdor é positivo ele possui uma decomposição espectral $$\\rho = \\sum_j \\lambda_j|j\\rangle\\langle j|$$ onde os vetores $|j\\rangle$ são ortogonais e $\\lambda j$ são os autovetores reais e positivos de $\\rho$."
   ]
  },
  {
   "cell_type": "markdown",
   "metadata": {},
   "source": [
    "### Exercise 2.71 ( Criterion to decide if a state is mixed or pure"
   ]
  },
  {
   "cell_type": "markdown",
   "metadata": {},
   "source": [
    "__Continue na pagina 103 do MicAnIc__"
   ]
  },
  {
   "cell_type": "markdown",
   "metadata": {},
   "source": []
  }
 ],
 "metadata": {
  "kernelspec": {
   "display_name": "Python 3.10.4 64-bit",
   "language": "python",
   "name": "python3"
  },
  "language_info": {
   "name": "python",
   "version": "3.10.4"
  },
  "orig_nbformat": 4,
  "vscode": {
   "interpreter": {
    "hash": "916dbcbb3f70747c44a77c7bcd40155683ae19c65e1c03b4aa3499c5328201f1"
   }
  }
 },
 "nbformat": 4,
 "nbformat_minor": 2
}
