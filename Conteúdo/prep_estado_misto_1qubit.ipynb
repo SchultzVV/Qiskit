{
 "cells": [
  {
   "cell_type": "code",
   "execution_count": 2,
   "metadata": {},
   "outputs": [],
   "source": [
    "import pennylane as qml\n",
    "import numpy as np\n",
    "import matplotlib.pyplot as plt\n",
    "import torch\n",
    "from torch.autograd import Variable\n",
    "import random"
   ]
  },
  {
   "cell_type": "markdown",
   "metadata": {},
   "source": [
    "A representação mais geral de1 qubit, sendo puro ou misto, é dada por:\n",
    "$$\\rho = \\frac{1}{2}(\\mathcal{I}+a_x\\sigma_x+a_y\\sigma_y+a_z\\sigma_z)\n",
    "$$\n",
    "\n",
    "A função custo será a distancia do vetor da esfera de bloch de cada estado"
   ]
  },
  {
   "cell_type": "code",
   "execution_count": 14,
   "metadata": {},
   "outputs": [
    {
     "name": "stdout",
     "output_type": "stream",
     "text": [
      "state_1 [0.08388578 0.99647538]\n",
      "state_2 [0.11800418 0.9930131 ]\n",
      "misto [[0.00875887 0.09198751]\n",
      " [0.09198751 0.99124113]]\n",
      "pureza 0.9826357052365957\n"
     ]
    }
   ],
   "source": [
    "a = random.random()\n",
    "b = (1-a**2)**0.5\n",
    "c = random.random()\n",
    "d = (1-c**2)**0.5\n",
    "state_1 = np.array([a,b])\n",
    "state_2 = np.array([c,d])\n",
    "\n",
    "dm1 = np.outer(state_1.conj(), state_1)\n",
    "dm2 = np.outer(state_2.conj(), state_2)\n",
    "target_mixed = 0.75*dm1 + 0.25*dm2\n",
    "print('state_1',state_1)\n",
    "print('state_2',state_2)\n",
    "print('misto',target_mixed)\n",
    "print('pureza', np.trace(target_mixed**2))\n"
   ]
  },
  {
   "cell_type": "code",
   "execution_count": 15,
   "metadata": {},
   "outputs": [
    {
     "name": "stdout",
     "output_type": "stream",
     "text": [
      "0.09198751197337562\n",
      "-0j\n",
      "0.017517730199068007\n"
     ]
    }
   ],
   "source": [
    "a_x = 0.5*(target_mixed[0][1] + target_mixed[1][0])\n",
    "a_y = -1j*(a_x - target_mixed[0][1])\n",
    "a_z = 2*target_mixed[0][0]\n",
    "print(a_x)\n",
    "print(a_y)\n",
    "print(a_z)\n",
    "target_vector = np.array([a_x, a_y, a_z])\n",
    "target_vector = torch.tensor(target_vector)"
   ]
  },
  {
   "cell_type": "code",
   "execution_count": null,
   "metadata": {},
   "outputs": [],
   "source": [
    "device = qml.device('qiskit.aer', wires=2, backend='qasm_simulator')\n",
    "params = np.random.normal(0, np.pi/2, (2, 6))\n",
    "params = Variable(torch.tensor(params), requires_grad=True)\n",
    "\n",
    "@qml.qnode(device, interface='torch')\n",
    "def circuit(params, M=None):\n",
    "    qml.Hadamard(wires=0)\n",
    "    qml.RX(params[0][0], wires=0)\n",
    "    qml.RY(params[0][1], wires=0)\n",
    "    qml.RZ(params[0][2], wires=0)\n",
    "    qml.Hadamard(wires=1)\n",
    "    qml.RX(params[1][0], wires=1)\n",
    "    qml.RY(params[1][1], wires=1)\n",
    "    qml.RZ(params[1][2], wires=1)\n"
   ]
  }
 ],
 "metadata": {
  "kernelspec": {
   "display_name": "Python 3.10.6 64-bit",
   "language": "python",
   "name": "python3"
  },
  "language_info": {
   "codemirror_mode": {
    "name": "ipython",
    "version": 3
   },
   "file_extension": ".py",
   "mimetype": "text/x-python",
   "name": "python",
   "nbconvert_exporter": "python",
   "pygments_lexer": "ipython3",
   "version": "3.10.6"
  },
  "orig_nbformat": 4,
  "vscode": {
   "interpreter": {
    "hash": "916dbcbb3f70747c44a77c7bcd40155683ae19c65e1c03b4aa3499c5328201f1"
   }
  }
 },
 "nbformat": 4,
 "nbformat_minor": 2
}
