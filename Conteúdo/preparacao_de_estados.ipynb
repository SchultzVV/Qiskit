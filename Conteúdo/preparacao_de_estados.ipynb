{
 "cells": [
  {
   "cell_type": "code",
   "execution_count": 5,
   "metadata": {},
   "outputs": [],
   "source": [
    "import pennylane as qml\n",
    "import numpy as np\n",
    "import matplotlib.pyplot as plt\n",
    "from torch.autograd import Variable\n",
    "import random\n",
    "import torch"
   ]
  },
  {
   "cell_type": "code",
   "execution_count": 7,
   "metadata": {},
   "outputs": [
    {
     "data": {
      "image/png": "[encoded data removed]",
      "text/plain": [
       "<Figure size 504x144 with 1 Axes>"
      ]
     },
     "metadata": {},
     "output_type": "display_data"
    }
   ],
   "source": [
    "device = qml.device('qiskit.aer',wires=1, backend='qasm_simulator')\n",
    "params = np.random.normal(0, np.pi/2, 3)\n",
    "params = Variable(torch.tensor(params, requires_grad=True))\n",
    "\n",
    "@qml.qnode(device, interface='torch')\n",
    "def circuit(x, M=None):\n",
    "    qml.Hadamard(wires=0)\n",
    "    qml.RX(x[0], wires=0)\n",
    "    qml.RY(x[1], wires=0)\n",
    "    qml.RZ(x[2], wires=0)\n",
    "    return qml.expval(qml.Hermitian(M, wires=[0]))\n",
    "\n",
    "fig, ax = qml.draw_mpl(circuit, decimals=2)(params)\n",
    "plt.show()\n"
   ]
  },
  {
   "cell_type": "code",
   "execution_count": 8,
   "metadata": {},
   "outputs": [
    {
     "name": "stdout",
     "output_type": "stream",
     "text": [
      "[0.69617797 0.71786923]\n",
      "tensor([[0.4847, 0.4998],\n",
      "        [0.4998, 0.5153]], dtype=torch.float64)\n"
     ]
    }
   ],
   "source": [
    "a = random.random()\n",
    "b = (1-a**2)**0.5\n",
    "target_state = np.array([a,b])\n",
    "target_op = np.outer(target_state.conj(), target_state)\n",
    "target_op = torch.tensor(target_op)\n",
    "print(target_state)\n",
    "print(target_op)"
   ]
  },
  {
   "cell_type": "code",
   "execution_count": null,
   "metadata": {},
   "outputs": [],
   "source": []
  }
 ],
 "metadata": {
  "kernelspec": {
   "display_name": "Python 3.9.12 ('base')",
   "language": "python",
   "name": "python3"
  },
  "language_info": {
   "codemirror_mode": {
    "name": "ipython",
    "version": 3
   },
   "file_extension": ".py",
   "mimetype": "text/x-python",
   "name": "python",
   "nbconvert_exporter": "python",
   "pygments_lexer": "ipython3",
   "version": "3.9.13"
  },
  "orig_nbformat": 4,
  "vscode": {
   "interpreter": {
    "hash": "0ed14abce7655850474e63ee7c6c2759d1bab8539f26a9d7ce141d9d93c461cb"
   }
  }
 },
 "nbformat": 4,
 "nbformat_minor": 2
}
