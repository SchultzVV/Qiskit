{
 "cells": [
  {
   "cell_type": "code",
   "execution_count": null,
   "metadata": {},
   "outputs": [],
   "source": [
    "import pennylane as qml\n",
    "from pennylane import numpy as np\n",
    "import matplotlib.pyplot as plt"
   ]
  },
  {
   "cell_type": "code",
   "execution_count": null,
   "metadata": {},
   "outputs": [],
   "source": [
    "from qiskit_textbook.widgets import plot_bloch_vector_spherical\n",
    "theta = 2*np.arccos(c0)\n",
    "target_expectedValue = np.cos(theta)\n",
    "phi = 0\n",
    "coords = [theta, phi, 1]\n",
    "# print(target_expectedValue)\n",
    "plot_bloch_vector_spherical(coords)"
   ]
  },
  {
   "cell_type": "code",
   "execution_count": null,
   "metadata": {},
   "outputs": [],
   "source": [
    "c0 = 1\n",
    "c1 = 0\n",
    "target_state = np.array([[c0],[c1]])\n",
    "print(target_state)"
   ]
  },
  {
   "cell_type": "code",
   "execution_count": null,
   "metadata": {},
   "outputs": [],
   "source": [
    "def vqa_prep(target_state, device):\n",
    "    device = qml.device('qiskit.aer', wires=1, backend='qasm_simulator')\n",
    "    params = np.random.normal(0, np.pi/2, (2), requires_grad=True)\n",
    "    @qml.qnode(device, diff_method='parameter-shift')\n",
    "    def circuit(params):\n",
    "        qml.RX(params[0], wires=0)\n",
    "        qml.RY(params[1], wires=0)\n",
    "\n",
    "        return qml.expval(qml.PauliZ(0))"
   ]
  },
  {
   "cell_type": "code",
   "execution_count": null,
   "metadata": {},
   "outputs": [],
   "source": [
    "device = qml.device('qiskit.aer', wires=1, backend='qasm_simulator')\n",
    "\n",
    "params = np.random.normal(0, np.pi/2, (2), requires_grad=True)\n",
    "\n",
    "@qml.qnode(device, diff_method='parameter-shift')\n",
    "\n",
    "def circuit(params):\n",
    "    qml.RX(params[0], wires=0)\n",
    "    qml.RY(params[1], wires=0)\n",
    "\n",
    "    return qml.expval(qml.PauliZ(0))\n",
    "\n",
    "fig, ax = qml.draw_mpl(circuit, decimals=2)(params)\n",
    "plt.show()"
   ]
  },
  {
   "cell_type": "code",
   "execution_count": null,
   "metadata": {},
   "outputs": [],
   "source": [
    "def loss(params):\n",
    "    L = abs(target_expectedValue - circuit(params))\n",
    "    return L\n",
    "opt = qml.AdamOptimizer(stepsize=0.01)\n",
    "\n",
    "for i in range(256):\n",
    "    print(loss(params), circuit(params), target_expectedValue)\n",
    "    params = opt.step(loss, params)"
   ]
  },
  {
   "cell_type": "code",
   "execution_count": null,
   "metadata": {},
   "outputs": [],
   "source": [
    "from qiskit import QuantumCircuit\n",
    "\n",
    "qc = QuantumCircuit(1)\n",
    "qc.rx(params[0].item(),0)\n",
    "qc.ry(params[1].item(),0)\n",
    "\n",
    "from qiskit.visualization import visualize_transition\n",
    "visualize_transition(qc)"
   ]
  }
 ],
 "metadata": {
  "kernelspec": {
   "display_name": "Python 3.10.4 64-bit",
   "language": "python",
   "name": "python3"
  },
  "language_info": {
   "name": "python",
   "version": "3.10.4"
  },
  "orig_nbformat": 4,
  "vscode": {
   "interpreter": {
    "hash": "916dbcbb3f70747c44a77c7bcd40155683ae19c65e1c03b4aa3499c5328201f1"
   }
  }
 },
 "nbformat": 4,
 "nbformat_minor": 2
}
