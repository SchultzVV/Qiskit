{
 "cells": [
  {
   "cell_type": "code",
   "execution_count": 1,
   "metadata": {},
   "outputs": [],
   "source": [
    "import pennylane as qml\n",
    "from pennylane import numpy as np\n",
    "import matplotlib.pyplot as plt"
   ]
  },
  {
   "cell_type": "code",
   "execution_count": 6,
   "metadata": {},
   "outputs": [],
   "source": [
    "def circuit(params, random_gate_sequence=None, num_qubits=None):\n",
    "    for i in range(num_qubits):\n",
    "        qml.RY(np.pi/4, wires=i)\n",
    "    \n",
    "    for i in range(num_qubits):\n",
    "        random_gate_sequence[i](params[i],wires=i)\n",
    "    \n",
    "    for i in range(num_qubits-1):\n",
    "        qml.CZ(wires=[i, i + 1])\n",
    "    H = np.zeros((2 ** num_qubits, 2 ** num_qubits))\n",
    "    H[0,0] = 1\n",
    "    wirelist = [i for i in range(num_qubits)]\n",
    "    return qml.expval(qml.Hermitian(H, wirelist))\n",
    "    "
   ]
  },
  {
   "cell_type": "code",
   "execution_count": 7,
   "metadata": {},
   "outputs": [
    {
     "name": "stdout",
     "output_type": "stream",
     "text": [
      "1\n"
     ]
    },
    {
     "name": "stderr",
     "output_type": "stream",
     "text": [
      "/home/v/anaconda3/lib/python3.9/site-packages/autograd/tracer.py:14: UserWarning: Output seems independent of input.\n",
      "  warnings.warn(\"Output seems independent of input.\")\n"
     ]
    },
    {
     "ename": "TypeError",
     "evalue": "Can't find vector space for value expval(Hermitian(tensor([[1., 0.],\n        [0., 0.]], requires_grad=True), wires=[0])) of type <class 'pennylane.measurements.MeasurementProcess'>. Valid types are dict_keys([<class 'autograd.core.SparseObject'>, <class 'list'>, <class 'tuple'>, <class 'dict'>, <class 'numpy.ndarray'>, <class 'float'>, <class 'numpy.float64'>, <class 'numpy.float32'>, <class 'numpy.float16'>, <class 'complex'>, <class 'numpy.complex64'>, <class 'numpy.complex128'>, <class 'pennylane.numpy.tensor.tensor'>])",
     "output_type": "error",
     "traceback": [
      "\u001b[0;31m---------------------------------------------------------------------------\u001b[0m",
      "\u001b[0;31mKeyError\u001b[0m                                  Traceback (most recent call last)",
      "File \u001b[0;32m~/anaconda3/lib/python3.9/site-packages/autograd/core.py:233\u001b[0m, in \u001b[0;36mvspace\u001b[0;34m(value)\u001b[0m\n\u001b[1;32m    232\u001b[0m \u001b[39mtry\u001b[39;00m:\n\u001b[0;32m--> 233\u001b[0m     \u001b[39mreturn\u001b[39;00m VSpace\u001b[39m.\u001b[39;49mmappings[\u001b[39mtype\u001b[39;49m(value)](value)\n\u001b[1;32m    234\u001b[0m \u001b[39mexcept\u001b[39;00m \u001b[39mKeyError\u001b[39;00m:\n",
      "\u001b[0;31mKeyError\u001b[0m: <class 'pennylane.measurements.MeasurementProcess'>",
      "\nDuring handling of the above exception, another exception occurred:\n",
      "\u001b[0;31mTypeError\u001b[0m                                 Traceback (most recent call last)",
      "\u001b[1;32m/home/v/Documents/Qiskit/Plateau.ipynb Cell 3\u001b[0m in \u001b[0;36m<cell line: 5>\u001b[0;34m()\u001b[0m\n\u001b[1;32m     <a href='vscode-notebook-cell:/home/v/Documents/Qiskit/Plateau.ipynb#W3sZmlsZQ%3D%3D?line=12'>13</a>\u001b[0m     grad \u001b[39m=\u001b[39m qml\u001b[39m.\u001b[39mgrad(circuit, argnum\u001b[39m=\u001b[39m\u001b[39m0\u001b[39m)\n\u001b[1;32m     <a href='vscode-notebook-cell:/home/v/Documents/Qiskit/Plateau.ipynb#W3sZmlsZQ%3D%3D?line=13'>14</a>\u001b[0m     params \u001b[39m=\u001b[39m np\u001b[39m.\u001b[39mrandom\u001b[39m.\u001b[39muniform(\u001b[39m0\u001b[39m, \u001b[39m2\u001b[39m\u001b[39m*\u001b[39m np\u001b[39m.\u001b[39mpi, size\u001b[39m=\u001b[39mnqubits)\n\u001b[0;32m---> <a href='vscode-notebook-cell:/home/v/Documents/Qiskit/Plateau.ipynb#W3sZmlsZQ%3D%3D?line=14'>15</a>\u001b[0m     gradient \u001b[39m=\u001b[39m grad(params, random_gate_sequence\u001b[39m=\u001b[39;49mgate_sequence, num_qubits\u001b[39m=\u001b[39;49mnqubits)\n\u001b[1;32m     <a href='vscode-notebook-cell:/home/v/Documents/Qiskit/Plateau.ipynb#W3sZmlsZQ%3D%3D?line=15'>16</a>\u001b[0m     grads\u001b[39m.\u001b[39mappend(gradient[\u001b[39m-\u001b[39m\u001b[39m1\u001b[39m])\n\u001b[1;32m     <a href='vscode-notebook-cell:/home/v/Documents/Qiskit/Plateau.ipynb#W3sZmlsZQ%3D%3D?line=17'>18</a>\u001b[0m variances\u001b[39m.\u001b[39mappend(np\u001b[39m.\u001b[39mvar(grads))\n",
      "File \u001b[0;32m~/anaconda3/lib/python3.9/site-packages/pennylane/_grad.py:115\u001b[0m, in \u001b[0;36mgrad.__call__\u001b[0;34m(self, *args, **kwargs)\u001b[0m\n\u001b[1;32m    112\u001b[0m     \u001b[39mself\u001b[39m\u001b[39m.\u001b[39m_forward \u001b[39m=\u001b[39m \u001b[39mself\u001b[39m\u001b[39m.\u001b[39m_fun(\u001b[39m*\u001b[39margs, \u001b[39m*\u001b[39m\u001b[39m*\u001b[39mkwargs)\n\u001b[1;32m    113\u001b[0m     \u001b[39mreturn\u001b[39;00m ()\n\u001b[0;32m--> 115\u001b[0m grad_value, ans \u001b[39m=\u001b[39m grad_fn(\u001b[39m*\u001b[39;49margs, \u001b[39m*\u001b[39;49m\u001b[39m*\u001b[39;49mkwargs)\n\u001b[1;32m    116\u001b[0m \u001b[39mself\u001b[39m\u001b[39m.\u001b[39m_forward \u001b[39m=\u001b[39m ans\n\u001b[1;32m    118\u001b[0m \u001b[39mreturn\u001b[39;00m grad_value\n",
      "File \u001b[0;32m~/anaconda3/lib/python3.9/site-packages/autograd/wrap_util.py:20\u001b[0m, in \u001b[0;36munary_to_nary.<locals>.nary_operator.<locals>.nary_f\u001b[0;34m(*args, **kwargs)\u001b[0m\n\u001b[1;32m     18\u001b[0m \u001b[39melse\u001b[39;00m:\n\u001b[1;32m     19\u001b[0m     x \u001b[39m=\u001b[39m \u001b[39mtuple\u001b[39m(args[i] \u001b[39mfor\u001b[39;00m i \u001b[39min\u001b[39;00m argnum)\n\u001b[0;32m---> 20\u001b[0m \u001b[39mreturn\u001b[39;00m unary_operator(unary_f, x, \u001b[39m*\u001b[39;49mnary_op_args, \u001b[39m*\u001b[39;49m\u001b[39m*\u001b[39;49mnary_op_kwargs)\n",
      "File \u001b[0;32m~/anaconda3/lib/python3.9/site-packages/pennylane/_grad.py:135\u001b[0m, in \u001b[0;36mgrad._grad_with_forward\u001b[0;34m(fun, x)\u001b[0m\n\u001b[1;32m    130\u001b[0m \u001b[39m\"\"\"This function is a replica of ``autograd.grad``, with the only\u001b[39;00m\n\u001b[1;32m    131\u001b[0m \u001b[39mdifference being that it returns both the gradient *and* the forward pass\u001b[39;00m\n\u001b[1;32m    132\u001b[0m \u001b[39mvalue.\"\"\"\u001b[39;00m\n\u001b[1;32m    133\u001b[0m vjp, ans \u001b[39m=\u001b[39m _make_vjp(fun, x)\n\u001b[0;32m--> 135\u001b[0m \u001b[39mif\u001b[39;00m \u001b[39mnot\u001b[39;00m vspace(ans)\u001b[39m.\u001b[39msize \u001b[39m==\u001b[39m \u001b[39m1\u001b[39m:\n\u001b[1;32m    136\u001b[0m     \u001b[39mraise\u001b[39;00m \u001b[39mTypeError\u001b[39;00m(\n\u001b[1;32m    137\u001b[0m         \u001b[39m\"\u001b[39m\u001b[39mGrad only applies to real scalar-output functions. \u001b[39m\u001b[39m\"\u001b[39m\n\u001b[1;32m    138\u001b[0m         \u001b[39m\"\u001b[39m\u001b[39mTry jacobian, elementwise_grad or holomorphic_grad.\u001b[39m\u001b[39m\"\u001b[39m\n\u001b[1;32m    139\u001b[0m     )\n\u001b[1;32m    141\u001b[0m grad_value \u001b[39m=\u001b[39m vjp(vspace(ans)\u001b[39m.\u001b[39mones())\n",
      "File \u001b[0;32m~/anaconda3/lib/python3.9/site-packages/autograd/core.py:238\u001b[0m, in \u001b[0;36mvspace\u001b[0;34m(value)\u001b[0m\n\u001b[1;32m    236\u001b[0m     \u001b[39mreturn\u001b[39;00m vspace(getval(value))\n\u001b[1;32m    237\u001b[0m \u001b[39melse\u001b[39;00m:\n\u001b[0;32m--> 238\u001b[0m     \u001b[39mraise\u001b[39;00m \u001b[39mTypeError\u001b[39;00m(\u001b[39m\"\u001b[39m\u001b[39mCan\u001b[39m\u001b[39m'\u001b[39m\u001b[39mt find vector space for value \u001b[39m\u001b[39m{}\u001b[39;00m\u001b[39m of type \u001b[39m\u001b[39m{}\u001b[39;00m\u001b[39m. \u001b[39m\u001b[39m\"\u001b[39m\n\u001b[1;32m    239\u001b[0m                     \u001b[39m\"\u001b[39m\u001b[39mValid types are \u001b[39m\u001b[39m{}\u001b[39;00m\u001b[39m\"\u001b[39m\u001b[39m.\u001b[39mformat(\n\u001b[1;32m    240\u001b[0m                         value, \u001b[39mtype\u001b[39m(value), VSpace\u001b[39m.\u001b[39mmappings\u001b[39m.\u001b[39mkeys()))\n",
      "\u001b[0;31mTypeError\u001b[0m: Can't find vector space for value expval(Hermitian(tensor([[1., 0.],\n        [0., 0.]], requires_grad=True), wires=[0])) of type <class 'pennylane.measurements.MeasurementProcess'>. Valid types are dict_keys([<class 'autograd.core.SparseObject'>, <class 'list'>, <class 'tuple'>, <class 'dict'>, <class 'numpy.ndarray'>, <class 'float'>, <class 'numpy.float64'>, <class 'numpy.float32'>, <class 'numpy.float16'>, <class 'complex'>, <class 'numpy.complex64'>, <class 'numpy.complex128'>, <class 'pennylane.numpy.tensor.tensor'>])"
     ]
    }
   ],
   "source": [
    "gate_set = [qml.RX, qml.RY, qml.RZ]\n",
    "num_samples = 100\n",
    "\n",
    "variances = list()\n",
    "for nqubits in range(1,8):\n",
    "    print(nqubits)\n",
    "    device = qml.device('qiskit.aer', wires=nqubits, backend='qasm_simulator')\n",
    "\n",
    "    grads = []\n",
    "    for i in range(num_samples):\n",
    "        gate_sequence = {i: np.random.choice(gate_set) for i in range(nqubits)}\n",
    "        qcircuit = qml.QNode(circuit, device)\n",
    "        grad = qml.grad(circuit, argnum=0)\n",
    "        params = np.random.uniform(0, 2* np.pi, size=nqubits)\n",
    "        gradient = grad(params, random_gate_sequence=gate_sequence, num_qubits=nqubits)\n",
    "        grads.append(gradient[-1])\n",
    "    \n",
    "    variances.append(np.var(grads))"
   ]
  },
  {
   "cell_type": "code",
   "execution_count": null,
   "metadata": {},
   "outputs": [],
   "source": []
  }
 ],
 "metadata": {
  "kernelspec": {
   "display_name": "Python 3.9.12 ('base')",
   "language": "python",
   "name": "python3"
  },
  "language_info": {
   "codemirror_mode": {
    "name": "ipython",
    "version": 3
   },
   "file_extension": ".py",
   "mimetype": "text/x-python",
   "name": "python",
   "nbconvert_exporter": "python",
   "pygments_lexer": "ipython3",
   "version": "3.9.12"
  },
  "orig_nbformat": 4,
  "vscode": {
   "interpreter": {
    "hash": "0ed14abce7655850474e63ee7c6c2759d1bab8539f26a9d7ce141d9d93c461cb"
   }
  }
 },
 "nbformat": 4,
 "nbformat_minor": 2
}
