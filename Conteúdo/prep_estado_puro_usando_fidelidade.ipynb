{
 "cells": [
  {
   "cell_type": "code",
   "execution_count": 13,
   "metadata": {},
   "outputs": [],
   "source": [
    "import pennylane as qml\n",
    "import numpy as np\n",
    "import matplotlib.pyplot as plt\n",
    "import torch\n",
    "from torch.autograd import Variable"
   ]
  },
  {
   "cell_type": "code",
   "execution_count": 14,
   "metadata": {},
   "outputs": [
    {
     "ename": "AttributeError",
     "evalue": "partially initialized module 'qiskit' has no attribute '_accelerate' (most likely due to a circular import)",
     "output_type": "error",
     "traceback": [
      "\u001b[0;31m---------------------------------------------------------------------------\u001b[0m",
      "\u001b[0;31mAttributeError\u001b[0m                            Traceback (most recent call last)",
      "\u001b[1;32m/home/v/Desktop/Qiskit/Conteúdo/prep_estado_puro_usando_fidelidade.ipynb Cell 2\u001b[0m in \u001b[0;36m<cell line: 1>\u001b[0;34m()\u001b[0m\n\u001b[0;32m----> <a href='vscode-notebook-cell:/home/v/Desktop/Qiskit/Conte%C3%BAdo/prep_estado_puro_usando_fidelidade.ipynb#W1sZmlsZQ%3D%3D?line=0'>1</a>\u001b[0m device \u001b[39m=\u001b[39m qml\u001b[39m.\u001b[39;49mdevice(\u001b[39m'\u001b[39;49m\u001b[39mqiskit.aer\u001b[39;49m\u001b[39m'\u001b[39;49m, wires\u001b[39m=\u001b[39;49m\u001b[39m1\u001b[39;49m, backend\u001b[39m=\u001b[39;49m\u001b[39m'\u001b[39;49m\u001b[39mqasm_simulator\u001b[39;49m\u001b[39m'\u001b[39;49m)\n\u001b[1;32m      <a href='vscode-notebook-cell:/home/v/Desktop/Qiskit/Conte%C3%BAdo/prep_estado_puro_usando_fidelidade.ipynb#W1sZmlsZQ%3D%3D?line=1'>2</a>\u001b[0m params \u001b[39m=\u001b[39m np\u001b[39m.\u001b[39mrandom\u001b[39m.\u001b[39mnormal(\u001b[39m0\u001b[39m,np\u001b[39m.\u001b[39mpi\u001b[39m/\u001b[39m\u001b[39m2\u001b[39m, \u001b[39m3\u001b[39m)\n\u001b[1;32m      <a href='vscode-notebook-cell:/home/v/Desktop/Qiskit/Conte%C3%BAdo/prep_estado_puro_usando_fidelidade.ipynb#W1sZmlsZQ%3D%3D?line=2'>3</a>\u001b[0m params \u001b[39m=\u001b[39m Variable(torch\u001b[39m.\u001b[39mtensor(params), requires_grad\u001b[39m=\u001b[39m\u001b[39mTrue\u001b[39;00m)\n",
      "File \u001b[0;32m~/.local/lib/python3.10/site-packages/pennylane/__init__.py:311\u001b[0m, in \u001b[0;36mdevice\u001b[0;34m(name, *args, **kwargs)\u001b[0m\n\u001b[1;32m    308\u001b[0m options\u001b[39m.\u001b[39mupdate(kwargs)\n\u001b[1;32m    310\u001b[0m \u001b[39m# loads the device class\u001b[39;00m\n\u001b[0;32m--> 311\u001b[0m plugin_device_class \u001b[39m=\u001b[39m plugin_devices[name]\u001b[39m.\u001b[39;49mload()\n\u001b[1;32m    313\u001b[0m \u001b[39mif\u001b[39;00m Version(version()) \u001b[39mnot\u001b[39;00m \u001b[39min\u001b[39;00m SimpleSpec(plugin_device_class\u001b[39m.\u001b[39mpennylane_requires):\n\u001b[1;32m    314\u001b[0m     \u001b[39mraise\u001b[39;00m DeviceError(\n\u001b[1;32m    315\u001b[0m         \u001b[39mf\u001b[39m\u001b[39m\"\u001b[39m\u001b[39mThe \u001b[39m\u001b[39m{\u001b[39;00mname\u001b[39m}\u001b[39;00m\u001b[39m plugin requires PennyLane versions \u001b[39m\u001b[39m{\u001b[39;00mplugin_device_class\u001b[39m.\u001b[39mpennylane_requires\u001b[39m}\u001b[39;00m\u001b[39m, \u001b[39m\u001b[39m\"\u001b[39m\n\u001b[1;32m    316\u001b[0m         \u001b[39mf\u001b[39m\u001b[39m\"\u001b[39m\u001b[39mhowever PennyLane version \u001b[39m\u001b[39m{\u001b[39;00m__version__\u001b[39m}\u001b[39;00m\u001b[39m is installed.\u001b[39m\u001b[39m\"\u001b[39m\n\u001b[1;32m    317\u001b[0m     )\n",
      "File \u001b[0;32m/usr/lib/python3/dist-packages/pkg_resources/__init__.py:2465\u001b[0m, in \u001b[0;36mEntryPoint.load\u001b[0;34m(self, require, *args, **kwargs)\u001b[0m\n\u001b[1;32m   2463\u001b[0m \u001b[39mif\u001b[39;00m require:\n\u001b[1;32m   2464\u001b[0m     \u001b[39mself\u001b[39m\u001b[39m.\u001b[39mrequire(\u001b[39m*\u001b[39margs, \u001b[39m*\u001b[39m\u001b[39m*\u001b[39mkwargs)\n\u001b[0;32m-> 2465\u001b[0m \u001b[39mreturn\u001b[39;00m \u001b[39mself\u001b[39;49m\u001b[39m.\u001b[39;49mresolve()\n",
      "File \u001b[0;32m/usr/lib/python3/dist-packages/pkg_resources/__init__.py:2471\u001b[0m, in \u001b[0;36mEntryPoint.resolve\u001b[0;34m(self)\u001b[0m\n\u001b[1;32m   2467\u001b[0m \u001b[39mdef\u001b[39;00m \u001b[39mresolve\u001b[39m(\u001b[39mself\u001b[39m):\n\u001b[1;32m   2468\u001b[0m     \u001b[39m\"\"\"\u001b[39;00m\n\u001b[1;32m   2469\u001b[0m \u001b[39m    Resolve the entry point from its module and attrs.\u001b[39;00m\n\u001b[1;32m   2470\u001b[0m \u001b[39m    \"\"\"\u001b[39;00m\n\u001b[0;32m-> 2471\u001b[0m     module \u001b[39m=\u001b[39m \u001b[39m__import__\u001b[39;49m(\u001b[39mself\u001b[39;49m\u001b[39m.\u001b[39;49mmodule_name, fromlist\u001b[39m=\u001b[39;49m[\u001b[39m'\u001b[39;49m\u001b[39m__name__\u001b[39;49m\u001b[39m'\u001b[39;49m], level\u001b[39m=\u001b[39;49m\u001b[39m0\u001b[39;49m)\n\u001b[1;32m   2472\u001b[0m     \u001b[39mtry\u001b[39;00m:\n\u001b[1;32m   2473\u001b[0m         \u001b[39mreturn\u001b[39;00m functools\u001b[39m.\u001b[39mreduce(\u001b[39mgetattr\u001b[39m, \u001b[39mself\u001b[39m\u001b[39m.\u001b[39mattrs, module)\n",
      "File \u001b[0;32m~/.local/lib/python3.10/site-packages/pennylane_qiskit/__init__.py:17\u001b[0m, in \u001b[0;36m<module>\u001b[0;34m\u001b[0m\n\u001b[1;32m     14\u001b[0m \u001b[39m\"\"\"Top level PennyLane-qiskit module\"\"\"\u001b[39;00m\n\u001b[1;32m     16\u001b[0m \u001b[39mfrom\u001b[39;00m \u001b[39m.\u001b[39;00m\u001b[39m_version\u001b[39;00m \u001b[39mimport\u001b[39;00m __version__\n\u001b[0;32m---> 17\u001b[0m \u001b[39mfrom\u001b[39;00m \u001b[39m.\u001b[39;00m\u001b[39maer\u001b[39;00m \u001b[39mimport\u001b[39;00m AerDevice\n\u001b[1;32m     18\u001b[0m \u001b[39mfrom\u001b[39;00m \u001b[39m.\u001b[39;00m\u001b[39mbasic_aer\u001b[39;00m \u001b[39mimport\u001b[39;00m BasicAerDevice\n\u001b[1;32m     19\u001b[0m \u001b[39mfrom\u001b[39;00m \u001b[39m.\u001b[39;00m\u001b[39mibmq\u001b[39;00m \u001b[39mimport\u001b[39;00m IBMQDevice\n",
      "File \u001b[0;32m~/.local/lib/python3.10/site-packages/pennylane_qiskit/aer.py:19\u001b[0m, in \u001b[0;36m<module>\u001b[0;34m\u001b[0m\n\u001b[1;32m      1\u001b[0m \u001b[39m# Copyright 2019 Xanadu Quantum Technologies Inc.\u001b[39;00m\n\u001b[1;32m      2\u001b[0m \n\u001b[1;32m      3\u001b[0m \u001b[39m# Licensed under the Apache License, Version 2.0 (the \"License\");\u001b[39;00m\n\u001b[0;32m   (...)\u001b[0m\n\u001b[1;32m     12\u001b[0m \u001b[39m# See the License for the specific language governing permissions and\u001b[39;00m\n\u001b[1;32m     13\u001b[0m \u001b[39m# limitations under the License.\u001b[39;00m\n\u001b[1;32m     14\u001b[0m \u001b[39m\"\"\"\u001b[39;00m\n\u001b[1;32m     15\u001b[0m \u001b[39mThis module contains the :class:`~.AerDevice` class, a PennyLane device that allows\u001b[39;00m\n\u001b[1;32m     16\u001b[0m \u001b[39mevaluation and differentiation of Qiskit Aer's C++ simulator\u001b[39;00m\n\u001b[1;32m     17\u001b[0m \u001b[39musing PennyLane.\u001b[39;00m\n\u001b[1;32m     18\u001b[0m \u001b[39m\"\"\"\u001b[39;00m\n\u001b[0;32m---> 19\u001b[0m \u001b[39mimport\u001b[39;00m \u001b[39mqiskit\u001b[39;00m\n\u001b[1;32m     21\u001b[0m \u001b[39mfrom\u001b[39;00m \u001b[39m.\u001b[39;00m\u001b[39mqiskit_device\u001b[39;00m \u001b[39mimport\u001b[39;00m QiskitDevice\n\u001b[1;32m     24\u001b[0m \u001b[39mclass\u001b[39;00m \u001b[39mAerDevice\u001b[39;00m(QiskitDevice):\n",
      "File \u001b[0;32m~/.local/lib/python3.10/site-packages/qiskit/__init__.py:27\u001b[0m, in \u001b[0;36m<module>\u001b[0;34m\u001b[0m\n\u001b[1;32m     21\u001b[0m \u001b[39mimport\u001b[39;00m \u001b[39mqiskit\u001b[39;00m\u001b[39m.\u001b[39;00m\u001b[39m_accelerate\u001b[39;00m\n\u001b[1;32m     23\u001b[0m \u001b[39m# Globally define compiled modules. The normal import mechanism will not\u001b[39;00m\n\u001b[1;32m     24\u001b[0m \u001b[39m# find compiled submodules in _accelerate because it relies on file paths\u001b[39;00m\n\u001b[1;32m     25\u001b[0m \u001b[39m# manually define them on import so people can directly import\u001b[39;00m\n\u001b[1;32m     26\u001b[0m \u001b[39m# qiskit._accelerate.* submodules and not have to rely on attribute access\u001b[39;00m\n\u001b[0;32m---> 27\u001b[0m sys\u001b[39m.\u001b[39mmodules[\u001b[39m\"\u001b[39m\u001b[39mqiskit._accelerate.stochastic_swap\u001b[39m\u001b[39m\"\u001b[39m] \u001b[39m=\u001b[39m qiskit\u001b[39m.\u001b[39;49m_accelerate\u001b[39m.\u001b[39mstochastic_swap\n\u001b[1;32m     28\u001b[0m sys\u001b[39m.\u001b[39mmodules[\u001b[39m\"\u001b[39m\u001b[39mqiskit._accelerate.pauli_expval\u001b[39m\u001b[39m\"\u001b[39m] \u001b[39m=\u001b[39m qiskit\u001b[39m.\u001b[39m_accelerate\u001b[39m.\u001b[39mpauli_expval\n\u001b[1;32m     29\u001b[0m sys\u001b[39m.\u001b[39mmodules[\u001b[39m\"\u001b[39m\u001b[39mqiskit._accelerate.dense_layout\u001b[39m\u001b[39m\"\u001b[39m] \u001b[39m=\u001b[39m qiskit\u001b[39m.\u001b[39m_accelerate\u001b[39m.\u001b[39mdense_layout\n",
      "\u001b[0;31mAttributeError\u001b[0m: partially initialized module 'qiskit' has no attribute '_accelerate' (most likely due to a circular import)"
     ]
    }
   ],
   "source": [
    "device = qml.device('qiskit.aer', wires=1, backend='qasm_simulator')\n",
    "params = np.random.normal(0,np.pi/2, 3)\n",
    "params = Variable(torch.tensor(params), requires_grad=True)\n",
    "\n",
    "@qml.qnode(device, interface=\"torch\")\n",
    "def circuit(params, M=None):\n",
    "    qml.Hadamard(wires=0)\n",
    "    qml.RX(params[0], wires=0)\n",
    "    qml.RY(params[1], wires=0)\n",
    "    qml.RZ(params[2], wires=0)\n",
    "    \n",
    "    return qml.expval(qml.Hermitian(M, wires=[0]))\n",
    "fig, ax = qml.draw_mpl(circuit, decimals=2)(params)\n",
    "plt.show()"
   ]
  },
  {
   "cell_type": "code",
   "execution_count": 8,
   "metadata": {},
   "outputs": [
    {
     "name": "stdout",
     "output_type": "stream",
     "text": [
      "[0.73636663 0.67658273]\n",
      "tensor([[0.5422, 0.4982],\n",
      "        [0.4982, 0.4578]], dtype=torch.float64)\n"
     ]
    }
   ],
   "source": [
    "import random\n",
    "a = random.random()\n",
    "b = (1-a**2)**0.5\n",
    "target_state = np.array([a, b])\n",
    "target_op = np.outer(target_state.conj(), target_state)\n",
    "target_op = torch.tensor(target_op)\n",
    "print(target_state)\n",
    "print(target_op)"
   ]
  },
  {
   "cell_type": "code",
   "execution_count": 9,
   "metadata": {},
   "outputs": [],
   "source": [
    "def cost(params):\n",
    "    L = (1-(circuit(params, M=target_op)))**2\n",
    "    return L"
   ]
  },
  {
   "cell_type": "code",
   "execution_count": 10,
   "metadata": {},
   "outputs": [
    {
     "ename": "NameError",
     "evalue": "name 'params' is not defined",
     "output_type": "error",
     "traceback": [
      "\u001b[0;31m---------------------------------------------------------------------------\u001b[0m",
      "\u001b[0;31mNameError\u001b[0m                                 Traceback (most recent call last)",
      "\u001b[1;32m/home/v/Desktop/Qiskit/Conteúdo/prep_estado_puro_usando_fidelidade.ipynb Cell 5\u001b[0m in \u001b[0;36m<cell line: 1>\u001b[0;34m()\u001b[0m\n\u001b[0;32m----> <a href='vscode-notebook-cell:/home/v/Desktop/Qiskit/Conte%C3%BAdo/prep_estado_puro_usando_fidelidade.ipynb#W4sZmlsZQ%3D%3D?line=0'>1</a>\u001b[0m opt \u001b[39m=\u001b[39m torch\u001b[39m.\u001b[39moptim\u001b[39m.\u001b[39mAdam([params], lr\u001b[39m=\u001b[39m\u001b[39m0.1\u001b[39m)\n\u001b[1;32m      <a href='vscode-notebook-cell:/home/v/Desktop/Qiskit/Conte%C3%BAdo/prep_estado_puro_usando_fidelidade.ipynb#W4sZmlsZQ%3D%3D?line=1'>2</a>\u001b[0m best_loss \u001b[39m=\u001b[39m \u001b[39m1\u001b[39m\u001b[39m*\u001b[39mcost(params)\n\u001b[1;32m      <a href='vscode-notebook-cell:/home/v/Desktop/Qiskit/Conte%C3%BAdo/prep_estado_puro_usando_fidelidade.ipynb#W4sZmlsZQ%3D%3D?line=2'>3</a>\u001b[0m best_params \u001b[39m=\u001b[39m \u001b[39m1\u001b[39m\u001b[39m*\u001b[39mparams\n",
      "\u001b[0;31mNameError\u001b[0m: name 'params' is not defined"
     ]
    }
   ],
   "source": [
    "opt = torch.optim.Adam([params], lr=0.1)\n",
    "best_loss = 1*cost(params)\n",
    "best_params = 1*params"
   ]
  },
  {
   "cell_type": "code",
   "execution_count": null,
   "metadata": {},
   "outputs": [
    {
     "name": "stdout",
     "output_type": "stream",
     "text": [
      "0 6.103515625e-05\n",
      "1 9.5367431640625e-05\n",
      "2 0.00011539459228515625\n",
      "3 9.5367431640625e-05\n",
      "4 8.58306884765625e-06\n",
      "5 4.673004150390625e-05\n",
      "6 0.00011539459228515625\n",
      "7 2.384185791015625e-05\n",
      "8 8.58306884765625e-06\n",
      "9 8.58306884765625e-06\n",
      "10 3.4332275390625e-05\n",
      "11 9.5367431640625e-07\n",
      "12 9.5367431640625e-07\n",
      "13 9.5367431640625e-07\n",
      "14 9.5367431640625e-07\n",
      "15 0.0\n",
      "16 0.0\n",
      "17 0.0\n",
      "18 0.0\n",
      "19 0.0\n",
      "20 0.0\n",
      "21 0.0\n",
      "22 3.814697265625e-06\n",
      "23 0.0\n",
      "24 0.0\n"
     ]
    }
   ],
   "source": [
    "fidelity=[]\n",
    "epochs=[]\n",
    "for epoch in range(25):\n",
    "    opt.zero_grad()\n",
    "    loss = cost(params)\n",
    "    print(epoch, loss.item())\n",
    "    loss.backward()\n",
    "    opt.step()\n",
    "    if loss < best_loss:\n",
    "        best_loss = 1*loss\n",
    "        best_params = 1*params\n",
    "    f = circuit(best_params, M=target_op).item()\n",
    "    epochs.append(epoch)\n",
    "    fidelity.append(f)"
   ]
  },
  {
   "cell_type": "code",
   "execution_count": null,
   "metadata": {},
   "outputs": [
    {
     "name": "stdout",
     "output_type": "stream",
     "text": [
      "0.9990234375\n"
     ]
    }
   ],
   "source": [
    "print(circuit(best_params, M=target_op).item())"
   ]
  },
  {
   "cell_type": "code",
   "execution_count": null,
   "metadata": {},
   "outputs": [
    {
     "data": {
      "image/png": "[encoded data removed]",
      "text/plain": [
       "<Figure size 432x288 with 1 Axes>"
      ]
     },
     "metadata": {
      "needs_background": "light"
     },
     "output_type": "display_data"
    }
   ],
   "source": [
    "plt.plot(epochs, fidelity)\n",
    "plt.xlabel('epochs')\n",
    "plt.ylabel('fidelidade')\n",
    "plt.show()"
   ]
  },
  {
   "cell_type": "markdown",
   "metadata": {},
   "source": [
    "Para estados puros, a fidelidade é igual ao quadrado do valor esperado.\n",
    "\n",
    "valor esperado pode ser calculado diretamente do VQA."
   ]
  },
  {
   "cell_type": "code",
   "execution_count": 5,
   "metadata": {},
   "outputs": [
    {
     "ename": "NameError",
     "evalue": "name 'device' is not defined",
     "output_type": "error",
     "traceback": [
      "\u001b[0;31m---------------------------------------------------------------------------\u001b[0m",
      "\u001b[0;31mNameError\u001b[0m                                 Traceback (most recent call last)",
      "\u001b[1;32m/home/v/Desktop/Qiskit/Conteúdo/prep_estado_puro_usando_fidelidade.ipynb Cell 10\u001b[0m in \u001b[0;36m<cell line: 13>\u001b[0;34m()\u001b[0m\n\u001b[1;32m     <a href='vscode-notebook-cell:/home/v/Desktop/Qiskit/Conte%C3%BAdo/prep_estado_puro_usando_fidelidade.ipynb#X12sZmlsZQ%3D%3D?line=9'>10</a>\u001b[0m     target_op \u001b[39m=\u001b[39m torch\u001b[39m.\u001b[39mtensor(target_op)\n\u001b[1;32m     <a href='vscode-notebook-cell:/home/v/Desktop/Qiskit/Conte%C3%BAdo/prep_estado_puro_usando_fidelidade.ipynb#X12sZmlsZQ%3D%3D?line=10'>11</a>\u001b[0m     \u001b[39mreturn\u001b[39;00m target_op, params\n\u001b[0;32m---> <a href='vscode-notebook-cell:/home/v/Desktop/Qiskit/Conte%C3%BAdo/prep_estado_puro_usando_fidelidade.ipynb#X12sZmlsZQ%3D%3D?line=12'>13</a>\u001b[0m \u001b[39m@qml\u001b[39m\u001b[39m.\u001b[39mqnode(device, interface\u001b[39m=\u001b[39m\u001b[39m\"\u001b[39m\u001b[39mtorch\u001b[39m\u001b[39m\"\u001b[39m)\n\u001b[1;32m     <a href='vscode-notebook-cell:/home/v/Desktop/Qiskit/Conte%C3%BAdo/prep_estado_puro_usando_fidelidade.ipynb#X12sZmlsZQ%3D%3D?line=13'>14</a>\u001b[0m \u001b[39mdef\u001b[39;00m \u001b[39mcircuit\u001b[39m(params, M\u001b[39m=\u001b[39m\u001b[39mNone\u001b[39;00m):\n\u001b[1;32m     <a href='vscode-notebook-cell:/home/v/Desktop/Qiskit/Conte%C3%BAdo/prep_estado_puro_usando_fidelidade.ipynb#X12sZmlsZQ%3D%3D?line=14'>15</a>\u001b[0m     qml\u001b[39m.\u001b[39mHadamard(wires\u001b[39m=\u001b[39m\u001b[39m0\u001b[39m)\n\u001b[1;32m     <a href='vscode-notebook-cell:/home/v/Desktop/Qiskit/Conte%C3%BAdo/prep_estado_puro_usando_fidelidade.ipynb#X12sZmlsZQ%3D%3D?line=15'>16</a>\u001b[0m     qml\u001b[39m.\u001b[39mRX(params[\u001b[39m0\u001b[39m], wires\u001b[39m=\u001b[39m\u001b[39m0\u001b[39m)\n",
      "\u001b[0;31mNameError\u001b[0m: name 'device' is not defined"
     ]
    }
   ],
   "source": [
    "def fidelidade(target_op):\n",
    "    return circuit(best_params, M=target_op).item()\n",
    "def init_state_params():\n",
    "    params = np.random.normal(0,np.pi/2, 3)\n",
    "    params = Variable(torch.tensor(params), requires_grad=True)\n",
    "    a = random.random()\n",
    "    b = (1-a**2)**0.5\n",
    "    target_state = np.array([a, b])\n",
    "    target_op = np.outer(target_state.conj(), target_state)\n",
    "    target_op = torch.tensor(target_op)\n",
    "    return target_op, params\n",
    "\n",
    "@qml.qnode(device, interface=\"torch\")\n",
    "def circuit(params, M=None):\n",
    "    qml.Hadamard(wires=0)\n",
    "    qml.RX(params[0], wires=0)\n",
    "    qml.RY(params[1], wires=0)\n",
    "    qml.RZ(params[2], wires=0)\n",
    "    \n",
    "    return qml.expval(qml.Hermitian(M, wires=[0]))\n",
    "\n",
    "def cost(params,target_op):\n",
    "    L = (1-(circuit(params, M=target_op)))**2\n",
    "    return L\n",
    "\n",
    "def train(params,target_op):\n",
    "    opt = torch.optim.Adam([params], lr=0.1)\n",
    "    best_loss = 1*cost(params,target_op)\n",
    "    best_params = 1*params\n",
    "    for epoch in range(32):\n",
    "        opt.zero_grad()\n",
    "        loss = cost(params,target_op)\n",
    "        print(epoch, loss.item())\n",
    "        loss.backward()\n",
    "        opt.step()\n",
    "        if loss < best_loss:\n",
    "            best_loss = 1*loss\n",
    "            best_params = 1*params\n",
    "    return best_params, best_loss\n"
   ]
  },
  {
   "cell_type": "code",
   "execution_count": 4,
   "metadata": {},
   "outputs": [
    {
     "ename": "NameError",
     "evalue": "name 'init_state_params' is not defined",
     "output_type": "error",
     "traceback": [
      "\u001b[0;31m---------------------------------------------------------------------------\u001b[0m",
      "\u001b[0;31mNameError\u001b[0m                                 Traceback (most recent call last)",
      "\u001b[1;32m/home/v/Desktop/Qiskit/Conteúdo/prep_estado_puro_usando_fidelidade.ipynb Cell 11\u001b[0m in \u001b[0;36m<cell line: 2>\u001b[0;34m()\u001b[0m\n\u001b[1;32m      <a href='vscode-notebook-cell:/home/v/Desktop/Qiskit/Conte%C3%BAdo/prep_estado_puro_usando_fidelidade.ipynb#X13sZmlsZQ%3D%3D?line=0'>1</a>\u001b[0m fidelidade_media\u001b[39m=\u001b[39m\u001b[39m0\u001b[39m\n\u001b[1;32m      <a href='vscode-notebook-cell:/home/v/Desktop/Qiskit/Conte%C3%BAdo/prep_estado_puro_usando_fidelidade.ipynb#X13sZmlsZQ%3D%3D?line=1'>2</a>\u001b[0m \u001b[39mfor\u001b[39;00m i \u001b[39min\u001b[39;00m \u001b[39mrange\u001b[39m(\u001b[39m10\u001b[39m):\n\u001b[0;32m----> <a href='vscode-notebook-cell:/home/v/Desktop/Qiskit/Conte%C3%BAdo/prep_estado_puro_usando_fidelidade.ipynb#X13sZmlsZQ%3D%3D?line=2'>3</a>\u001b[0m     target_op, params \u001b[39m=\u001b[39m init_state_params()\n\u001b[1;32m      <a href='vscode-notebook-cell:/home/v/Desktop/Qiskit/Conte%C3%BAdo/prep_estado_puro_usando_fidelidade.ipynb#X13sZmlsZQ%3D%3D?line=3'>4</a>\u001b[0m     best_params, best_loss \u001b[39m=\u001b[39m train(params,target_op)\n\u001b[1;32m      <a href='vscode-notebook-cell:/home/v/Desktop/Qiskit/Conte%C3%BAdo/prep_estado_puro_usando_fidelidade.ipynb#X13sZmlsZQ%3D%3D?line=4'>5</a>\u001b[0m     fidelidade_media \u001b[39m+\u001b[39m\u001b[39m=\u001b[39m fidelidade(target_op)\n",
      "\u001b[0;31mNameError\u001b[0m: name 'init_state_params' is not defined"
     ]
    }
   ],
   "source": [
    "fidelidade_media=0\n",
    "for i in range(10):\n",
    "    target_op, params = init_state_params()\n",
    "    best_params, best_loss = train(params,target_op)\n",
    "    fidelidade_media += fidelidade(target_op)\n",
    "fidelidade_media = fidelidade_media/100\n",
    "print(fidelidade_media)"
   ]
  },
  {
   "cell_type": "code",
   "execution_count": 3,
   "metadata": {},
   "outputs": [
    {
     "ename": "NameError",
     "evalue": "name 'fidelity' is not defined",
     "output_type": "error",
     "traceback": [
      "\u001b[0;31m---------------------------------------------------------------------------\u001b[0m",
      "\u001b[0;31mNameError\u001b[0m                                 Traceback (most recent call last)",
      "\u001b[1;32m/home/v/Desktop/Qiskit/Conteúdo/prep_estado_puro_usando_fidelidade.ipynb Cell 12\u001b[0m in \u001b[0;36m<cell line: 1>\u001b[0;34m()\u001b[0m\n\u001b[0;32m----> <a href='vscode-notebook-cell:/home/v/Desktop/Qiskit/Conte%C3%BAdo/prep_estado_puro_usando_fidelidade.ipynb#X14sZmlsZQ%3D%3D?line=0'>1</a>\u001b[0m x\u001b[39m=\u001b[39mnp\u001b[39m.\u001b[39mlinspace(\u001b[39m0\u001b[39m,\u001b[39mlen\u001b[39m(fidelity),\u001b[39mlen\u001b[39m(fidelity))\n\u001b[1;32m      <a href='vscode-notebook-cell:/home/v/Desktop/Qiskit/Conte%C3%BAdo/prep_estado_puro_usando_fidelidade.ipynb#X14sZmlsZQ%3D%3D?line=1'>2</a>\u001b[0m plt\u001b[39m.\u001b[39mplot(x, fidelity)\n\u001b[1;32m      <a href='vscode-notebook-cell:/home/v/Desktop/Qiskit/Conte%C3%BAdo/prep_estado_puro_usando_fidelidade.ipynb#X14sZmlsZQ%3D%3D?line=2'>3</a>\u001b[0m plt\u001b[39m.\u001b[39mxlabel(\u001b[39m'\u001b[39m\u001b[39mestados puros\u001b[39m\u001b[39m'\u001b[39m)\n",
      "\u001b[0;31mNameError\u001b[0m: name 'fidelity' is not defined"
     ]
    }
   ],
   "source": [
    "x=np.linspace(0,len(fidelity),len(fidelity))\n",
    "plt.plot(x, fidelity)\n",
    "plt.xlabel('estados puros')\n",
    "plt.ylabel('fidelidade')\n",
    "plt.show()"
   ]
  },
  {
   "cell_type": "code",
   "execution_count": null,
   "metadata": {},
   "outputs": [],
   "source": []
  }
 ],
 "metadata": {
  "kernelspec": {
   "display_name": "Python 3.10.6 64-bit",
   "language": "python",
   "name": "python3"
  },
  "language_info": {
   "codemirror_mode": {
    "name": "ipython",
    "version": 3
   },
   "file_extension": ".py",
   "mimetype": "text/x-python",
   "name": "python",
   "nbconvert_exporter": "python",
   "pygments_lexer": "ipython3",
   "version": "3.10.6"
  },
  "orig_nbformat": 4,
  "vscode": {
   "interpreter": {
    "hash": "31f2aee4e71d21fbe5cf8b01ff0e069b9275f58929596ceb00d14d90e3e16cd6"
   }
  }
 },
 "nbformat": 4,
 "nbformat_minor": 2
}
