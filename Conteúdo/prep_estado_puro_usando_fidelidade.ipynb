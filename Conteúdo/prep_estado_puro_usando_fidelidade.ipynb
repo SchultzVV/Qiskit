{
 "cells": [
  {
   "cell_type": "code",
   "execution_count": 2,
   "metadata": {},
   "outputs": [],
   "source": [
    "import pennylane as qml\n",
    "import numpy as np\n",
    "import matplotlib.pyplot as plt\n",
    "import torch\n",
    "from torch.autograd import Variable"
   ]
  },
  {
   "cell_type": "code",
   "execution_count": 3,
   "metadata": {},
   "outputs": [
    {
     "data": {
      "image/png": "[encoded data removed]",
      "text/plain": [
       "<Figure size 504x144 with 1 Axes>"
      ]
     },
     "metadata": {},
     "output_type": "display_data"
    }
   ],
   "source": [
    "device = qml.device('qiskit.aer', wires=3, backend='qasm_simulator')\n",
    "params = np.random.normal(0,np.pi/2, 3)\n",
    "params = Variable(torch.tensor(params), requires_grad=True)\n",
    "\n",
    "@qml.qnode(device, interface=\"torch\")\n",
    "def circuit(params, M=None):\n",
    "    qml.Hadamard(wires=0)\n",
    "    qml.RX(params[0], wires=0)\n",
    "    qml.RY(params[1], wires=0)\n",
    "    qml.RZ(params[2], wires=0)\n",
    "    \n",
    "    return qml.expval(qml.Hermitian(M, wires=[0]))\n",
    "fig, ax = qml.draw_mpl(circuit, decimals=2)(params)\n",
    "plt.show()"
   ]
  },
  {
   "cell_type": "code",
   "execution_count": 4,
   "metadata": {},
   "outputs": [
    {
     "name": "stdout",
     "output_type": "stream",
     "text": [
      "[0.53313827 0.84602812]\n",
      "tensor([[0.2842, 0.4510],\n",
      "        [0.4510, 0.7158]], dtype=torch.float64)\n"
     ]
    }
   ],
   "source": [
    "import random\n",
    "a = random.random()\n",
    "b = (1-a**2)**0.5\n",
    "target_state = np.array([a, b])\n",
    "target_op = np.outer(target_state.conj(), target_state)\n",
    "target_op = torch.tensor(target_op)\n",
    "print(target_state)\n",
    "print(target_op)"
   ]
  },
  {
   "cell_type": "code",
   "execution_count": 5,
   "metadata": {},
   "outputs": [],
   "source": [
    "def cost(params):\n",
    "    L = (1-(circuit(params, M=target_op)))**2\n",
    "    return L"
   ]
  },
  {
   "cell_type": "code",
   "execution_count": 6,
   "metadata": {},
   "outputs": [],
   "source": [
    "opt = torch.optim.Adam([params], lr=0.1)\n",
    "best_loss = 1*cost(params)\n",
    "best_params = 1*params"
   ]
  },
  {
   "cell_type": "code",
   "execution_count": 7,
   "metadata": {},
   "outputs": [
    {
     "name": "stdout",
     "output_type": "stream",
     "text": [
      "0 tensor(0.0190, dtype=torch.float64, grad_fn=<PowBackward0>)\n",
      "1 tensor(0.0103, dtype=torch.float64, grad_fn=<PowBackward0>)\n",
      "2 tensor(0.0061, dtype=torch.float64, grad_fn=<PowBackward0>)\n",
      "3 tensor(0.0033, dtype=torch.float64, grad_fn=<PowBackward0>)\n",
      "4 tensor(0.0010, dtype=torch.float64, grad_fn=<PowBackward0>)\n",
      "5 tensor(0.0002, dtype=torch.float64, grad_fn=<PowBackward0>)\n",
      "6 tensor(3.4332e-05, dtype=torch.float64, grad_fn=<PowBackward0>)\n",
      "7 tensor(3.8147e-06, dtype=torch.float64, grad_fn=<PowBackward0>)\n",
      "8 tensor(0., dtype=torch.float64, grad_fn=<PowBackward0>)\n",
      "9 tensor(0., dtype=torch.float64, grad_fn=<PowBackward0>)\n",
      "10 tensor(1.5259e-05, dtype=torch.float64, grad_fn=<PowBackward0>)\n",
      "11 tensor(0.0002, dtype=torch.float64, grad_fn=<PowBackward0>)\n",
      "12 tensor(9.5367e-05, dtype=torch.float64, grad_fn=<PowBackward0>)\n",
      "13 tensor(0.0003, dtype=torch.float64, grad_fn=<PowBackward0>)\n",
      "14 tensor(0.0004, dtype=torch.float64, grad_fn=<PowBackward0>)\n",
      "15 tensor(0.0011, dtype=torch.float64, grad_fn=<PowBackward0>)\n",
      "16 tensor(0.0007, dtype=torch.float64, grad_fn=<PowBackward0>)\n",
      "17 tensor(0.0015, dtype=torch.float64, grad_fn=<PowBackward0>)\n",
      "18 tensor(0.0011, dtype=torch.float64, grad_fn=<PowBackward0>)\n",
      "19 tensor(0.0011, dtype=torch.float64, grad_fn=<PowBackward0>)\n",
      "20 tensor(0.0007, dtype=torch.float64, grad_fn=<PowBackward0>)\n",
      "21 tensor(0.0005, dtype=torch.float64, grad_fn=<PowBackward0>)\n",
      "22 tensor(0.0005, dtype=torch.float64, grad_fn=<PowBackward0>)\n",
      "23 tensor(0.0002, dtype=torch.float64, grad_fn=<PowBackward0>)\n",
      "24 tensor(0.0002, dtype=torch.float64, grad_fn=<PowBackward0>)\n",
      "25 tensor(2.3842e-05, dtype=torch.float64, grad_fn=<PowBackward0>)\n",
      "26 tensor(3.4332e-05, dtype=torch.float64, grad_fn=<PowBackward0>)\n",
      "27 tensor(2.3842e-05, dtype=torch.float64, grad_fn=<PowBackward0>)\n",
      "28 tensor(8.5831e-06, dtype=torch.float64, grad_fn=<PowBackward0>)\n",
      "29 tensor(3.8147e-06, dtype=torch.float64, grad_fn=<PowBackward0>)\n",
      "30 tensor(0., dtype=torch.float64, grad_fn=<PowBackward0>)\n",
      "31 tensor(0., dtype=torch.float64, grad_fn=<PowBackward0>)\n"
     ]
    }
   ],
   "source": [
    "fidelity=[]\n",
    "epochs=[]\n",
    "for epoch in range(32):\n",
    "    f = circuit(best_params, M=target_op).item()\n",
    "    opt.zero_grad()\n",
    "    loss = cost(params)\n",
    "    print(epoch, loss)\n",
    "    loss.backward()\n",
    "    opt.step()\n",
    "    fidelity.append(f)\n",
    "    epochs.append(epoch)\n",
    "    if loss < best_loss:\n",
    "        best_loss = 1*loss\n",
    "        best_params = 1*params"
   ]
  },
  {
   "cell_type": "code",
   "execution_count": 20,
   "metadata": {},
   "outputs": [
    {
     "name": "stdout",
     "output_type": "stream",
     "text": [
      "0.9999999999999999\n"
     ]
    }
   ],
   "source": [
    "print(circuit(best_params, M=target_op).item())"
   ]
  },
  {
   "cell_type": "code",
   "execution_count": 22,
   "metadata": {},
   "outputs": [
    {
     "data": {
      "image/png": "[encoded data removed]",
      "text/plain": [
       "<Figure size 640x480 with 1 Axes>"
      ]
     },
     "metadata": {},
     "output_type": "display_data"
    }
   ],
   "source": [
    "plt.plot(epochs, fidelity)\n",
    "plt.xlabel('epochs')\n",
    "plt.ylabel('fidelidade')\n",
    "plt.show()"
   ]
  },
  {
   "cell_type": "code",
   "execution_count": null,
   "metadata": {},
   "outputs": [],
   "source": []
  }
 ],
 "metadata": {
  "kernelspec": {
   "display_name": "Python 3.9.12 ('base')",
   "language": "python",
   "name": "python3"
  },
  "language_info": {
   "codemirror_mode": {
    "name": "ipython",
    "version": 3
   },
   "file_extension": ".py",
   "mimetype": "text/x-python",
   "name": "python",
   "nbconvert_exporter": "python",
   "pygments_lexer": "ipython3",
   "version": "3.9.12"
  },
  "orig_nbformat": 4,
  "vscode": {
   "interpreter": {
    "hash": "0ed14abce7655850474e63ee7c6c2759d1bab8539f26a9d7ce141d9d93c461cb"
   }
  }
 },
 "nbformat": 4,
 "nbformat_minor": 2
}
