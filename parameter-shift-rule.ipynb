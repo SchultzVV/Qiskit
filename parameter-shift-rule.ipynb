{
 "cells": [
  {
   "cell_type": "markdown",
   "metadata": {},
   "source": [
    "### Parameter shift rule"
   ]
  },
  {
   "cell_type": "markdown",
   "metadata": {},
   "source": [
    "Considerando uma porta do tipo $U(\\theta) = e^{-ik\\theta G}$, com o valor esperado $<M> = \\langle\\psi_0|U^\\dagger M U|\\psi_0\\rangle$, temos"
   ]
  },
  {
   "cell_type": "markdown",
   "metadata": {},
   "source": [
    "$$\\frac{d}{d\\theta}<M> =  \\langle\\psi_0|\\frac{d}{d\\theta}U^\\dagger M U|\\psi_0\\rangle + \\langle\\psi_0|U^\\dagger M \\frac{d}{d\\theta}U|\\psi_0\\rangle\n",
    "$$\n",
    "$$\\frac{d}{d\\theta}<M> = \\langle\\psi_0|(ik)U^\\dagger G M U|\\psi_0\\rangle + \\langle\\psi_0|U^\\dagger M (-ik)UG|\\psi_0\\rangle\n",
    "$$\n",
    "Após algumas manipulações:\n",
    "$$\\frac{d}{d\\theta}<M> =  ik \\langle\\psi_0|U^\\dagger [G,M] U|\\psi_0\\rangle\n",
    "$$\n"
   ]
  },
  {
   "cell_type": "markdown",
   "metadata": {},
   "source": [
    "Se G for umm operador de Pauli, podemos usar a seguinte identidade:\n",
    "$$[G,M] = -i\\left(U^\\dagger(\\pi/2) MU(\\pi/2) - U^\\dagger(-\\pi/2) MU(-\\pi/2)\\right)\n",
    "$$\n"
   ]
  },
  {
   "cell_type": "markdown",
   "metadata": {},
   "source": [
    "$$\\frac{d}{d\\theta}<M> =  ik \\langle\\psi_0|U^\\dagger -i\\left(U^\\dagger(\\pi/2) MU(\\pi/2) - U^\\dagger(-\\pi/2) MU(-\\pi/2)\\right) U|\\psi_0\\rangle\n",
    "$$\n",
    "$$\\frac{d}{d\\theta}<M> =  k \\langle\\psi_0|U^\\dagger(\\theta) \\left(U^\\dagger(\\pi/2) MU(\\pi/2) - U^\\dagger(-\\pi/2) MU(-\\pi/2)\\right) U(\\theta)|\\psi_0\\rangle\n",
    "$$\n",
    "$$\\frac{d}{d\\theta}<M> =  k \\langle\\psi_0|U^\\dagger(\\theta+\\pi/2) MU(\\theta+\\pi/2) - U^\\dagger(\\theta-\\pi/2) MU(\\theta-\\pi/2)|\\psi_0\\rangle\n",
    "$$\n",
    "$$\\frac{d}{d\\theta}<M> =  k \\langle\\psi_0|U^\\dagger(\\theta+\\pi/2) MU(\\theta+\\pi/2)|\\psi_0\\rangle - k \\langle\\psi_0|U^\\dagger(\\theta-\\pi/2) MU(\\theta-\\pi/2)|\\psi_0\\rangle\n",
    "$$"
   ]
  },
  {
   "cell_type": "code",
   "execution_count": null,
   "metadata": {},
   "outputs": [],
   "source": []
  },
  {
   "cell_type": "code",
   "execution_count": null,
   "metadata": {},
   "outputs": [],
   "source": []
  }
 ],
 "metadata": {
  "kernelspec": {
   "display_name": "Python 3.10.4 64-bit",
   "language": "python",
   "name": "python3"
  },
  "language_info": {
   "name": "python",
   "version": "3.10.4"
  },
  "orig_nbformat": 4,
  "vscode": {
   "interpreter": {
    "hash": "916dbcbb3f70747c44a77c7bcd40155683ae19c65e1c03b4aa3499c5328201f1"
   }
  }
 },
 "nbformat": 4,
 "nbformat_minor": 2
}
