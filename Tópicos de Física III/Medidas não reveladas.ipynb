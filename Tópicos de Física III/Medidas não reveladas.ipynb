{
 "cells": [
  {
   "cell_type": "markdown",
   "metadata": {},
   "source": [
    "# Medidas não reveladas"
   ]
  },
  {
   "cell_type": "code",
   "execution_count": 2,
   "metadata": {},
   "outputs": [
    {
     "name": "stderr",
     "output_type": "stream",
     "text": [
      "/home/v/anaconda3/lib/python3.8/site-packages/requests/__init__.py:89: RequestsDependencyWarning: urllib3 (1.26.6) or chardet (4.0.0) doesn't match a supported version!\n",
      "  warnings.warn(\"urllib3 ({}) or chardet ({}) doesn't match a supported \"\n",
      "/home/v/anaconda3/lib/python3.8/site-packages/qiskit/providers/ibmq/ibmqfactory.py:192: UserWarning: Timestamps in IBMQ backend properties, jobs, and job results are all now in local time instead of UTC.\n",
      "  warnings.warn('Timestamps in IBMQ backend properties, jobs, and job results '\n"
     ]
    }
   ],
   "source": [
    "from qiskit.ignis.verification.tomography import state_tomography_circuits, StateTomographyFitter\n",
    "from qiskit.tools.monitor import job_monitor\n",
    "import math;from qiskit.tools.visualization import plot_histogram\n",
    "import numpy as np;from qiskit.tools.monitor import backend_overview, backend_monitor\n",
    "import matplotlib.pyplot as plt\n",
    "from qiskit.quantum_info import Statevector\n",
    "import qiskit\n",
    "from qiskit import *\n",
    "qiskit.IBMQ.save_account('7cc830e0cb005ce6de9caf9c402a1992c5d38d25af4237c19e72a4c58ce204481eb7a0d08b9929e5b5d3028f3146c38d2da8f2eb8db8f6f8b02a97eeb8fbc6de', \n",
    "                  overwrite = True)\n",
    "qiskit.IBMQ.load_account()\n",
    "provider = qiskit.IBMQ.get_provider(hub='ibm-q', group='open', project='main')\n",
    "simulator = Aer.get_backend('qasm_simulator')\n",
    "device = provider.get_backend('ibmq_lima')#ibmq_belem')\n",
    "nshots = 8192"
   ]
  },
  {
   "cell_type": "code",
   "execution_count": 4,
   "metadata": {},
   "outputs": [],
   "source": [
    "def pTraceL_num(dl, dr, rhoLR):\n",
    "    # Returns the left partial trace over the 'left' subsystem of rhoLR\n",
    "    rhoR = np.zeros((dr, dr), dtype=complex)\n",
    "    for j in range(0, dr):\n",
    "        for k in range(j, dr):\n",
    "            for l in range(0, dl):\n",
    "                rhoR[j,k] += rhoLR[l*dr+j,l*dr+k]\n",
    "            if j != k:\n",
    "                rhoR[k,j] = np.conj(rhoR[j,k])\n",
    "    return rhoR"
   ]
  },
  {
   "cell_type": "code",
   "execution_count": 5,
   "metadata": {},
   "outputs": [
    {
     "data": {
      "text/plain": [
       "array([[9.98874563e-01+0.j        , 6.54983545e-05-0.00270983j],\n",
       "       [6.54983545e-05+0.00270983j, 1.12543720e-03+0.j        ]])"
      ]
     },
     "execution_count": 5,
     "metadata": {},
     "output_type": "execute_result"
    }
   ],
   "source": [
    "# Exercício: Preparar um estado de 1 qubit de sua escolha e \n",
    "# implementar uma medida não seletiva na base computacional.\n",
    "\n",
    "qr = qiskit.QuantumRegister(2); qc = qiskit.QuantumCircuit(qr)\n",
    "qc.cx(0,1)\n",
    "qstc = state_tomography_circuits(qc, [qr[0],qr[1]]); # circuito para TEQ\n",
    "job = qiskit.execute(qstc, qiskit.Aer.get_backend('qasm_simulator'), shots=nshots) # executa no simulador\n",
    "qstf = StateTomographyFitter(job.result(), qstc) # ajusta os dados\n",
    "rhoBA = qstf.fit(method='lstsq'); rhoA = pTraceL_num(2, 2, rhoBA); rhoA"
   ]
  },
  {
   "cell_type": "code",
   "execution_count": 7,
   "metadata": {},
   "outputs": [
    {
     "data": {
      "image/png": "[encoded data removed]",
      "text/plain": [
       "<Figure size 280.323x144.48 with 1 Axes>"
      ]
     },
     "execution_count": 7,
     "metadata": {},
     "output_type": "execute_result"
    }
   ],
   "source": [
    "# Exercício: Preparar um estado de 1 qubit de sua escolha e \n",
    "# implementar uma medida não seletiva na base {|+>,|->}.\n",
    "\n",
    "qr = qiskit.QuantumRegister(2); qc = qiskit.QuantumCircuit(qr)\n",
    "qc.h(0)\n",
    "qc.cx(0,1)\n",
    "qc.h(0)\n",
    "qc.draw(output='mpl')"
   ]
  },
  {
   "cell_type": "code",
   "execution_count": 9,
   "metadata": {},
   "outputs": [
    {
     "data": {
      "text/plain": [
       "array([[0.49829686+0.j        , 0.00057359-0.00115788j],\n",
       "       [0.00057359+0.00115788j, 0.50170314+0.j        ]])"
      ]
     },
     "execution_count": 9,
     "metadata": {},
     "output_type": "execute_result"
    }
   ],
   "source": [
    "#--------- REALIZA A TOMOGRAFIA DE ESTADOS QUANTICOS -----------------------\n",
    "qstc = state_tomography_circuits(qc, [qr[0],qr[1]]); # circuito para TEQ\n",
    "job = qiskit.execute(qstc, qiskit.Aer.get_backend('qasm_simulator'), shots=nshots) # executa no simulador\n",
    "qstf = StateTomographyFitter(job.result(), qstc) # ajusta os dados\n",
    "rhoBA = qstf.fit(method='lstsq'); rhoA = pTraceL_num(2, 2, rhoBA); rhoA"
   ]
  },
  {
   "cell_type": "code",
   "execution_count": 19,
   "metadata": {},
   "outputs": [
    {
     "data": {
      "image/png": "[encoded data removed]",
      "text/plain": [
       "<Figure size 400.723x144.48 with 1 Axes>"
      ]
     },
     "execution_count": 19,
     "metadata": {},
     "output_type": "execute_result"
    }
   ],
   "source": [
    "qr = qiskit.QuantumRegister(2); qc = qiskit.QuantumCircuit(qr)\n",
    "#qc.h(0)\n",
    "qc.x(0)\n",
    "qc.barrier()\n",
    "qc.h(0)\n",
    "qc.cx(0,1)\n",
    "qc.h(0)\n",
    "qc.draw(output='mpl')"
   ]
  },
  {
   "cell_type": "code",
   "execution_count": 20,
   "metadata": {},
   "outputs": [
    {
     "data": {
      "text/plain": [
       "array([[0.50361753+0.j        , 0.00275333+0.00328353j],\n",
       "       [0.00275333-0.00328353j, 0.49638247+0.j        ]])"
      ]
     },
     "execution_count": 20,
     "metadata": {},
     "output_type": "execute_result"
    }
   ],
   "source": [
    "qstc = state_tomography_circuits(qc, [qr[0],qr[1]]); # circuito para TEQ\n",
    "job = qiskit.execute(qstc, qiskit.Aer.get_backend('qasm_simulator'), shots=nshots) # executa no simulador\n",
    "qstf = StateTomographyFitter(job.result(), qstc) # ajusta os dados\n",
    "rhoBA = qstf.fit(method='lstsq'); rhoA = pTraceL_num(2, 2, rhoBA); rhoA"
   ]
  },
  {
   "cell_type": "code",
   "execution_count": null,
   "metadata": {},
   "outputs": [],
   "source": []
  }
 ],
 "metadata": {
  "kernelspec": {
   "display_name": "Python 3",
   "language": "python",
   "name": "python3"
  },
  "language_info": {
   "codemirror_mode": {
    "name": "ipython",
    "version": 3
   },
   "file_extension": ".py",
   "mimetype": "text/x-python",
   "name": "python",
   "nbconvert_exporter": "python",
   "pygments_lexer": "ipython3",
   "version": "3.8.3"
  }
 },
 "nbformat": 4,
 "nbformat_minor": 4
}
