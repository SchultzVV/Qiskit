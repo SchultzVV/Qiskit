{
 "cells": [
  {
   "cell_type": "code",
   "execution_count": 3,
   "metadata": {},
   "outputs": [
    {
     "name": "stderr",
     "output_type": "stream",
     "text": [
      "/home/v/anaconda3/lib/python3.8/site-packages/requests/__init__.py:89: RequestsDependencyWarning: urllib3 (1.26.7) or chardet (4.0.0) doesn't match a supported version!\n",
      "  warnings.warn(\"urllib3 ({}) or chardet ({}) doesn't match a supported \"\n"
     ]
    }
   ],
   "source": [
    "%run init.ipynb"
   ]
  },
  {
   "cell_type": "code",
   "execution_count": 11,
   "metadata": {},
   "outputs": [
    {
     "data": {
      "image/png": "[encoded data removed]",
      "text/plain": [
       "<Figure size 146.652x204.68 with 1 Axes>"
      ]
     },
     "execution_count": 11,
     "metadata": {},
     "output_type": "execute_result"
    }
   ],
   "source": [
    "qc = qiskit.QuantumCircuit(2)\n",
    "qr=QuantumRegister(1)\n",
    "qc.h(0)\n",
    "qc.draw(output='mpl')\n"
   ]
  },
  {
   "cell_type": "code",
   "execution_count": 12,
   "metadata": {},
   "outputs": [
    {
     "name": "stderr",
     "output_type": "stream",
     "text": [
      "WARNING: circuit does not contain measured QuantumRegister: q0\n",
      "WARNING: circuit does not contain prepared QuantumRegister: q0\n"
     ]
    },
    {
     "data": {
      "text/plain": [
       "array([[9.99944428e-01+0.j        , 7.44546145e-03-0.00036617j],\n",
       "       [7.44546145e-03+0.00036617j, 5.55720651e-05+0.j        ]])"
      ]
     },
     "execution_count": 12,
     "metadata": {},
     "output_type": "execute_result"
    }
   ],
   "source": [
    "# Determina de qual circuito e de qual qubit fazer TEQ\n",
    "qstc = state_tomography_circuits(qc,qr[0])\n",
    "# No. de medidas pra estimar cada dist. de probabilidade\n",
    "nshots = 8192\n",
    "job = qiskit.execute(qstc, Aer.get_backend('qasm_simulator'), shots=nshots)\n",
    "# 'ajusta' os resultados conforme o esperado do circuit qst\n",
    "qstf = StateTomographyFitter(job.result(), qstc)\n",
    "# extrai o operador densidade tomografado\n",
    "rho = qstf.fit(method='lstsq')\n",
    "# note que o que retorna é um array do numpy\n",
    "rho"
   ]
  },
  {
   "cell_type": "code",
   "execution_count": null,
   "metadata": {},
   "outputs": [],
   "source": [
    "# grafica a parte real de um estado de um qubit\n",
    "def plot_rho1qb(rho):\n",
    "    from mpl_toolkits.mplot3d import Axes3D\n",
    "    from matplotlib import cm\n",
    "    result = [rho[0,0], rho[0,1], rho[1,0], rho[1,1]]\n",
    "    result = np.array(result, dtype=float)\n",
    "    fig = plt.figure(figsize=(5, 5), dpi=100)\n",
    "    ax1 = fig.add_subplot(111, projection='3d')\n",
    "    xlabels = np.array([r'$|0\\rangle$', r'$|1\\rangle$']); xpos = np.arange(xlabels.shape[0])\n",
    "    ylabels = np.array([r'$|1\\rangle$', r'$|0\\rangle$']); ypos = np.arange(ylabels.shape[0])\n",
    "    xposM, yposM = np.meshgrid(xpos, ypos, copy=False); zpos = result\n",
    "    dx = 0.5; dy = 0.5; dz = zpos\n",
    "    ax1.set_xlim(0, 1.5); ax1.set_ylim(0, 1.5); ax1.set_zlim(-1, 1)\n",
    "    ax1.w_xaxis.set_ticks(xpos + dx/2.0); ax1.w_xaxis.set_ticklabels(xlabels)\n",
    "    ax1.w_yaxis.set_ticks(ypos + dy/2.0); ax1.w_yaxis.set_ticklabels(ylabels)\n",
    "    values = np.linspace(0.2, 1.0, xposM.ravel().shape[0]); colors = cm.rainbow(values)\n",
    "    ax1.bar3d(xposM.ravel(), yposM.ravel(), dz*0, dx, dy, dz, color=colors)\n",
    "    plt.show()"
   ]
  },
  {
   "cell_type": "code",
   "execution_count": null,
   "metadata": {},
   "outputs": [],
   "source": [
    "plot_rho1qb(rho.imag)"
   ]
  },
  {
   "cell_type": "code",
   "execution_count": null,
   "metadata": {},
   "outputs": [],
   "source": [
    "# carrega minha conta no IBMQ (o ID foi incluido no outro arquivo, nao precisa incluir aqui)\n",
    "qiskit.IBMQ.load_account();\n",
    "#provider = IBMQ.get_provider('ibm-q')\n",
    "provider = IBMQ.get_provider(hub = 'ibm-q-research-2', group = 'federal-uni-sant-1', project = 'main')\n",
    "# determina em qual backend vamos executar o circuito\n",
    "device = provider.get_backend('ibmq_quito')\n",
    "# para monitorar a execucao\n",
    "from qiskit.tools.monitor import job_monitor\n",
    "# executa os circuitos para TEQ no chip\n",
    "job = qiskit.execute(qstc, backend = device, shots = nshots)\n",
    "print(job.job_id()); job_monitor(job)"
   ]
  },
  {
   "cell_type": "code",
   "execution_count": null,
   "metadata": {},
   "outputs": [],
   "source": [
    "# 'ajusta' os resultados conforme o esperado do circuit qst\n",
    "qstf = StateTomographyFitter(job.result(), qstc)\n",
    "# extrai o operador densidade tomografado\n",
    "rho = qstf.fit(method='lstsq'); rho"
   ]
  },
  {
   "cell_type": "code",
   "execution_count": null,
   "metadata": {},
   "outputs": [],
   "source": [
    "plot_rho1qb(rho.real)"
   ]
  },
  {
   "cell_type": "code",
   "execution_count": null,
   "metadata": {},
   "outputs": [],
   "source": [
    "plot_rho1qb(rho.imag)"
   ]
  },
  {
   "cell_type": "code",
   "execution_count": null,
   "metadata": {},
   "outputs": [],
   "source": []
  },
  {
   "cell_type": "code",
   "execution_count": null,
   "metadata": {},
   "outputs": [],
   "source": []
  },
  {
   "cell_type": "code",
   "execution_count": null,
   "metadata": {},
   "outputs": [],
   "source": []
  },
  {
   "cell_type": "code",
   "execution_count": null,
   "metadata": {},
   "outputs": [],
   "source": []
  },
  {
   "cell_type": "code",
   "execution_count": null,
   "metadata": {},
   "outputs": [],
   "source": []
  },
  {
   "cell_type": "code",
   "execution_count": null,
   "metadata": {},
   "outputs": [],
   "source": []
  },
  {
   "cell_type": "code",
   "execution_count": null,
   "metadata": {},
   "outputs": [],
   "source": []
  },
  {
   "cell_type": "code",
   "execution_count": null,
   "metadata": {},
   "outputs": [],
   "source": []
  },
  {
   "cell_type": "code",
   "execution_count": null,
   "metadata": {},
   "outputs": [],
   "source": []
  },
  {
   "cell_type": "code",
   "execution_count": null,
   "metadata": {},
   "outputs": [],
   "source": []
  },
  {
   "cell_type": "code",
   "execution_count": null,
   "metadata": {},
   "outputs": [],
   "source": []
  },
  {
   "cell_type": "code",
   "execution_count": null,
   "metadata": {},
   "outputs": [],
   "source": []
  },
  {
   "cell_type": "code",
   "execution_count": null,
   "metadata": {},
   "outputs": [],
   "source": []
  },
  {
   "cell_type": "code",
   "execution_count": null,
   "metadata": {},
   "outputs": [],
   "source": []
  },
  {
   "cell_type": "code",
   "execution_count": null,
   "metadata": {},
   "outputs": [],
   "source": []
  },
  {
   "cell_type": "code",
   "execution_count": null,
   "metadata": {},
   "outputs": [],
   "source": []
  },
  {
   "cell_type": "code",
   "execution_count": null,
   "metadata": {},
   "outputs": [],
   "source": []
  },
  {
   "cell_type": "code",
   "execution_count": null,
   "metadata": {},
   "outputs": [],
   "source": []
  }
 ],
 "metadata": {
  "kernelspec": {
   "display_name": "Python 3",
   "language": "python",
   "name": "python3"
  },
  "language_info": {
   "codemirror_mode": {
    "name": "ipython",
    "version": 3
   },
   "file_extension": ".py",
   "mimetype": "text/x-python",
   "name": "python",
   "nbconvert_exporter": "python",
   "pygments_lexer": "ipython3",
   "version": "3.8.3"
  }
 },
 "nbformat": 4,
 "nbformat_minor": 4
}
