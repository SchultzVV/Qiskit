{
 "cells": [
  {
   "cell_type": "code",
   "execution_count": null,
   "metadata": {},
   "outputs": [],
   "source": []
  },
  {
   "cell_type": "markdown",
   "metadata": {},
   "source": [
    "# Cálculos analíticos envolvidos com o protocolo\n",
    "    \n",
    "    "
   ]
  },
  {
   "cell_type": "markdown",
   "metadata": {},
   "source": [
    "A base computacional\n",
    "$$\\begin{align*}\n",
    "    &|0\\rangle =  \\begin{bmatrix}\n",
    "    1 \\\\\n",
    "    0 \\\\\n",
    "    \\end{bmatrix}\\\\\n",
    "    &|1\\rangle =  \\begin{bmatrix}\n",
    "    0 \\\\\n",
    "    1 \\\\\n",
    "    \\end{bmatrix}\n",
    "\\end{align*}$$"
   ]
  },
  {
   "cell_type": "markdown",
   "metadata": {},
   "source": [
    "Nesse circuito encontram-se:\n",
    "* __Haddammard__\n",
    "$$\\begin{align*}\n",
    "    &H= \\left(\\frac{1}{\\sqrt{2}}\\right)\\begin{bmatrix}\n",
    "    1 & 1 \\\\\n",
    "    1 & -1 \\\\\n",
    "    \\end{bmatrix}\\\\\n",
    " \\end{align*}$$\n",
    "*  __ControlNot__\n",
    "\n",
    " $C_x^{ct}$ onde c=(qubit de controle) e t=(qubit que sofre a ação da porta).\n",
    " $$\\begin{align*}\n",
    "    &C^{01}_{x}= \\begin{bmatrix}\n",
    "    1 & 0 & 0 & 0\\\\\n",
    "    0 & 1 & 0 & 0\\\\\n",
    "    0 & 0 & 0 & 1\\\\\n",
    "    0 & 0 & 1 & 0\\\\\n",
    "    \\end{bmatrix}\\\\\n",
    " \\end{align*}$$"
   ]
  },
  {
   "cell_type": "markdown",
   "metadata": {},
   "source": [
    "__Cálculos do experimento__\n",
    "$$\n",
    "|\\psi_0\\rangle = |0\\rangle\\otimes|0\\rangle\\otimes|0\\rangle\\otimes|0\\rangle\\otimes = |0000\\rangle\n",
    "$$\n",
    "$$\n",
    "H^{0}|\\psi_0\\rangle = H|0000\\rangle = \\left(|0000\\rangle+|0001\\rangle\\right)\\frac{1}{\\sqrt{2}}\n",
    "$$\n",
    "$$\n",
    "C^{01}H^{0}|\\psi_0\\rangle = \\left(|0000\\rangle+|0011\\rangle\\right)\\frac{1}{\\sqrt{2}}\n",
    "$$\n",
    "$$\n",
    "H^{2}C^{01}H^{0}|\\psi_0\\rangle = \\left(|0000\\rangle+|0011\\rangle+|0100\\rangle+|0111\\rangle\\right)\\frac{1}{2}\n",
    "$$\n",
    "$$\n",
    "C^{23}H^{2}C^{01}H^{0}|\\psi_0\\rangle = \\left(|0000\\rangle+|0011\\rangle+|1100\\rangle+|1111\\rangle\\right)\\frac{1}{2}\n",
    "$$\n",
    "$$\n",
    "H^{1}C^{23}H^{2}C^{01}H^{0}|\\psi_0\\rangle = \\left(|0000\\rangle+|0010\\rangle+|0001\\rangle-|0011\\rangle+|1100\\rangle+|1110+|1101\\rangle-|1111\\rangle\\right)\\frac{1}{2\\sqrt{2}}\n",
    "$$"
   ]
  },
  {
   "cell_type": "markdown",
   "metadata": {},
   "source": [
    "Então temos o seguinte estado, após as portas:\n",
    "$$\n",
    "|\\psi\\rangle = \\left(|0000\\rangle+|0010\\rangle+|0001\\rangle-|0011\\rangle+|1100\\rangle+|1110+|1101\\rangle-|1111\\rangle\\right)\\frac{1}{2\\sqrt{2}}\n",
    "$$\n",
    "#### As seguintes identidades serão úteis \n",
    "$$\n",
    "\\begin{cases}\n",
    "    &|00\\rangle =\\left(|\\Phi^+\\rangle+|\\Phi^-\\rangle\\right)\\frac{1}{\\sqrt{2}}\\\\\n",
    "    &|01\\rangle =\\left(|\\Psi^+\\rangle+|\\Psi^-\\rangle\\right)\\frac{1}{\\sqrt{2}}\\\\\n",
    "    &|10\\rangle =\\left(|\\Psi^+\\rangle-|\\Psi^-\\rangle\\right)\\frac{1}{\\sqrt{2}}\\\\\n",
    "    &|11\\rangle =\\left(|\\Phi^+\\rangle-|\\Phi^-\\rangle\\right)\\frac{1}{\\sqrt{2}}\\\\\n",
    "\\end{cases}\n",
    "$$\n",
    "$$\\begin{cases}\n",
    "|B_{00}\\rangle := |\\Phi_{+}\\rangle = \\frac{1}{\\sqrt{2}}\\big(|00\\rangle + |11\\rangle\\big), \\\\\n",
    "|B_{01}\\rangle := |\\Psi_{+}\\rangle = \\frac{1}{\\sqrt{2}}\\big(|01\\rangle + |10\\rangle\\big), \\\\\n",
    "|B_{10}\\rangle := |\\Phi_{-}\\rangle = \\frac{1}{\\sqrt{2}}\\big(|00\\rangle - |11\\rangle\\big), \\\\\n",
    "|B_{11}\\rangle := |\\Psi_{-}\\rangle = \\frac{1}{\\sqrt{2}}\\big(|01\\rangle - |10\\rangle\\big).\n",
    "\\end{cases}\n",
    "$$\n",
    "\n",
    "E com isso podemos reescrever o estado $|\\psi\\rangle$ usando essas identidades nos qubits 1 e 2.\n",
    "\n",
    "$$\n",
    "|\\psi\\rangle = \\left(|0000\\rangle+|0010\\rangle+|0001\\rangle-|0011\\rangle+|1100\\rangle+|1110+|1101\\rangle-|1111\\rangle\\right)\\frac{1}{2\\sqrt{2}}\n",
    "$$"
   ]
  }
 ],
 "metadata": {
  "language_info": {
   "name": "python"
  },
  "orig_nbformat": 4
 },
 "nbformat": 4,
 "nbformat_minor": 2
}
