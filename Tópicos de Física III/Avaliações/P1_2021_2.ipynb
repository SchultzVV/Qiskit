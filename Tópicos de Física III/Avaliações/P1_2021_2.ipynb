{
 "cells": [
  {
   "cell_type": "code",
   "execution_count": 1,
   "id": "2d0026f9",
   "metadata": {},
   "outputs": [],
   "source": [
    "import qiskit\n",
    "from qiskit import *\n",
    "from qiskit import QuantumCircuit, execute\n",
    "from qiskit.providers.aer import QasmSimulator\n",
    "import qiskit.quantum_info as qi\n",
    "%matplotlib inline"
   ]
  },
  {
   "cell_type": "code",
   "execution_count": 2,
   "id": "c13122a9",
   "metadata": {},
   "outputs": [],
   "source": [
    "from qiskit.tools.monitor import backend_overview, backend_monitor\n",
    "#qiskit.__qiskit_version__\n",
    "qiskit.IBMQ.save_account('7cc830e0cb005ce6de9caf9c402a1992c5d38d25af4237c19e72a4c58ce204481eb7a0d08b9929e5b5d3028f3146c38d2da8f2eb8db8f6f8b02a97eeb8fbc6de', \n",
    "                  overwrite = True)\n",
    "qiskit.IBMQ.load_account();"
   ]
  },
  {
   "cell_type": "markdown",
   "id": "1ffd2e87",
   "metadata": {},
   "source": [
    "### Universidade Federal de Santa Maria, CCNE, Departamento de Física <br> FSC835 - TÓPICOS ESPECIAIS EM FÍSICA III (Computação Quântica com Qiskit) <br> Prof. Jonas Maziero, Semestre 2021/2, Data: 11 de janeiro de 2022\n",
    "\n",
    "# Avaliação I"
   ]
  },
  {
   "cell_type": "markdown",
   "id": "496435e5",
   "metadata": {},
   "source": [
    "$1.$ No IBMQ temos medidas prontas somente do observável $Z$, cuja base de autovetores é a base padrão: $\\{|0\\rangle,|1\\rangle\\}$. Mas vamos considerar que precisamos medir um observável qualquer,\n",
    "$$\\hat{n}\\cdot\\vec{\\sigma} = \\begin{bmatrix}\n",
    "\\cos\\theta & e^{-i\\phi}\\sin\\theta \\\\\n",
    "e^{i\\phi}\\sin\\theta & -\\cos\\theta \\\\\n",
    "\\end{bmatrix},$$\n",
    "de um qubit, com $\\theta\\in[0,\\pi]$ e $\\phi\\in[0,2\\pi)$. Os autovetores de $\\hat{n}\\cdot\\vec{\\sigma}$ são\n",
    "\\begin{cases}\n",
    "|n_{+}\\rangle = \\cos(\\theta/2)|0\\rangle + e^{i\\phi}\\sin(\\theta/2)|1\\rangle, \\\\\n",
    "|n_{-}\\rangle = e^{-i\\phi}\\sin(\\theta/2)|0\\rangle - \\cos(\\theta/2)|1\\rangle.\n",
    "\\end{cases}\n",
    "Usando a porta lógica \n",
    "$$U(\\theta,\\phi,\\lambda) = \\begin{bmatrix} \\cos(\\theta/2) & -e^{i\\lambda}\\sin(\\theta/2) \\\\ e^{i\\phi}\\sin(\\theta/2) & e^{i(\\phi+\\lambda)}\\cos(\\theta/2) \\end{bmatrix},$$\n",
    "verifique que\n",
    "\\begin{cases}\n",
    "U(\\theta,\\phi,\\pi-\\phi)|0\\rangle = |n_{+}\\rangle, \\\\\n",
    "U(\\theta,\\phi,\\pi-\\phi)|1\\rangle = |n_{-}\\rangle.\n",
    "\\end{cases}\n",
    "Verifique também que $U^{\\dagger}(\\theta,\\phi,\\lambda) = U(\\theta,\\pi-\\lambda,-\\pi-\\phi)$. Partindo desses resultados, verifique que\n",
    "\\begin{cases}\n",
    "Pr(n_{+}|\\psi) = Pr(0|\\psi'), \\\\\n",
    "Pr(n_{-}|\\psi) = Pr(1|\\psi'),\n",
    "\\end{cases}\n",
    "com \n",
    "$$|\\psi'\\rangle = U^{\\dagger}(\\theta,\\phi,\\pi-\\phi)|\\psi\\rangle.$$\n",
    "Ou seja, se queremos medir $\\hat{n}\\cdot\\vec{\\sigma}$ para um sistema preparado no estado $|\\psi\\rangle$, podemos fazer isso aplicando primeiro $U^{\\dagger}(\\theta,\\phi,\\pi-\\phi)$ nesse estado e depois medindo $Z$."
   ]
  },
  {
   "cell_type": "markdown",
   "id": "344b8acc",
   "metadata": {},
   "source": [
    "# 1"
   ]
  },
  {
   "cell_type": "markdown",
   "id": "d6bd1c13",
   "metadata": {},
   "source": [
    "$$\\text{verificando}$$\n",
    "$$U(\\theta,\\phi,\\lambda) = \\begin{bmatrix} \\cos(\\theta/2) & -e^{i\\lambda}\\sin(\\theta/2) \\\\ e^{i\\phi}\\sin(\\theta/2) & e^{i(\\phi+\\lambda)}\\cos(\\theta/2) \\end{bmatrix}$$\n",
    "\n",
    "\n",
    "$$U(\\theta,\\phi,\\pi-\\phi)|0\\rangle = \\begin{bmatrix} \\cos(\\theta/2) & -e^{i\\pi-\\phi}\\sin(\\theta/2) \\\\ e^{i\\phi}\\sin(\\theta/2) & e^{i(\\phi+\\pi-\\phi)}\\cos(\\theta/2) \\end{bmatrix}\\begin{bmatrix} \n",
    "1\\\\\n",
    "0\\\\\n",
    "\\end{bmatrix} = \\begin{bmatrix} \\cos(\\theta/2) \\\\ e^{i\\phi}\\sin(\\theta/2)\\end{bmatrix} =  |n_{+}\\rangle\n",
    "$$\n"
   ]
  },
  {
   "cell_type": "markdown",
   "id": "d7b6002a",
   "metadata": {},
   "source": [
    "\n",
    "$$U(\\theta,\\phi,\\pi-\\phi)|1\\rangle = \\begin{bmatrix} \\cos(\\theta/2) & e^{-i\\phi}\\sin(\\theta/2) \\\\ e^{i\\phi}\\sin(\\theta/2) & -\\cos(\\theta/2) \\end{bmatrix}\\begin{bmatrix} \n",
    "0\\\\\n",
    "1\\\\\n",
    "\\end{bmatrix} = \\begin{bmatrix} e^{i\\phi}\\sin(\\theta/2) \\\\ -\\cos(\\theta/2)\\end{bmatrix} =  |n_{-}\\rangle\n",
    "$$"
   ]
  },
  {
   "cell_type": "markdown",
   "id": "bfbc22f6",
   "metadata": {},
   "source": [
    "$$\\text{verificando}$$\n",
    "$$U^{\\dagger}(\\theta,\\phi,\\lambda) = U(\\theta,\\pi-\\lambda,-\\pi-\\phi)$$\n",
    "$$U^\\dagger(\\theta,\\phi,\\lambda) = \\begin{bmatrix} \\cos(\\theta/2) & e^{-i\\phi}\\sin(\\theta/2) \\\\ -e^{-i\\lambda}\\sin(\\theta/2) & e^{-i(\\phi+\\lambda)}\\cos(\\theta/2) \\end{bmatrix}$$"
   ]
  },
  {
   "cell_type": "markdown",
   "id": "aa28cac2",
   "metadata": {},
   "source": [
    "\n",
    "$$U(\\theta,\\pi-\\lambda,-\\pi-\\phi) = \\begin{bmatrix} \\cos(\\theta/2) & -e^{i(-\\pi-\\phi)}\\sin(\\theta/2) \\\\ e^{i(\\pi-\\lambda))}\\sin(\\theta/2) & e^{i(\\pi-\\lambda-\\pi-\\phi)}\\cos(\\theta/2) \\end{bmatrix}$$\n",
    "\n",
    "$$U(\\theta,\\pi-\\lambda,-\\pi-\\phi) = \\begin{bmatrix} \\cos(\\theta/2) & e^{-i\\phi)}\\sin(\\theta/2) \\\\ -e^{-i\\lambda}\\sin(\\theta/2) & e^{-i(\\phi+\\lambda)}\\cos(\\theta/2) \\end{bmatrix},$$\n"
   ]
  },
  {
   "cell_type": "markdown",
   "id": "e9863a77",
   "metadata": {},
   "source": [
    "$$\\text{verificando}$$\n",
    "\n",
    "\\begin{cases}\n",
    "Pr(n_{+}|\\psi) = Pr(0|\\psi'), \\\\\n",
    "Pr(n_{-}|\\psi) = Pr(1|\\psi'),\n",
    "\\end{cases}"
   ]
  },
  {
   "cell_type": "markdown",
   "id": "4d7010f7",
   "metadata": {},
   "source": [
    "$$Pr(n_+,\\Psi) = |(|\\Psi\\rangle,|n_+\\rangle)|^2\n",
    "= |(|\\Psi\\rangle,U|0\\rangle)|^2\n",
    "= |(U^\\dagger|\\Psi\\rangle,|0\\rangle)|^2\n",
    "= |(|\\Psi'\\rangle,|0\\rangle)|^2\n",
    "$$\n",
    "$$Pr(n_-,\\Psi) = |(|\\Psi\\rangle,|n_-\\rangle)|^2\n",
    "= |(|\\Psi\\rangle,U|1\\rangle)|^2\n",
    "= |(U^\\dagger|\\Psi\\rangle,|1\\rangle)|^2\n",
    "= |(|\\Psi'\\rangle,|1\\rangle)|^2\n",
    "$$\n",
    "\n",
    "Ou seja se temos um estado em uma base diferente da base de $\\{|0\\rangle ,|1\\rangle\\}$ vamos alterar este estado para $|\\Psi'\\rangle$ antes de efetuar a medida. "
   ]
  },
  {
   "cell_type": "markdown",
   "id": "a9ae8e27",
   "metadata": {},
   "source": [
    "$2.$ Considere um qubit preparado no estado $|+\\rangle=(|0\\rangle+|1\\rangle)/\\sqrt{2}$ e uma medida do observável $O = (X+Z)/\\sqrt{2}$. Calcule analiticamente as probabilidades dos diferentes valores de $O$. Além disso, com base nos resultados obtidos na questão anterior, simule e implemente experimentalmente a preparação de $|+\\rangle$ e a medida de $O$ para estimar as probabilidades dos possíveis valores de $O$."
   ]
  },
  {
   "cell_type": "markdown",
   "id": "fcfd67d9",
   "metadata": {},
   "source": [
    "# 2"
   ]
  },
  {
   "cell_type": "code",
   "execution_count": 3,
   "id": "94100940",
   "metadata": {},
   "outputs": [
    {
     "data": {
      "image/png": "[encoded data removed]",
      "text/plain": [
       "<Figure size 146.507x84.28 with 1 Axes>"
      ]
     },
     "execution_count": 3,
     "metadata": {},
     "output_type": "execute_result"
    }
   ],
   "source": [
    "qr = QuantumRegister(1)\n",
    "qc = QuantumCircuit(qr)\n",
    "qc.h(0)\n",
    "qc.draw(output='mpl')"
   ]
  },
  {
   "cell_type": "code",
   "execution_count": 4,
   "id": "10da95d3",
   "metadata": {
    "scrolled": false
   },
   "outputs": [
    {
     "data": {
      "text/latex": [
       "$$\\frac{\\sqrt{2}}{2} |0\\rangle+\\frac{\\sqrt{2}}{2} |1\\rangle$$"
      ],
      "text/plain": [
       "<IPython.core.display.Latex object>"
      ]
     },
     "execution_count": 4,
     "metadata": {},
     "output_type": "execute_result"
    }
   ],
   "source": [
    "def print_state(qc):\n",
    "    stv1 = qi.Statevector.from_instruction(qc)\n",
    "    sim = QasmSimulator();options = {'method': 'statevector'}\n",
    "    execute(qc, sim, backend_options=options)\n",
    "    return stv1.draw('latex', prefix='Statevector1:')\n",
    "\n",
    "print_state(qc)"
   ]
  },
  {
   "cell_type": "code",
   "execution_count": 5,
   "id": "ab2d1410",
   "metadata": {},
   "outputs": [
    {
     "data": {
      "image/png": "[encoded data removed]",
      "text/plain": [
       "<Figure size 297.479x144.48 with 1 Axes>"
      ]
     },
     "execution_count": 5,
     "metadata": {},
     "output_type": "execute_result"
    }
   ],
   "source": [
    "circuit_with_results=qc\n",
    "circuit_with_results.measure_all()\n",
    "circuit_with_results.draw(output='mpl')"
   ]
  },
  {
   "cell_type": "code",
   "execution_count": 6,
   "id": "ba7a2243",
   "metadata": {},
   "outputs": [
    {
     "name": "stdout",
     "output_type": "stream",
     "text": [
      "{'0': 510, '1': 490}\n"
     ]
    },
    {
     "data": {
      "image/png": "[encoded data removed]",
      "text/plain": [
       "<Figure size 504x360 with 1 Axes>"
      ]
     },
     "execution_count": 6,
     "metadata": {},
     "output_type": "execute_result"
    }
   ],
   "source": [
    "from qiskit.visualization import plot_histogram\n",
    "# execute the quantum circuit_with_results\n",
    "backend = BasicAer.get_backend('qasm_simulator') # the device to run on\n",
    "\n",
    "result = backend.run(transpile(circuit_with_results, backend), shots=1000).result()\n",
    "counts  = result.get_counts(circuit_with_results)\n",
    "print(counts)\n",
    "plot_histogram(counts)"
   ]
  },
  {
   "cell_type": "markdown",
   "id": "9b7975b1",
   "metadata": {},
   "source": [
    "Vamos encontrar a matriz U que realiza a mesma operação que a porta H:\n",
    "\n",
    "$$U(\\theta,\\phi,\\lambda) = \\begin{bmatrix} \\cos(\\theta/2) & -e^{i\\lambda}\\sin(\\theta/2) \\\\ e^{i\\phi}\\sin(\\theta/2) & e^{i(\\phi+\\lambda)}\\cos(\\theta/2) \\end{bmatrix}$$\n",
    "\n",
    "\n",
    "$$U(\\theta,\\phi,\\lambda) = \\begin{bmatrix} \\frac{1}{\\sqrt{2}} & \\frac{1}{\\sqrt{2}} \\\\ \\frac{1}{\\sqrt{2}} & -\\frac{1}{\\sqrt{2}} \\end{bmatrix}\\quad\\rightarrow \\quad U(?,?,?) $$\n",
    "\n",
    "\\begin{cases}\n",
    "\\theta = \\pi/2 \\\\\n",
    "\\phi = 0\\\\\n",
    "\\lambda = \\pi\n",
    "\\end{cases}"
   ]
  },
  {
   "cell_type": "code",
   "execution_count": 13,
   "id": "53c586d5",
   "metadata": {},
   "outputs": [
    {
     "data": {
      "image/png": "[encoded data removed]",
      "text/plain": [
       "<Figure size 159.923x84.28 with 1 Axes>"
      ]
     },
     "execution_count": 13,
     "metadata": {},
     "output_type": "execute_result"
    }
   ],
   "source": [
    "import math\n",
    "import numpy as np\n",
    "qr = QuantumRegister(1)\n",
    "qc = QuantumCircuit(qr)\n",
    "qc.u(np.pi/2,0,np.pi,0)\n",
    "qc.draw(output='mpl')"
   ]
  },
  {
   "cell_type": "code",
   "execution_count": 14,
   "id": "8573236a",
   "metadata": {},
   "outputs": [
    {
     "data": {
      "text/latex": [
       "$$\\frac{\\sqrt{2}}{2} |0\\rangle+\\frac{\\sqrt{2}}{2} |1\\rangle$$"
      ],
      "text/plain": [
       "<IPython.core.display.Latex object>"
      ]
     },
     "execution_count": 14,
     "metadata": {},
     "output_type": "execute_result"
    }
   ],
   "source": [
    "def print_state(qc):\n",
    "    stv1 = qi.Statevector.from_instruction(qc)\n",
    "    sim = QasmSimulator();options = {'method': 'statevector'}\n",
    "    execute(qc, sim, backend_options=options)\n",
    "    return stv1.draw('latex', prefix='Statevector1:')\n",
    "\n",
    "print_state(qc)"
   ]
  },
  {
   "cell_type": "code",
   "execution_count": 15,
   "id": "0fc9d4ca",
   "metadata": {},
   "outputs": [
    {
     "data": {
      "image/png": "[encoded data removed]",
      "text/plain": [
       "<Figure size 297.479x144.48 with 1 Axes>"
      ]
     },
     "execution_count": 15,
     "metadata": {},
     "output_type": "execute_result"
    }
   ],
   "source": [
    "circuit_with_results=qc\n",
    "circuit_with_results.measure_all()\n",
    "circuit_with_results.draw(output='mpl')"
   ]
  },
  {
   "cell_type": "code",
   "execution_count": 16,
   "id": "f168c218",
   "metadata": {},
   "outputs": [
    {
     "name": "stdout",
     "output_type": "stream",
     "text": [
      "{'0': 501, '1': 499}\n"
     ]
    },
    {
     "data": {
      "image/png": "[encoded data removed]",
      "text/plain": [
       "<Figure size 504x360 with 1 Axes>"
      ]
     },
     "execution_count": 16,
     "metadata": {},
     "output_type": "execute_result"
    }
   ],
   "source": [
    "from qiskit.visualization import plot_histogram\n",
    "# execute the quantum circuit_with_results\n",
    "backend = BasicAer.get_backend('qasm_simulator') # the device to run on\n",
    "\n",
    "result = backend.run(transpile(circuit_with_results, backend), shots=1000).result()\n",
    "counts  = result.get_counts(circuit_with_results)\n",
    "print(counts)\n",
    "plot_histogram(counts)"
   ]
  },
  {
   "cell_type": "code",
   "execution_count": 11,
   "id": "1f9fbdb0",
   "metadata": {},
   "outputs": [
    {
     "name": "stdout",
     "output_type": "stream",
     "text": [
      "Job Status: job has successfully run\n"
     ]
    }
   ],
   "source": [
    "provider = qiskit.IBMQ.get_provider(hub='ibm-q', group='open', project='main')\n",
    "device = provider.get_backend('ibmq_lima')#ibmq_belem')\n",
    "\n",
    "job=execute(circuit_with_results,backend=device,shots = 8192)\n",
    "from qiskit.tools.monitor import job_monitor\n",
    "job_monitor(job)"
   ]
  },
  {
   "cell_type": "code",
   "execution_count": 12,
   "id": "52336b62",
   "metadata": {},
   "outputs": [
    {
     "data": {
      "image/png": "[encoded data removed]",
      "text/plain": [
       "<Figure size 504x360 with 1 Axes>"
      ]
     },
     "execution_count": 12,
     "metadata": {},
     "output_type": "execute_result"
    }
   ],
   "source": [
    "result = job.result()\n",
    "plot_histogram(result.get_counts(qc))"
   ]
  },
  {
   "cell_type": "markdown",
   "id": "f92db462",
   "metadata": {},
   "source": [
    "$3.$ Como já foi dito na 1ª questão, no IBMQ só temos prontas medidas locais de $Z$. Agora vamos considerar que queremos fazer medidas na base de Bell, que é a seguinte base de estados emaranhados de 2 qubits:\n",
    "\\begin{cases}\n",
    "|B_{00}\\rangle := |\\Phi_{+}\\rangle = \\frac{1}{\\sqrt{2}}\\big(|00\\rangle + |11\\rangle\\big), \\\\\n",
    "|B_{01}\\rangle := |\\Psi_{+}\\rangle = \\frac{1}{\\sqrt{2}}\\big(|01\\rangle + |10\\rangle\\big), \\\\\n",
    "|B_{10}\\rangle := |\\Phi_{-}\\rangle = \\frac{1}{\\sqrt{2}}\\big(|00\\rangle - |11\\rangle\\big), \\\\\n",
    "|B_{11}\\rangle := |\\Psi_{-}\\rangle = \\frac{1}{\\sqrt{2}}\\big(|01\\rangle - |10\\rangle\\big).\n",
    "\\end{cases}\n",
    "Primeiramente, descreva qual é a ação da porta de Hadamard, $H=\\frac{1}{\\sqrt{2}}\\big(|0\\rangle\\langle0|+|0\\rangle\\langle1|+|1\\rangle\\langle0|-|1\\rangle\\langle1|\\big)$, na base computacional, $\\{|0\\rangle,|1\\rangle\\}$. \n",
    "Seguindo, descreva qual é a ação da porta lógica de negação controlada, $C_{x}^{ab} = |0\\rangle_{a}\\langle 0|\\otimes I_{b} + |1\\rangle_{a}\\langle 1|\\otimes X_{b}$, na base computacional de 2 qubits, $\\{|00\\rangle,|01\\rangle,|10\\rangle,|11\\rangle\\}$. \n",
    "Feito isso, verifique que\n",
    "\\begin{equation}\n",
    "C_{x}^{01}(H\\otimes I)|jk\\rangle = |B_{jk}\\rangle\n",
    "\\end{equation}\n",
    "para $j,k=0,1$.\n",
    "Também de forma análoga à questão 1, se preparamos os 2 qubits em um estado qualquer $|\\Psi\\rangle$ e queremos fazer uma medida na base de Bell, podemos fazer isso primeiramente aplicando uma transformação unitária $V$ no estado $|\\Psi\\rangle$, para obter $|\\Psi'\\rangle = V|\\Psi\\rangle$, e depois fazendo uma medida na base computacional $\\{|jk\\rangle\\}_{j,k=0}^{1}$. Escreva $V$ em termos de $H$ e $C_{x}$."
   ]
  },
  {
   "cell_type": "markdown",
   "id": "96c40b43",
   "metadata": {},
   "source": [
    "# 3\n",
    "\n",
    "A ação da porta Hadamard é :\n",
    "\\begin{align}\n",
    "    &H|0\\rangle = \\left(\\frac{1}{\\sqrt{2}}\\right)\\begin{bmatrix}\n",
    "    1 & 1 \\\\\n",
    "    1 & -1 \\\\\n",
    "    \\end{bmatrix}\\begin{bmatrix}\n",
    "    1 \\\\\n",
    "    0 \\\\\n",
    "    \\end{bmatrix}=\\frac{1}{\\sqrt{2}}\\begin{bmatrix}\n",
    "    1 \\\\\n",
    "    1 \\\\\n",
    "    \\end{bmatrix}\n",
    "    &H|1\\rangle = \\left(\\frac{1}{\\sqrt{2}}\\right)\\begin{bmatrix}\n",
    "    1 & 1 \\\\\n",
    "    1 & -1 \\\\\n",
    "    \\end{bmatrix}\\begin{bmatrix}\n",
    "    0 \\\\\n",
    "    1 \\\\\n",
    "    \\end{bmatrix}=\\frac{1}{\\sqrt{2}}\\begin{bmatrix}\n",
    "    1 \\\\\n",
    "    -1 \\\\\n",
    "    \\end{bmatrix}\\\\\n",
    "    &H|0\\rangle = \\frac{1}{\\sqrt{2}}\\left(\\begin{bmatrix}\n",
    "    1 \\\\\n",
    "    0 \\\\\n",
    "    \\end{bmatrix}+\\begin{bmatrix}\n",
    "    0 \\\\\n",
    "    1 \\\\\n",
    "    \\end{bmatrix}\\right)\n",
    "    &H|1\\rangle = \\frac{1}{\\sqrt{2}}\\left(\\begin{bmatrix}\n",
    "    1 \\\\\n",
    "    0 \\\\\n",
    "    \\end{bmatrix}-\\begin{bmatrix}\n",
    "    0 \\\\\n",
    "    1 \\\\\n",
    "    \\end{bmatrix}\\right)\\\\\n",
    "    &\\boxed{H|0\\rangle  = \\frac{1}{\\sqrt{2}}\\left(|0\\rangle+|1\\rangle\\right) = |+\\rangle}\n",
    "    &\\boxed{H|1\\rangle  = \\frac{1}{\\sqrt{2}}\\left(|0\\rangle-|1\\rangle\\right) = |-\\rangle}\\\\\n",
    " \\end{align}"
   ]
  },
  {
   "cell_type": "markdown",
   "id": "421f223f",
   "metadata": {},
   "source": [
    "A ação da porta $C_{NOT}$ é :\n",
    "\\begin{align}\n",
    "    &C_{x}^{ab}|00\\rangle =\\begin{bmatrix}\n",
    "    1 & 0 & 0 & 0\\\\\n",
    "    0 & 1 & 0 & 0\\\\\n",
    "    0 & 0 & 0 & 1\\\\\n",
    "    0 & 0 & 1 & 0\\\\\n",
    "    \\end{bmatrix}.\\begin{bmatrix}\n",
    "    1 \\\\\n",
    "    0 \\\\\n",
    "    0 \\\\\n",
    "    0 \\\\\n",
    "    \\end{bmatrix}=\\begin{bmatrix}\n",
    "    1 \\\\\n",
    "    0 \\\\\n",
    "    0 \\\\\n",
    "    0 \\\\\n",
    "    \\end{bmatrix}=|00\\rangle\n",
    "    &C_{x}^{ab}|01\\rangle =\\begin{bmatrix}\n",
    "    1 & 0 & 0 & 0\\\\\n",
    "    0 & 1 & 0 & 0\\\\\n",
    "    0 & 0 & 0 & 1\\\\\n",
    "    0 & 0 & 1 & 0\\\\\n",
    "    \\end{bmatrix}.\\begin{bmatrix}\n",
    "    0 \\\\\n",
    "    1 \\\\\n",
    "    0 \\\\\n",
    "    0 \\\\\n",
    "    \\end{bmatrix}=\\begin{bmatrix}\n",
    "    0 \\\\\n",
    "    1 \\\\\n",
    "    0 \\\\\n",
    "    0 \\\\\n",
    "    \\end{bmatrix}=|01\\rangle\\\\\n",
    "    &C_{x}^{ab}|10\\rangle =\\begin{bmatrix}\n",
    "    1 & 0 & 0 & 0\\\\\n",
    "    0 & 1 & 0 & 0\\\\\n",
    "    0 & 0 & 0 & 1\\\\\n",
    "    0 & 0 & 1 & 0\\\\\n",
    "    \\end{bmatrix}.\\begin{bmatrix}\n",
    "    0 \\\\\n",
    "    0 \\\\\n",
    "    1 \\\\\n",
    "    0 \\\\\n",
    "    \\end{bmatrix}=\\begin{bmatrix}\n",
    "    0 \\\\\n",
    "    0 \\\\\n",
    "    0 \\\\\n",
    "    1 \\\\\n",
    "    \\end{bmatrix}=|11\\rangle\n",
    "    &C_{x}^{ab}|11\\rangle =\\begin{bmatrix}\n",
    "    1 & 0 & 0 & 0\\\\\n",
    "    0 & 1 & 0 & 0\\\\\n",
    "    0 & 0 & 0 & 1\\\\\n",
    "    0 & 0 & 1 & 0\\\\\n",
    "    \\end{bmatrix}.\\begin{bmatrix}\n",
    "    0 \\\\\n",
    "    0 \\\\\n",
    "    0 \\\\\n",
    "    1 \\\\\n",
    "    \\end{bmatrix}=\\begin{bmatrix}\n",
    "    0 \\\\\n",
    "    0 \\\\\n",
    "    1 \\\\\n",
    "    0 \\\\\n",
    "    \\end{bmatrix}=|10\\rangle\\\\\n",
    "\\end{align}"
   ]
  },
  {
   "cell_type": "markdown",
   "id": "650b96ca",
   "metadata": {},
   "source": [
    " Agora vamos mostrar que \n",
    " \\begin{equation}\n",
    "C_{x}^{01}(H\\otimes I)|jk\\rangle = |B_{jk}\\rangle\n",
    "\\end{equation}\n"
   ]
  },
  {
   "cell_type": "markdown",
   "id": "39c684ea",
   "metadata": {},
   "source": [
    "\\begin{equation}\n",
    "    (H\\otimes I^{2x2}) = \\frac{1}{\\sqrt{2}}\\begin{bmatrix}\n",
    "    1 & 0 & 1 & 0 \\\\\n",
    "    0 & 1 & 0 & 1 \\\\\n",
    "    1 & 0 & -1 & 0 \\\\\n",
    "    0 & 1 & 0 & -1\\\\\n",
    "    \\end{bmatrix}\n",
    "\\end{equation}"
   ]
  },
  {
   "cell_type": "markdown",
   "id": "1618d2a3",
   "metadata": {},
   "source": [
    "\n",
    "$$(H\\otimes I)|00\\rangle =\\frac{1}{\\sqrt{2}}\\begin{bmatrix}\n",
    "    1 & 0 & 1 & 0 \\\\\n",
    "    0 & 1 & 0 & 1 \\\\\n",
    "    1 & 0 & -1 & 0 \\\\\n",
    "    0 & 1 & 0 & -1\\\\\n",
    "    \\end{bmatrix}.\\begin{bmatrix}\n",
    "    1 \\\\\n",
    "    0 \\\\\n",
    "    0 \\\\\n",
    "    0 \\\\\n",
    "    \\end{bmatrix}=\\frac{1}{\\sqrt{2}}\\begin{bmatrix}\n",
    "    1 \\\\\n",
    "    0 \\\\\n",
    "    1 \\\\\n",
    "    0 \\\\\n",
    "    \\end{bmatrix}=\\frac{1}{\\sqrt{2}}\\left(|00\\rangle+|10\\rangle\\right)$$\n",
    "\n",
    "$$(H\\otimes I)|01\\rangle =\\frac{1}{\\sqrt{2}}\\begin{bmatrix}\n",
    "    1 & 0 & 1 & 0 \\\\\n",
    "    0 & 1 & 0 & 1 \\\\\n",
    "    1 & 0 & -1 & 0 \\\\\n",
    "    0 & 1 & 0 & -1\\\\\n",
    "    \\end{bmatrix}.\\begin{bmatrix}\n",
    "    0 \\\\\n",
    "    1 \\\\\n",
    "    0 \\\\\n",
    "    0 \\\\\n",
    "    \\end{bmatrix}=\\frac{1}{\\sqrt{2}}\\begin{bmatrix}\n",
    "    0 \\\\\n",
    "    1 \\\\\n",
    "    0 \\\\\n",
    "    1 \\\\\n",
    "    \\end{bmatrix}=\\frac{1}{\\sqrt{2}}\\left(|01\\rangle+|11\\rangle\\right)$$\n",
    "    \n",
    "     \n",
    "$$(H\\otimes I)|10\\rangle =\\frac{1}{\\sqrt{2}}\\begin{bmatrix}\n",
    "    1 & 0 & 1 & 0 \\\\\n",
    "    0 & 1 & 0 & 1 \\\\\n",
    "    1 & 0 & -1 & 0 \\\\\n",
    "    0 & 1 & 0 & -1\\\\\n",
    "    \\end{bmatrix}.\\begin{bmatrix}\n",
    "    0 \\\\\n",
    "    0 \\\\\n",
    "    1 \\\\\n",
    "    0 \\\\\n",
    "    \\end{bmatrix}=\\frac{1}{\\sqrt{2}}\\begin{bmatrix}\n",
    "    1 \\\\\n",
    "    0 \\\\\n",
    "    -1 \\\\\n",
    "    0 \\\\\n",
    "    \\end{bmatrix}=\\frac{1}{\\sqrt{2}}\\left(|00\\rangle-|10\\rangle\\right)$$\n",
    "    \n",
    "    \n",
    " \n",
    "$$(H\\otimes I)|11\\rangle =\\frac{1}{\\sqrt{2}}\\begin{bmatrix}\n",
    "    1 & 0 & 1 & 0 \\\\\n",
    "    0 & 1 & 0 & 1 \\\\\n",
    "    1 & 0 & -1 & 0 \\\\\n",
    "    0 & 1 & 0 & -1\\\\\n",
    "    \\end{bmatrix}.\\begin{bmatrix}\n",
    "    0 \\\\\n",
    "    0 \\\\\n",
    "    0 \\\\\n",
    "    1 \\\\\n",
    "    \\end{bmatrix}=\\frac{1}{\\sqrt{2}}\\begin{bmatrix}\n",
    "    0 \\\\\n",
    "    1 \\\\\n",
    "    0 \\\\\n",
    "    -1 \\\\\n",
    "    \\end{bmatrix}=\\frac{1}{\\sqrt{2}}\\left(|01\\rangle-|11\\rangle\\right)$$"
   ]
  },
  {
   "cell_type": "markdown",
   "id": "8de46235",
   "metadata": {},
   "source": [
    "\\begin{align}\n",
    "    &(H\\otimes I)|00\\rangle = \\frac{1}{\\sqrt{2}}\\left(|00\\rangle+|10\\rangle\\right)\n",
    "    &(H\\otimes I)|01\\rangle = \\frac{1}{\\sqrt{2}}\\left(|01\\rangle+|11\\rangle\\right)\\\\\n",
    "    &(H\\otimes I)|10\\rangle = \\frac{1}{\\sqrt{2}}\\left(|00\\rangle-|10\\rangle\\right)\n",
    "    &(H\\otimes I)|11\\rangle = \\frac{1}{\\sqrt{2}}\\left(|01\\rangle-|11\\rangle\\right)\\\\\n",
    "\\end{align}"
   ]
  },
  {
   "cell_type": "markdown",
   "id": "0fbc5597",
   "metadata": {},
   "source": [
    "\\begin{align}\n",
    "    &|\\Phi_{+}\\rangle = C_{x}^{01}(H\\otimes I)|00\\rangle = \\frac{1}{\\sqrt{2}}\\left(|00\\rangle+|11\\rangle\\right)\n",
    "    &|\\Psi_{+}\\rangle = C_{x}^{01}(H\\otimes I)|01\\rangle = \\frac{1}{\\sqrt{2}}\\left(|01\\rangle+|10\\rangle\\right)\\\\\n",
    "    &|\\Phi_{-}\\rangle = C_{x}^{01}(H\\otimes I)|10\\rangle = \\frac{1}{\\sqrt{2}}\\left(|00\\rangle-|11\\rangle\\right)\n",
    "    &|\\Psi_{-}\\rangle = C_{x}^{01}(H\\otimes I)|11\\rangle = \\frac{1}{\\sqrt{2}}\\left(|01\\rangle-|10\\rangle\\right)\\\\\n",
    "\\end{align}"
   ]
  },
  {
   "cell_type": "markdown",
   "id": "f7ffee91",
   "metadata": {},
   "source": [
    "\\begin{equation}\n",
    "Pr\\left(o_{j}^{(a)},o_{k}^{(b)}|\\Psi_{ab}\\right) = \\left|\\langle\\Psi_{ab}|\\left(|o_{j}^{(a)}\\rangle\\otimes|o_{k}^{(b)}\\rangle\\right)\\right|^{2}.\n",
    "\\end{equation}"
   ]
  },
  {
   "cell_type": "markdown",
   "id": "615a8aba",
   "metadata": {},
   "source": [
    "$4.$ Considere 2 qubits preparados no seguinte estado:\n",
    "$$|\\Psi\\rangle = |+-\\rangle.$$\n",
    "Para este estado, calcule analiticamente as probabilidades para medidas na base de Bell. Feito isso, simule e estime experimentalmente (usando o IBMQ) essas probabilidades."
   ]
  },
  {
   "cell_type": "markdown",
   "id": "c7c3a835",
   "metadata": {},
   "source": [
    "# 4\n",
    "\n",
    "O estado $|+\\rangle = \\frac{1}{\\sqrt{2}}\\left(|0\\rangle+|1\\rangle\\right)$. \n",
    "\n",
    "\n",
    "O estado $|-\\rangle = \\frac{1}{\\sqrt{2}}\\left(|0\\rangle-|1\\rangle\\right)$.\n",
    "\n",
    "\n",
    "O estado $|+-\\rangle = |+\\rangle\\otimes\\ |-\\rangle$...\n",
    "\n",
    "$$|+-\\rangle = \\frac{1}{2}\\left(|0\\rangle+|1\\rangle\\right)\\otimes \\left(|0\\rangle-|1\\rangle\\right)\n",
    "$$"
   ]
  },
  {
   "cell_type": "markdown",
   "id": "bcf98e28",
   "metadata": {},
   "source": [
    "$$|+-\\rangle = \\frac{1}{2}\\left(|00\\rangle-|01\\rangle+|10\\rangle-|11\\rangle\\right)\n",
    "$$"
   ]
  },
  {
   "cell_type": "code",
   "execution_count": 17,
   "id": "ff27c9f3",
   "metadata": {},
   "outputs": [
    {
     "data": {
      "image/png": "[encoded data removed]",
      "text/plain": [
       "<Figure size 233.104x144.48 with 1 Axes>"
      ]
     },
     "execution_count": 17,
     "metadata": {},
     "output_type": "execute_result"
    }
   ],
   "source": [
    "qr = QuantumRegister(2)\n",
    "#cr = ClassicalRegister(2)\n",
    "qc = QuantumCircuit(qr)\n",
    "qc.h(0)\n",
    "qc.x(1)\n",
    "qc.h(1)\n",
    "qc.draw(output='mpl')"
   ]
  },
  {
   "cell_type": "code",
   "execution_count": 18,
   "id": "0e707c5b",
   "metadata": {},
   "outputs": [
    {
     "data": {
      "text/latex": [
       "$$\\frac{1}{2} |00\\rangle+\\frac{1}{2} |01\\rangle- \\frac{1}{2} |10\\rangle- \\frac{1}{2} |11\\rangle$$"
      ],
      "text/plain": [
       "<IPython.core.display.Latex object>"
      ]
     },
     "execution_count": 18,
     "metadata": {},
     "output_type": "execute_result"
    }
   ],
   "source": [
    "def print_state(qc):\n",
    "    stv1 = qi.Statevector.from_instruction(qc)\n",
    "    sim = QasmSimulator();options = {'method': 'statevector'}\n",
    "    execute(qc, sim, backend_options=options)\n",
    "    return stv1.draw('latex', prefix='Statevector1:')\n",
    "print_state(qc)"
   ]
  },
  {
   "cell_type": "code",
   "execution_count": 19,
   "id": "b20f95fb",
   "metadata": {},
   "outputs": [
    {
     "data": {
      "image/png": "[encoded data removed]",
      "text/plain": [
       "<Figure size 417.879x204.68 with 1 Axes>"
      ]
     },
     "execution_count": 19,
     "metadata": {},
     "output_type": "execute_result"
    }
   ],
   "source": [
    "circuit_with_results=qc\n",
    "circuit_with_results.measure_all()\n",
    "circuit_with_results.draw(output='mpl')"
   ]
  },
  {
   "cell_type": "code",
   "execution_count": 20,
   "id": "9483410e",
   "metadata": {
    "scrolled": true
   },
   "outputs": [
    {
     "name": "stdout",
     "output_type": "stream",
     "text": [
      "{'11': 237, '01': 251, '00': 251, '10': 261}\n"
     ]
    },
    {
     "data": {
      "image/png": "[encoded data removed]",
      "text/plain": [
       "<Figure size 504x360 with 1 Axes>"
      ]
     },
     "execution_count": 20,
     "metadata": {},
     "output_type": "execute_result"
    }
   ],
   "source": [
    "from qiskit.visualization import plot_histogram\n",
    "# execute the quantum circuit_with_results\n",
    "backend = BasicAer.get_backend('qasm_simulator') # the device to run on\n",
    "\n",
    "result = backend.run(transpile(circuit_with_results, backend), shots=1000).result()\n",
    "counts  = result.get_counts(circuit_with_results)\n",
    "print(counts)\n",
    "plot_histogram(counts)"
   ]
  },
  {
   "cell_type": "code",
   "execution_count": 21,
   "id": "f41a95e8",
   "metadata": {},
   "outputs": [
    {
     "name": "stdout",
     "output_type": "stream",
     "text": [
      "Job Status: job has successfully run\n"
     ]
    }
   ],
   "source": [
    "provider = qiskit.IBMQ.get_provider(hub='ibm-q', group='open', project='main')\n",
    "device = provider.get_backend('ibmq_lima')#ibmq_belem')\n",
    "\n",
    "job=execute(circuit_with_results,backend=device,shots = 8192)\n",
    "from qiskit.tools.monitor import job_monitor\n",
    "job_monitor(job)"
   ]
  },
  {
   "cell_type": "code",
   "execution_count": 22,
   "id": "bf78ed65",
   "metadata": {},
   "outputs": [
    {
     "data": {
      "image/png": "[encoded data removed]",
      "text/plain": [
       "<Figure size 504x360 with 1 Axes>"
      ]
     },
     "execution_count": 22,
     "metadata": {},
     "output_type": "execute_result"
    }
   ],
   "source": [
    "result = job.result()\n",
    "plot_histogram(result.get_counts(qc))"
   ]
  }
 ],
 "metadata": {
  "kernelspec": {
   "display_name": "Python 3 (ipykernel)",
   "language": "python",
   "name": "python3"
  },
  "language_info": {
   "codemirror_mode": {
    "name": "ipython",
    "version": 3
   },
   "file_extension": ".py",
   "mimetype": "text/x-python",
   "name": "python",
   "nbconvert_exporter": "python",
   "pygments_lexer": "ipython3",
   "version": "3.9.7"
  }
 },
 "nbformat": 4,
 "nbformat_minor": 5
}
