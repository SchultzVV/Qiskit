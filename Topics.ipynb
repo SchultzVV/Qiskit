{
 "cells": [
  {
   "cell_type": "markdown",
   "metadata": {},
   "source": [
    "# Algoritmo Quântico Variacional"
   ]
  },
  {
   "cell_type": "markdown",
   "metadata": {},
   "source": [
    "#### Exemplo de algorítmo quantico variacional\n",
    "\n",
    "\n",
    "Na aula do Tiago sobre convoluções quanticas ele mostrou a codificação de pixels em qubits, o valor de pixel é associado aos ângulos das portas de rotação em x."
   ]
  },
  {
   "cell_type": "code",
   "execution_count": 2,
   "metadata": {},
   "outputs": [],
   "source": [
    "import random\n",
    "from qiskit import *\n",
    "import numpy as np\n",
    "import cv2\n",
    "from matplotlib import pyplot as plt"
   ]
  },
  {
   "cell_type": "code",
   "execution_count": 13,
   "metadata": {},
   "outputs": [
    {
     "data": {
      "text/plain": [
       "array([0.66733133, 0.58182667])"
      ]
     },
     "execution_count": 13,
     "metadata": {},
     "output_type": "execute_result"
    }
   ],
   "source": [
    "patch = np.random.random(size=(1,2))\n",
    "patch.flatten()"
   ]
  },
  {
   "cell_type": "code",
   "execution_count": 12,
   "metadata": {},
   "outputs": [
    {
     "name": "stdout",
     "output_type": "stream",
     "text": [
      "[[0.00110221 0.00053291 0.00372715 ... 0.0034751  0.00302359 0.00313768]\n",
      " [0.00050305 0.00045303 0.00073551 ... 0.00345697 0.00341407 0.00342689]\n",
      " [0.00066928 0.0005317  0.00083966 ... 0.00363394 0.00327912 0.00320347]\n",
      " ...\n",
      " [0.00115898 0.00300849 0.0026352  ... 0.00082505 0.00040494 0.00045926]\n",
      " [0.00082297 0.00247501 0.00267728 ... 0.00106736 0.00046222 0.00051551]\n",
      " [0.00069407 0.00091172 0.00307112 ... 0.00038929 0.00033993 0.00042392]]\n"
     ]
    },
    {
     "data": {
      "text/plain": [
       "<matplotlib.image.AxesImage at 0x7f8e645b5a30>"
      ]
     },
     "execution_count": 12,
     "metadata": {},
     "output_type": "execute_result"
    },
    {
     "data": {
      "image/png": "[encoded data removed]",
      "text/plain": [
       "<Figure size 432x288 with 1 Axes>"
      ]
     },
     "metadata": {
      "needs_background": "light"
     },
     "output_type": "display_data"
    }
   ],
   "source": [
    "img = cv2.imread('a.png',0)/255\n",
    "img = cv2.resize(img,(36,36))\n",
    "print(img/255)\n",
    "plt.imshow(img)"
   ]
  },
  {
   "cell_type": "code",
   "execution_count": null,
   "metadata": {},
   "outputs": [],
   "source": [
    "import qiskit\n",
    "from qiskit import QuantumCircuit\n",
    "def transform_pixel_to_qubit(pixel_val):\n",
    "    qc = QuantumCircuit(2,2)\n",
    "    for i in range(2):\n",
    "        qc.rx(pixel_val,i)\n",
    "        qc.measure(i,i)\n",
    "    return qc\n"
   ]
  },
  {
   "cell_type": "markdown",
   "metadata": {},
   "source": [
    "##### Dúvidas\n",
    "\n",
    "* Os angulos gerados aleatóriamente são uns dos parâmetros otimizaveis ?\n",
    "* Como que é salvo o valor dos ângulos gerados aleatóriamente ? ( dict? json? )\n",
    "* Até em que momento podemos utilizar o simulador para treinar esses parâmetros ?\n",
    "* Qual é o limite qubits que podemos ter no simulador ?\n",
    "* "
   ]
  },
  {
   "cell_type": "markdown",
   "metadata": {},
   "source": []
  }
 ],
 "metadata": {
  "kernelspec": {
   "display_name": "Python 3.9.12 ('base')",
   "language": "python",
   "name": "python3"
  },
  "language_info": {
   "codemirror_mode": {
    "name": "ipython",
    "version": 3
   },
   "file_extension": ".py",
   "mimetype": "text/x-python",
   "name": "python",
   "nbconvert_exporter": "python",
   "pygments_lexer": "ipython3",
   "version": "3.9.12"
  },
  "orig_nbformat": 4,
  "vscode": {
   "interpreter": {
    "hash": "0ed14abce7655850474e63ee7c6c2759d1bab8539f26a9d7ce141d9d93c461cb"
   }
  }
 },
 "nbformat": 4,
 "nbformat_minor": 2
}
