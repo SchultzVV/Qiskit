{
 "cells": [
  {
   "cell_type": "code",
   "execution_count": 1,
   "metadata": {},
   "outputs": [
    {
     "name": "stdout",
     "output_type": "stream",
     "text": [
      "Requirement already satisfied: qiskit in /home/v/anaconda3/lib/python3.9/site-packages (0.39.2)\n",
      "Collecting qiskit\n",
      "  Using cached qiskit-0.41.0-py3-none-any.whl\n",
      "Collecting qiskit-terra==0.23.1\n",
      "  Using cached qiskit_terra-0.23.1-cp39-cp39-manylinux_2_17_x86_64.manylinux2014_x86_64.whl (5.1 MB)\n",
      "Collecting qiskit-aer==0.11.2\n",
      "  Using cached qiskit_aer-0.11.2-cp39-cp39-manylinux_2_17_x86_64.manylinux2014_x86_64.whl (12.8 MB)\n",
      "Collecting qiskit-ibmq-provider==0.20.0\n",
      "  Using cached qiskit_ibmq_provider-0.20.0-py3-none-any.whl (241 kB)\n",
      "Requirement already satisfied: numpy>=1.16.3 in /home/v/anaconda3/lib/python3.9/site-packages (from qiskit-aer==0.11.2->qiskit) (1.21.5)\n",
      "Requirement already satisfied: scipy>=1.0 in /home/v/anaconda3/lib/python3.9/site-packages (from qiskit-aer==0.11.2->qiskit) (1.9.1)\n",
      "Requirement already satisfied: python-dateutil>=2.8.0 in /home/v/anaconda3/lib/python3.9/site-packages (from qiskit-ibmq-provider==0.20.0->qiskit) (2.8.2)\n",
      "Collecting websocket-client<=1.3.3\n",
      "  Using cached websocket_client-1.3.3-py3-none-any.whl (54 kB)\n",
      "Requirement already satisfied: requests-ntlm>=1.1.0 in /home/v/anaconda3/lib/python3.9/site-packages (from qiskit-ibmq-provider==0.20.0->qiskit) (1.1.0)\n",
      "Requirement already satisfied: urllib3>=1.21.1 in /home/v/anaconda3/lib/python3.9/site-packages (from qiskit-ibmq-provider==0.20.0->qiskit) (1.26.11)\n",
      "Requirement already satisfied: websockets>=10.0 in /home/v/anaconda3/lib/python3.9/site-packages (from qiskit-ibmq-provider==0.20.0->qiskit) (10.4)\n",
      "Requirement already satisfied: requests>=2.19 in /home/v/anaconda3/lib/python3.9/site-packages (from qiskit-ibmq-provider==0.20.0->qiskit) (2.28.1)\n",
      "Requirement already satisfied: psutil>=5 in /home/v/anaconda3/lib/python3.9/site-packages (from qiskit-terra==0.23.1->qiskit) (5.9.0)\n",
      "Requirement already satisfied: ply>=3.10 in /home/v/anaconda3/lib/python3.9/site-packages (from qiskit-terra==0.23.1->qiskit) (3.11)\n",
      "Requirement already satisfied: sympy>=1.3 in /home/v/anaconda3/lib/python3.9/site-packages (from qiskit-terra==0.23.1->qiskit) (1.10.1)\n",
      "Requirement already satisfied: dill>=0.3 in /home/v/anaconda3/lib/python3.9/site-packages (from qiskit-terra==0.23.1->qiskit) (0.3.4)\n",
      "Requirement already satisfied: stevedore>=3.0.0 in /home/v/anaconda3/lib/python3.9/site-packages (from qiskit-terra==0.23.1->qiskit) (4.1.1)\n",
      "Requirement already satisfied: symengine>=0.9 in /home/v/anaconda3/lib/python3.9/site-packages (from qiskit-terra==0.23.1->qiskit) (0.9.2)\n",
      "Requirement already satisfied: rustworkx>=0.12.0 in /home/v/anaconda3/lib/python3.9/site-packages (from qiskit-terra==0.23.1->qiskit) (0.12.1)\n",
      "Requirement already satisfied: six>=1.5 in /home/v/anaconda3/lib/python3.9/site-packages (from python-dateutil>=2.8.0->qiskit-ibmq-provider==0.20.0->qiskit) (1.16.0)\n",
      "Requirement already satisfied: idna<4,>=2.5 in /home/v/anaconda3/lib/python3.9/site-packages (from requests>=2.19->qiskit-ibmq-provider==0.20.0->qiskit) (3.3)\n",
      "Requirement already satisfied: certifi>=2017.4.17 in /home/v/anaconda3/lib/python3.9/site-packages (from requests>=2.19->qiskit-ibmq-provider==0.20.0->qiskit) (2022.9.14)\n",
      "Requirement already satisfied: charset-normalizer<3,>=2 in /home/v/anaconda3/lib/python3.9/site-packages (from requests>=2.19->qiskit-ibmq-provider==0.20.0->qiskit) (2.0.4)\n",
      "Requirement already satisfied: ntlm-auth>=1.0.2 in /home/v/anaconda3/lib/python3.9/site-packages (from requests-ntlm>=1.1.0->qiskit-ibmq-provider==0.20.0->qiskit) (1.5.0)\n",
      "Requirement already satisfied: cryptography>=1.3 in /home/v/anaconda3/lib/python3.9/site-packages (from requests-ntlm>=1.1.0->qiskit-ibmq-provider==0.20.0->qiskit) (37.0.1)\n",
      "Requirement already satisfied: pbr!=2.1.0,>=2.0.0 in /home/v/anaconda3/lib/python3.9/site-packages (from stevedore>=3.0.0->qiskit-terra==0.23.1->qiskit) (5.11.1)\n",
      "Requirement already satisfied: mpmath>=0.19 in /home/v/anaconda3/lib/python3.9/site-packages (from sympy>=1.3->qiskit-terra==0.23.1->qiskit) (1.2.1)\n",
      "Requirement already satisfied: cffi>=1.12 in /home/v/anaconda3/lib/python3.9/site-packages (from cryptography>=1.3->requests-ntlm>=1.1.0->qiskit-ibmq-provider==0.20.0->qiskit) (1.15.1)\n",
      "Requirement already satisfied: pycparser in /home/v/anaconda3/lib/python3.9/site-packages (from cffi>=1.12->cryptography>=1.3->requests-ntlm>=1.1.0->qiskit-ibmq-provider==0.20.0->qiskit) (2.21)\n",
      "Installing collected packages: websocket-client, qiskit-terra, qiskit-aer, qiskit-ibmq-provider, qiskit\n",
      "  Attempting uninstall: websocket-client\n",
      "    Found existing installation: websocket-client 1.5.1\n",
      "    Uninstalling websocket-client-1.5.1:\n",
      "      Successfully uninstalled websocket-client-1.5.1\n",
      "  Attempting uninstall: qiskit-terra\n",
      "    Found existing installation: qiskit-terra 0.22.2\n",
      "    Uninstalling qiskit-terra-0.22.2:\n",
      "      Successfully uninstalled qiskit-terra-0.22.2\n",
      "  Attempting uninstall: qiskit-aer\n",
      "    Found existing installation: qiskit-aer 0.11.1\n",
      "    Uninstalling qiskit-aer-0.11.1:\n",
      "      Successfully uninstalled qiskit-aer-0.11.1\n",
      "  Attempting uninstall: qiskit-ibmq-provider\n",
      "    Found existing installation: qiskit-ibmq-provider 0.19.2\n",
      "    Uninstalling qiskit-ibmq-provider-0.19.2:\n",
      "      Successfully uninstalled qiskit-ibmq-provider-0.19.2\n",
      "  Attempting uninstall: qiskit\n",
      "    Found existing installation: qiskit 0.39.2\n",
      "    Uninstalling qiskit-0.39.2:\n",
      "      Successfully uninstalled qiskit-0.39.2\n",
      "Successfully installed qiskit-0.41.0 qiskit-aer-0.11.2 qiskit-ibmq-provider-0.20.0 qiskit-terra-0.23.1 websocket-client-1.3.3\n",
      "Note: you may need to restart the kernel to use updated packages.\n"
     ]
    }
   ],
   "source": [
    "pip install qiskit -U"
   ]
  },
  {
   "cell_type": "code",
   "execution_count": 2,
   "metadata": {},
   "outputs": [
    {
     "name": "stdout",
     "output_type": "stream",
     "text": [
      "Collecting qiskit-ibm-runtime\n",
      "  Downloading qiskit_ibm_runtime-0.9.0-py3-none-any.whl (175 kB)\n",
      "\u001b[2K     \u001b[38;2;114;156;31m━━━━━━━━━━━━━━━━━━━━━━━━━━━━━━━━━━━━━━━\u001b[0m \u001b[32m175.4/175.4 kB\u001b[0m \u001b[31m1.9 MB/s\u001b[0m eta \u001b[36m0:00:00\u001b[0mm eta \u001b[36m0:00:01\u001b[0m0:01\u001b[0m\n",
      "\u001b[?25hRequirement already satisfied: python-dateutil>=2.8.0 in /home/v/anaconda3/lib/python3.9/site-packages (from qiskit-ibm-runtime) (2.8.2)\n",
      "Collecting websocket-client>=1.5.1\n",
      "  Using cached websocket_client-1.5.1-py3-none-any.whl (55 kB)\n",
      "Requirement already satisfied: requests>=2.19 in /home/v/anaconda3/lib/python3.9/site-packages (from qiskit-ibm-runtime) (2.28.1)\n",
      "Requirement already satisfied: qiskit-terra>=0.23.1 in /home/v/anaconda3/lib/python3.9/site-packages (from qiskit-ibm-runtime) (0.23.1)\n",
      "Requirement already satisfied: requests-ntlm>=1.1.0 in /home/v/anaconda3/lib/python3.9/site-packages (from qiskit-ibm-runtime) (1.1.0)\n",
      "Requirement already satisfied: numpy<1.24 in /home/v/anaconda3/lib/python3.9/site-packages (from qiskit-ibm-runtime) (1.21.5)\n",
      "Requirement already satisfied: urllib3>=1.21.1 in /home/v/anaconda3/lib/python3.9/site-packages (from qiskit-ibm-runtime) (1.26.11)\n",
      "Requirement already satisfied: typing-extensions>=4.0.0 in /home/v/anaconda3/lib/python3.9/site-packages (from qiskit-ibm-runtime) (4.3.0)\n",
      "Collecting ibm-platform-services>=0.22.6\n",
      "  Downloading ibm-platform-services-0.31.1.tar.gz (248 kB)\n",
      "\u001b[2K     \u001b[38;2;114;156;31m━━━━━━━━━━━━━━━━━━━━━━━━━━━━━━━━━━━━━━━\u001b[0m \u001b[32m248.9/248.9 kB\u001b[0m \u001b[31m4.0 MB/s\u001b[0m eta \u001b[36m0:00:00\u001b[0mm eta \u001b[36m0:00:01\u001b[0m\n",
      "\u001b[?25h  Installing build dependencies ... \u001b[?25ldone\n",
      "\u001b[?25h  Getting requirements to build wheel ... \u001b[?25ldone\n",
      "\u001b[?25h  Preparing metadata (pyproject.toml) ... \u001b[?25ldone\n",
      "\u001b[?25hCollecting ibm-cloud-sdk-core<4.0.0,>=3.16.0\n",
      "  Downloading ibm-cloud-sdk-core-3.16.2.tar.gz (50 kB)\n",
      "\u001b[2K     \u001b[38;2;114;156;31m━━━━━━━━━━━━━━━━━━━━━━━━━━━━━━━━━━━━━━━\u001b[0m \u001b[32m50.5/50.5 kB\u001b[0m \u001b[31m826.1 kB/s\u001b[0m eta \u001b[36m0:00:00\u001b[0m MB/s\u001b[0m eta \u001b[36m0:00:01\u001b[0m\n",
      "\u001b[?25h  Installing build dependencies ... \u001b[?25ldone\n",
      "\u001b[?25h  Getting requirements to build wheel ... \u001b[?25ldone\n",
      "\u001b[?25h  Preparing metadata (pyproject.toml) ... \u001b[?25ldone\n",
      "\u001b[?25hRequirement already satisfied: six>=1.5 in /home/v/anaconda3/lib/python3.9/site-packages (from python-dateutil>=2.8.0->qiskit-ibm-runtime) (1.16.0)\n",
      "Requirement already satisfied: ply>=3.10 in /home/v/anaconda3/lib/python3.9/site-packages (from qiskit-terra>=0.23.1->qiskit-ibm-runtime) (3.11)\n",
      "Requirement already satisfied: symengine>=0.9 in /home/v/anaconda3/lib/python3.9/site-packages (from qiskit-terra>=0.23.1->qiskit-ibm-runtime) (0.9.2)\n",
      "Requirement already satisfied: stevedore>=3.0.0 in /home/v/anaconda3/lib/python3.9/site-packages (from qiskit-terra>=0.23.1->qiskit-ibm-runtime) (4.1.1)\n",
      "Requirement already satisfied: psutil>=5 in /home/v/anaconda3/lib/python3.9/site-packages (from qiskit-terra>=0.23.1->qiskit-ibm-runtime) (5.9.0)\n",
      "Requirement already satisfied: dill>=0.3 in /home/v/anaconda3/lib/python3.9/site-packages (from qiskit-terra>=0.23.1->qiskit-ibm-runtime) (0.3.4)\n",
      "Requirement already satisfied: scipy>=1.5 in /home/v/anaconda3/lib/python3.9/site-packages (from qiskit-terra>=0.23.1->qiskit-ibm-runtime) (1.9.1)\n",
      "Requirement already satisfied: sympy>=1.3 in /home/v/anaconda3/lib/python3.9/site-packages (from qiskit-terra>=0.23.1->qiskit-ibm-runtime) (1.10.1)\n",
      "Requirement already satisfied: rustworkx>=0.12.0 in /home/v/anaconda3/lib/python3.9/site-packages (from qiskit-terra>=0.23.1->qiskit-ibm-runtime) (0.12.1)\n",
      "Requirement already satisfied: idna<4,>=2.5 in /home/v/anaconda3/lib/python3.9/site-packages (from requests>=2.19->qiskit-ibm-runtime) (3.3)\n",
      "Requirement already satisfied: certifi>=2017.4.17 in /home/v/anaconda3/lib/python3.9/site-packages (from requests>=2.19->qiskit-ibm-runtime) (2022.9.14)\n",
      "Requirement already satisfied: charset-normalizer<3,>=2 in /home/v/anaconda3/lib/python3.9/site-packages (from requests>=2.19->qiskit-ibm-runtime) (2.0.4)\n",
      "Requirement already satisfied: cryptography>=1.3 in /home/v/anaconda3/lib/python3.9/site-packages (from requests-ntlm>=1.1.0->qiskit-ibm-runtime) (37.0.1)\n",
      "Requirement already satisfied: ntlm-auth>=1.0.2 in /home/v/anaconda3/lib/python3.9/site-packages (from requests-ntlm>=1.1.0->qiskit-ibm-runtime) (1.5.0)\n",
      "Requirement already satisfied: cffi>=1.12 in /home/v/anaconda3/lib/python3.9/site-packages (from cryptography>=1.3->requests-ntlm>=1.1.0->qiskit-ibm-runtime) (1.15.1)\n",
      "Requirement already satisfied: PyJWT<3.0.0,>=2.4.0 in /home/v/anaconda3/lib/python3.9/site-packages (from ibm-cloud-sdk-core<4.0.0,>=3.16.0->ibm-platform-services>=0.22.6->qiskit-ibm-runtime) (2.4.0)\n",
      "Requirement already satisfied: pbr!=2.1.0,>=2.0.0 in /home/v/anaconda3/lib/python3.9/site-packages (from stevedore>=3.0.0->qiskit-terra>=0.23.1->qiskit-ibm-runtime) (5.11.1)\n",
      "Requirement already satisfied: mpmath>=0.19 in /home/v/anaconda3/lib/python3.9/site-packages (from sympy>=1.3->qiskit-terra>=0.23.1->qiskit-ibm-runtime) (1.2.1)\n",
      "Requirement already satisfied: pycparser in /home/v/anaconda3/lib/python3.9/site-packages (from cffi>=1.12->cryptography>=1.3->requests-ntlm>=1.1.0->qiskit-ibm-runtime) (2.21)\n",
      "Building wheels for collected packages: ibm-platform-services, ibm-cloud-sdk-core\n",
      "  Building wheel for ibm-platform-services (pyproject.toml) ... \u001b[?25ldone\n",
      "\u001b[?25h  Created wheel for ibm-platform-services: filename=ibm_platform_services-0.31.1-py3-none-any.whl size=263974 sha256=c2d01ee3cdd4534107444494baff678cf0edfaa8b3dc1b757fda3abb9f20fd71\n",
      "  Stored in directory: /home/v/.cache/pip/wheels/d1/33/f8/82a0389388f8a2a8fa3c8afe43046ec12407da22ad3dc94dc1\n",
      "  Building wheel for ibm-cloud-sdk-core (pyproject.toml) ... \u001b[?25ldone\n",
      "\u001b[?25h  Created wheel for ibm-cloud-sdk-core: filename=ibm_cloud_sdk_core-3.16.2-py3-none-any.whl size=83556 sha256=3992d563a120b008db95e092aa08748330fb37382abbd03b3fab6d34367d02d0\n",
      "  Stored in directory: /home/v/.cache/pip/wheels/bc/70/ed/84b4301a3314d233704faaa1e527b5a27a97b34de0604315db\n",
      "Successfully built ibm-platform-services ibm-cloud-sdk-core\n",
      "Installing collected packages: websocket-client, ibm-cloud-sdk-core, ibm-platform-services, qiskit-ibm-runtime\n",
      "  Attempting uninstall: websocket-client\n",
      "    Found existing installation: websocket-client 1.3.3\n",
      "    Uninstalling websocket-client-1.3.3:\n",
      "      Successfully uninstalled websocket-client-1.3.3\n",
      "\u001b[31mERROR: pip's dependency resolver does not currently take into account all the packages that are installed. This behaviour is the source of the following dependency conflicts.\n",
      "qiskit-ibmq-provider 0.20.0 requires websocket-client<=1.3.3, but you have websocket-client 1.5.1 which is incompatible.\u001b[0m\u001b[31m\n",
      "\u001b[0mSuccessfully installed ibm-cloud-sdk-core-3.16.2 ibm-platform-services-0.31.1 qiskit-ibm-runtime-0.9.0 websocket-client-1.5.1\n",
      "Note: you may need to restart the kernel to use updated packages.\n"
     ]
    }
   ],
   "source": [
    "pip install qiskit-ibm-runtime -U\n"
   ]
  },
  {
   "cell_type": "code",
   "execution_count": 8,
   "metadata": {},
   "outputs": [],
   "source": [
    "from qiskit_ibm_runtime import QiskitRuntimeService\n",
    "# Save an IBM Quantum account.\n",
    "QiskitRuntimeService.save_account(channel='ibm_quantum', \n",
    "                                  #channel='ibm_cloud', \n",
    "                                  token='7cc830e0cb005ce6de9caf9c402a1992c5d38d25af4237c19e72a4c58ce204481eb7a0d08b9929e5b5d3028f3146c38d2da8f2eb8db8f6f8b02a97eeb8fbc6de',\n",
    "                                  overwrite=True)\n",
    "service = QiskitRuntimeService(\n",
    "    channel='ibm_quantum',\n",
    "    instance='ibm-q/open/main'\n",
    "    #instance='ibm-q-research-2/federal-uni-sant-1/main'\n",
    ")"
   ]
  },
  {
   "cell_type": "code",
   "execution_count": 9,
   "metadata": {},
   "outputs": [
    {
     "name": "stderr",
     "output_type": "stream",
     "text": [
      "/tmp/ipykernel_49939/3078647834.py:3: DeprecationWarning: Note that the 'job_id' and 'backend' attributes of a runtime job have been deprecated as of qiskit-ibm-runtime 0.7 and will be removed no sooner than 3 months after the release date. Please use the job_id() and backend() methods instead.\n",
      "  job = service.run(program_id=\"hello-world\",\n"
     ]
    },
    {
     "name": "stdout",
     "output_type": "stream",
     "text": [
      "Hello, World!\n"
     ]
    }
   ],
   "source": [
    "program_inputs = {'iterations': 1}\n",
    "options = {\"backend_name\": \"ibmq_qasm_simulator\"}\n",
    "job = service.run(program_id=\"hello-world\",\n",
    "                  options=options,\n",
    "                  inputs=program_inputs\n",
    "                 )\n",
    "#print(f\"job id: {job.job_id()}\")\n",
    "result = job.result()\n",
    "print(result)"
   ]
  },
  {
   "cell_type": "code",
   "execution_count": 10,
   "metadata": {},
   "outputs": [
    {
     "name": "stdout",
     "output_type": "stream",
     "text": [
      "[0.70710678+0.j 0.70710678+0.j]\n"
     ]
    }
   ],
   "source": [
    "from tools import vqa_bpf\n",
    "import cmath\n",
    "import numpy as np\n",
    "import torch\n",
    "\n",
    "def general_state(theta, phi):\n",
    "    state = np.zeros(2,dtype=complex)\n",
    "    state[0] = np.cos(theta/2)\n",
    "    state[1] = cmath.exp(1j*phi)*np.sin(theta/2)\n",
    "    return state\n",
    "print(general_state(np.pi/2,0))\n",
    "\n",
    "def init_state_gen_state(n_qb, p):\n",
    "    d = 2**n_qb\n",
    "    target_vector = general_state(np.pi/2, 0)\n",
    "    target_op = np.outer(target_vector.conj(), target_vector)\n",
    "    target_op = torch.tensor(target_op)\n",
    "    return target_vector, target_op"
   ]
  },
  {
   "cell_type": "code",
   "execution_count": 11,
   "metadata": {},
   "outputs": [],
   "source": [
    "backend = service.get_backend(\"ibmq_qasm_simulator\")\n"
   ]
  },
  {
   "cell_type": "code",
   "execution_count": null,
   "metadata": {},
   "outputs": [],
   "source": [
    "from qiskit.circuit.random import random_circuit\n",
    "from qiskit.quantum_info import SparsePauliOpm\n",
    "from qiskit.primitives import Estimator\n",
    "from qiskit import QuantumCircuit\n",
    "\n",
    "#circuit = random_circuit(2, 2, seed=1).decompose(reps=1)\n",
    "circuit = QuantumCircuit(2)\n",
    "circuit.x(0)\n",
    "circuit.draw(output='mpl')\n",
    "observable = SparsePauliOp(\"IZ\") # ordem ...210\n",
    "\n",
    "#options = {\"backend_name\": \"ibmq_qasm_simulator\"}\n",
    "estimator = Estimator()#options=options)\n",
    "job = estimator.run(circuit, observable)\n",
    "result = job.result()\n",
    "\n",
    "display(circuit.draw(\"mpl\"))\n",
    "print(f\" > Observable: {observable.paulis}\")\n",
    "print(f\" > Expectation value: {result.values[0]}\")\n",
    "print(f\" > Metadata: {result.metadata[0]}\")"
   ]
  },
  {
   "cell_type": "code",
   "execution_count": null,
   "metadata": {},
   "outputs": [],
   "source": []
  },
  {
   "cell_type": "code",
   "execution_count": null,
   "metadata": {},
   "outputs": [],
   "source": []
  },
  {
   "attachments": {},
   "cell_type": "markdown",
   "metadata": {},
   "source": [
    "# Iniciando o vqa_gen"
   ]
  },
  {
   "cell_type": "code",
   "execution_count": 18,
   "metadata": {},
   "outputs": [
    {
     "name": "stderr",
     "output_type": "stream",
     "text": [
      "configrc.store_credentials:WARNING:2023-02-22 15:06:57,836: Credentials already present. Set overwrite=True to overwrite.\n",
      "ibmqfactory.load_account:WARNING:2023-02-22 15:06:58,086: Credentials are already in use. The existing account in the session will be replaced.\n"
     ]
    },
    {
     "ename": "AttributeError",
     "evalue": "module 'qiskit_aer' has no attribute 'Aer'",
     "output_type": "error",
     "traceback": [
      "\u001b[0;31m---------------------------------------------------------------------------\u001b[0m",
      "\u001b[0;31mAttributeError\u001b[0m                            Traceback (most recent call last)",
      "\u001b[0;32m/tmp/ipykernel_49939/897723904.py\u001b[0m in \u001b[0;36m<module>\u001b[0;34m\u001b[0m\n\u001b[1;32m      6\u001b[0m \u001b[0mprovider\u001b[0m \u001b[0;34m=\u001b[0m \u001b[0mqiskit\u001b[0m\u001b[0;34m.\u001b[0m\u001b[0mIBMQ\u001b[0m\u001b[0;34m.\u001b[0m\u001b[0mget_provider\u001b[0m\u001b[0;34m(\u001b[0m\u001b[0mhub\u001b[0m\u001b[0;34m=\u001b[0m\u001b[0;34m'ibm-q'\u001b[0m\u001b[0;34m,\u001b[0m \u001b[0mgroup\u001b[0m\u001b[0;34m=\u001b[0m\u001b[0;34m'open'\u001b[0m\u001b[0;34m,\u001b[0m \u001b[0mproject\u001b[0m\u001b[0;34m=\u001b[0m\u001b[0;34m'main'\u001b[0m\u001b[0;34m)\u001b[0m\u001b[0;34m\u001b[0m\u001b[0;34m\u001b[0m\u001b[0m\n\u001b[1;32m      7\u001b[0m \u001b[0mdevice\u001b[0m \u001b[0;34m=\u001b[0m \u001b[0mprovider\u001b[0m\u001b[0;34m.\u001b[0m\u001b[0mget_backend\u001b[0m\u001b[0;34m(\u001b[0m\u001b[0;34m'ibmq_quito'\u001b[0m\u001b[0;34m)\u001b[0m\u001b[0;34m\u001b[0m\u001b[0;34m\u001b[0m\u001b[0m\n\u001b[0;32m----> 8\u001b[0;31m \u001b[0msimulator\u001b[0m \u001b[0;34m=\u001b[0m \u001b[0mAer\u001b[0m\u001b[0;34m.\u001b[0m\u001b[0mget_backend\u001b[0m\u001b[0;34m(\u001b[0m\u001b[0;34m'qasm_simulator'\u001b[0m\u001b[0;34m)\u001b[0m\u001b[0;34m\u001b[0m\u001b[0;34m\u001b[0m\u001b[0m\n\u001b[0m\u001b[1;32m      9\u001b[0m \u001b[0;32mfrom\u001b[0m \u001b[0mqiskit\u001b[0m\u001b[0;34m.\u001b[0m\u001b[0mtools\u001b[0m\u001b[0;34m.\u001b[0m\u001b[0mmonitor\u001b[0m \u001b[0;32mimport\u001b[0m \u001b[0mjob_monitor\u001b[0m\u001b[0;34m\u001b[0m\u001b[0;34m\u001b[0m\u001b[0m\n",
      "\u001b[0;32m~/anaconda3/lib/python3.9/site-packages/qiskit/__init__.py\u001b[0m in \u001b[0;36m__getattr__\u001b[0;34m(self, attr)\u001b[0m\n\u001b[1;32m    132\u001b[0m                 \u001b[0;32mfrom\u001b[0m \u001b[0mqiskit\u001b[0m\u001b[0;34m.\u001b[0m\u001b[0mproviders\u001b[0m \u001b[0;32mimport\u001b[0m \u001b[0maer\u001b[0m\u001b[0;34m\u001b[0m\u001b[0;34m\u001b[0m\u001b[0m\n\u001b[1;32m    133\u001b[0m \u001b[0;34m\u001b[0m\u001b[0m\n\u001b[0;32m--> 134\u001b[0;31m                 \u001b[0mself\u001b[0m\u001b[0;34m.\u001b[0m\u001b[0maer\u001b[0m \u001b[0;34m=\u001b[0m \u001b[0maer\u001b[0m\u001b[0;34m.\u001b[0m\u001b[0mAer\u001b[0m\u001b[0;34m\u001b[0m\u001b[0;34m\u001b[0m\u001b[0m\n\u001b[0m\u001b[1;32m    135\u001b[0m                 warnings.warn(\n\u001b[1;32m    136\u001b[0m                     \u001b[0;34m\"The qiskit.Aer entry point will be deprecated in a future release and \"\u001b[0m\u001b[0;34m\u001b[0m\u001b[0;34m\u001b[0m\u001b[0m\n",
      "\u001b[0;31mAttributeError\u001b[0m: module 'qiskit_aer' has no attribute 'Aer'"
     ]
    }
   ],
   "source": [
    "import qiskit\n",
    "from qiskit import *\n",
    "nshots = 8192\n",
    "IBMQ.save_account('7cc830e0cb005ce6de9caf9c402a1992c5d38d25af4237c19e72a4c58ce204481eb7a0d08b9929e5b5d3028f3146c38d2da8f2eb8db8f6f8b02a97eeb8fbc6de')\n",
    "IBMQ.load_account()\n",
    "provider = qiskit.IBMQ.get_provider(hub='ibm-q', group='open', project='main')\n",
    "device = provider.get_backend('ibmq_quito')\n",
    "simulator = Aer.get_backend('qasm_simulator')\n",
    "from qiskit.tools.monitor import job_monitor"
   ]
  },
  {
   "cell_type": "code",
   "execution_count": 19,
   "metadata": {},
   "outputs": [
    {
     "name": "stdout",
     "output_type": "stream",
     "text": [
      "Requirement already satisfied: qiskit-aer in /home/v/anaconda3/lib/python3.9/site-packages (0.11.2)\n",
      "Requirement already satisfied: numpy>=1.16.3 in /home/v/anaconda3/lib/python3.9/site-packages (from qiskit-aer) (1.21.5)\n",
      "Requirement already satisfied: qiskit-terra>=0.21.0 in /home/v/anaconda3/lib/python3.9/site-packages (from qiskit-aer) (0.23.1)\n",
      "Requirement already satisfied: scipy>=1.0 in /home/v/anaconda3/lib/python3.9/site-packages (from qiskit-aer) (1.9.1)\n",
      "Requirement already satisfied: symengine>=0.9 in /home/v/anaconda3/lib/python3.9/site-packages (from qiskit-terra>=0.21.0->qiskit-aer) (0.9.2)\n",
      "Requirement already satisfied: sympy>=1.3 in /home/v/anaconda3/lib/python3.9/site-packages (from qiskit-terra>=0.21.0->qiskit-aer) (1.10.1)\n",
      "Requirement already satisfied: dill>=0.3 in /home/v/anaconda3/lib/python3.9/site-packages (from qiskit-terra>=0.21.0->qiskit-aer) (0.3.4)\n",
      "Requirement already satisfied: python-dateutil>=2.8.0 in /home/v/anaconda3/lib/python3.9/site-packages (from qiskit-terra>=0.21.0->qiskit-aer) (2.8.2)\n",
      "Requirement already satisfied: rustworkx>=0.12.0 in /home/v/anaconda3/lib/python3.9/site-packages (from qiskit-terra>=0.21.0->qiskit-aer) (0.12.1)\n",
      "Requirement already satisfied: stevedore>=3.0.0 in /home/v/anaconda3/lib/python3.9/site-packages (from qiskit-terra>=0.21.0->qiskit-aer) (4.1.1)\n",
      "Requirement already satisfied: ply>=3.10 in /home/v/anaconda3/lib/python3.9/site-packages (from qiskit-terra>=0.21.0->qiskit-aer) (3.11)\n",
      "Requirement already satisfied: psutil>=5 in /home/v/anaconda3/lib/python3.9/site-packages (from qiskit-terra>=0.21.0->qiskit-aer) (5.9.0)\n",
      "Requirement already satisfied: six>=1.5 in /home/v/anaconda3/lib/python3.9/site-packages (from python-dateutil>=2.8.0->qiskit-terra>=0.21.0->qiskit-aer) (1.16.0)\n",
      "Requirement already satisfied: pbr!=2.1.0,>=2.0.0 in /home/v/anaconda3/lib/python3.9/site-packages (from stevedore>=3.0.0->qiskit-terra>=0.21.0->qiskit-aer) (5.11.1)\n",
      "Requirement already satisfied: mpmath>=0.19 in /home/v/anaconda3/lib/python3.9/site-packages (from sympy>=1.3->qiskit-terra>=0.21.0->qiskit-aer) (1.2.1)\n"
     ]
    }
   ],
   "source": [
    "!pip install qiskit-aer\n"
   ]
  },
  {
   "cell_type": "code",
   "execution_count": 2,
   "metadata": {},
   "outputs": [
    {
     "ename": "NameError",
     "evalue": "name 'general_state' is not defined",
     "output_type": "error",
     "traceback": [
      "\u001b[0;31m---------------------------------------------------------------------------\u001b[0m",
      "\u001b[0;31mNameError\u001b[0m                                 Traceback (most recent call last)",
      "\u001b[0;32m/tmp/ipykernel_54727/3689411386.py\u001b[0m in \u001b[0;36m<module>\u001b[0;34m\u001b[0m\n\u001b[1;32m      2\u001b[0m \u001b[0;32mfrom\u001b[0m \u001b[0mqiskit\u001b[0m\u001b[0;34m.\u001b[0m\u001b[0mvisualization\u001b[0m \u001b[0;32mimport\u001b[0m \u001b[0mplot_state_qsphere\u001b[0m\u001b[0;34m\u001b[0m\u001b[0;34m\u001b[0m\u001b[0m\n\u001b[1;32m      3\u001b[0m \u001b[0;34m\u001b[0m\u001b[0m\n\u001b[0;32m----> 4\u001b[0;31m \u001b[0msv\u001b[0m\u001b[0;34m=\u001b[0m\u001b[0mStatevector\u001b[0m\u001b[0;34m(\u001b[0m\u001b[0mgeneral_state\u001b[0m\u001b[0;34m(\u001b[0m\u001b[0mnp\u001b[0m\u001b[0;34m.\u001b[0m\u001b[0mpi\u001b[0m\u001b[0;34m/\u001b[0m\u001b[0;36m2\u001b[0m\u001b[0;34m,\u001b[0m\u001b[0;36m0\u001b[0m\u001b[0;34m)\u001b[0m\u001b[0;34m)\u001b[0m\u001b[0;34m\u001b[0m\u001b[0;34m\u001b[0m\u001b[0m\n\u001b[0m\u001b[1;32m      5\u001b[0m \u001b[0mplot_state_qsphere\u001b[0m\u001b[0;34m(\u001b[0m\u001b[0msv\u001b[0m\u001b[0;34m)\u001b[0m\u001b[0;34m\u001b[0m\u001b[0;34m\u001b[0m\u001b[0m\n",
      "\u001b[0;31mNameError\u001b[0m: name 'general_state' is not defined"
     ]
    }
   ],
   "source": [
    "from qiskit.quantum_info import Statevector\n",
    "from qiskit.visualization import plot_state_qsphere\n",
    "\n",
    "sv=Statevector(general_state(np.pi/2,0))\n",
    "plot_state_qsphere(sv)"
   ]
  },
  {
   "cell_type": "code",
   "execution_count": 1,
   "metadata": {},
   "outputs": [
    {
     "ename": "ModuleNotFoundError",
     "evalue": "No module named 'torch'",
     "output_type": "error",
     "traceback": [
      "\u001b[0;31m---------------------------------------------------------------------------\u001b[0m",
      "\u001b[0;31mModuleNotFoundError\u001b[0m                       Traceback (most recent call last)",
      "Cell \u001b[0;32mIn[1], line 1\u001b[0m\n\u001b[0;32m----> 1\u001b[0m \u001b[39mfrom\u001b[39;00m \u001b[39mtools\u001b[39;00m \u001b[39mimport\u001b[39;00m \u001b[39m*\u001b[39m\n\u001b[1;32m      2\u001b[0m \u001b[39mdef\u001b[39;00m \u001b[39mvqa_gen_state\u001b[39m(n_qubits, depht\u001b[39m=\u001b[39m\u001b[39mNone\u001b[39;00m):\n\u001b[1;32m      3\u001b[0m     \u001b[39m#n_qubits = 1\u001b[39;00m\n\u001b[1;32m      4\u001b[0m     \u001b[39mif\u001b[39;00m depht \u001b[39m==\u001b[39m \u001b[39mNone\u001b[39;00m:\n",
      "File \u001b[0;32m~/Desktop/Qiskit/tools.py:2\u001b[0m\n\u001b[1;32m      1\u001b[0m \u001b[39m#from sympy import conjugate\u001b[39;00m\n\u001b[0;32m----> 2\u001b[0m \u001b[39mfrom\u001b[39;00m \u001b[39mtorch\u001b[39;00m\u001b[39m.\u001b[39;00m\u001b[39mautograd\u001b[39;00m \u001b[39mimport\u001b[39;00m Variable\n\u001b[1;32m      3\u001b[0m \u001b[39mimport\u001b[39;00m \u001b[39mtorch\u001b[39;00m\n\u001b[1;32m      4\u001b[0m \u001b[39mfrom\u001b[39;00m \u001b[39mrsvg\u001b[39;00m \u001b[39mimport\u001b[39;00m rsvg\n",
      "\u001b[0;31mModuleNotFoundError\u001b[0m: No module named 'torch'"
     ]
    }
   ],
   "source": [
    "from tools import *\n",
    "def vqa_gen_state(n_qubits, depht=None):\n",
    "    #n_qubits = 1\n",
    "    if depht == None:\n",
    "        depht = n_qubits+1\n",
    "    n = 3*n_qubits*(1+depht)\n",
    "    params = random_params(n)\n",
    "    device = qml.device('qiskit.aer', wires=n_qubits, backend='qasm_simulator')\n",
    "    @qml.qnode(device, interface=\"torch\")\n",
    "    def circuit(params, M=None):\n",
    "        w = [0,1]\n",
    "\n",
    "        for j in range(0,24,6):\n",
    "            #print(j)\n",
    "            qml.RX(params[j], wires=0)\n",
    "            qml.RY(params[j+1], wires=0)\n",
    "            qml.RZ(params[j+2], wires=0)\n",
    "            qml.RX(params[j+3], wires=1)\n",
    "            qml.RY(params[j+4], wires=1)\n",
    "            qml.RZ(params[j+5], wires=1)\n",
    "            if j <18:\n",
    "                qml.CNOT(wires=[0, 1])\n",
    "        return qml.expval(qml.Hermitian(M, wires=w))\n",
    "    return circuit, params\n",
    "n_qubits = 2\n",
    "circuit, params = vqa_gen_state(n_qubits)\n",
    "target_vector, target_op = init_state_gen_state(np.pi/2,0)\n",
    "#best_params, f = train(10, circuit, params, target_op)\n"
   ]
  },
  {
   "cell_type": "code",
   "execution_count": null,
   "metadata": {},
   "outputs": [],
   "source": []
  },
  {
   "cell_type": "code",
   "execution_count": null,
   "metadata": {},
   "outputs": [],
   "source": []
  },
  {
   "cell_type": "code",
   "execution_count": 1,
   "metadata": {},
   "outputs": [],
   "source": [
    "from qiskit_ibm_runtime import QiskitRuntimeService\n",
    "\n",
    "QiskitRuntimeService.save_account(channel=\"ibm_quantum\", token='7cc830e0cb005ce6de9caf9c402a1992c5d38d25af4237c19e72a4c58ce204481eb7a0d08b9929e5b5d3028f3146c38d2da8f2eb8db8f6f8b02a97eeb8fbc6de')\n"
   ]
  },
  {
   "cell_type": "code",
   "execution_count": 2,
   "metadata": {},
   "outputs": [],
   "source": [
    "\n",
    "service = QiskitRuntimeService(channel=\"ibm_quantum\")\n",
    "backend = service.get_backend(\"ibmq_qasm_simulator\")"
   ]
  },
  {
   "cell_type": "code",
   "execution_count": 3,
   "metadata": {},
   "outputs": [
    {
     "name": "stderr",
     "output_type": "stream",
     "text": [
      "/tmp/ipykernel_9411/2531918938.py:6: DeprecationWarning: Note that the 'job_id' and 'backend' attributes of a runtime job have been deprecated as of qiskit-ibm-runtime 0.7 and will be removed no sooner than 3 months after the release date. Please use the job_id() and backend() methods instead.\n",
      "  job = service.run(program_id=\"hello-world\",\n"
     ]
    },
    {
     "name": "stdout",
     "output_type": "stream",
     "text": [
      "job id: cfqtvlblcn34i20gvf20\n",
      "Hello, World!\n"
     ]
    }
   ],
   "source": [
    "#   HELLO WORLD\n",
    "\n",
    "service = QiskitRuntimeService()\n",
    "program_inputs = {'iterations': 1}\n",
    "options = {\"backend_name\": \"ibmq_qasm_simulator\"}\n",
    "job = service.run(program_id=\"hello-world\",\n",
    "                options=options,\n",
    "                inputs=program_inputs\n",
    "                )\n",
    "print(f\"job id: {job.job_id()}\")\n",
    "result = job.result()\n",
    "print(result)"
   ]
  },
  {
   "cell_type": "code",
   "execution_count": 1,
   "metadata": {},
   "outputs": [],
   "source": [
    "token = '7cc830e0cb005ce6de9caf9c402a1992c5d38d25af4237c19e72a4c58ce204481eb7a0d08b9929e5b5d3028f3146c38d2da8f2eb8db8f6f8b02a97eeb8fbc6de'\n"
   ]
  },
  {
   "cell_type": "code",
   "execution_count": 5,
   "metadata": {},
   "outputs": [
    {
     "name": "stderr",
     "output_type": "stream",
     "text": [
      "/home/v/anaconda3/lib/python3.9/site-packages/pennylane/transforms/qfunc_transforms.py:68: UserWarning: ``make_tape`` is deprecated in favor of ``qml.tape.make_qscript``\n",
      "  warnings.warn(\"``make_tape`` is deprecated in favor of ``qml.tape.make_qscript``\", UserWarning)\n"
     ]
    }
   ],
   "source": [
    "from pennylane_qiskit import upload_vqe_runner, vqe_runner\n",
    "import pennylane as qml\n",
    "from qiskit import IBMQ\n",
    "#IBMQ.enable_account(token)\n",
    "\n",
    "program_id = upload_vqe_runner(hub=\"ibm-q\", group=\"open\", project=\"main\")\n",
    "\n",
    "def vqe_circuit(params):\n",
    "    qml.RX(params[0], wires=0)\n",
    "    qml.RY(params[1], wires=0)\n",
    "shots = 10\n",
    "\n",
    "coeffs = [1, 1]\n",
    "obs = [qml.PauliX(0), qml.PauliZ(0)]\n",
    "hamiltonian = qml.Hamiltonian(coeffs, obs)\n",
    "\n",
    "job = vqe_runner(\n",
    "    program_id=program_id,\n",
    "    backend=\"ibmq_qasm_simulator\",\n",
    "    hamiltonian=hamiltonian,\n",
    "    ansatz=vqe_circuit,\n",
    "    x0=[3.97507603, 3.00854038],\n",
    "    shots=shots,\n",
    "    optimizer=\"SPSA\",\n",
    "    optimizer_config={\"maxiter\": 40},\n",
    "    kwargs={\"hub\": \"ibm-q\", \"group\": \"open\", \"project\": \"main\"},\n",
    ")"
   ]
  },
  {
   "cell_type": "code",
   "execution_count": 6,
   "metadata": {},
   "outputs": [
    {
     "name": "stdout",
     "output_type": "stream",
     "text": [
      "     fun: -1.4000000000000001\n",
      " message: 'Optimization terminated successfully.'\n",
      "    nfev: 120\n",
      "     nit: 40\n",
      " success: True\n",
      "       x: array([6.49791302, 3.88503794])\n"
     ]
    }
   ],
   "source": [
    "result = job.result()\n",
    "print(result)"
   ]
  }
 ],
 "metadata": {
  "kernelspec": {
   "display_name": "generic_state_vqa",
   "language": "python",
   "name": "python3"
  },
  "language_info": {
   "codemirror_mode": {
    "name": "ipython",
    "version": 3
   },
   "file_extension": ".py",
   "mimetype": "text/x-python",
   "name": "python",
   "nbconvert_exporter": "python",
   "pygments_lexer": "ipython3",
   "version": "3.10.6"
  },
  "orig_nbformat": 4,
  "vscode": {
   "interpreter": {
    "hash": "112630b80dcbd6c7f83c3c2075c36a8ef2b83071eeda02ed8b9302653dbd91cf"
   }
  }
 },
 "nbformat": 4,
 "nbformat_minor": 2
}
