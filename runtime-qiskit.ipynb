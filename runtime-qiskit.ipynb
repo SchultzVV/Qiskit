{
 "cells": [
  {
   "cell_type": "code",
   "execution_count": 1,
   "metadata": {},
   "outputs": [
    {
     "name": "stdout",
     "output_type": "stream",
     "text": [
      "Requirement already satisfied: qiskit in /home/v/anaconda3/lib/python3.9/site-packages (0.39.2)\n",
      "Collecting qiskit\n",
      "  Using cached qiskit-0.41.0-py3-none-any.whl\n",
      "Collecting qiskit-terra==0.23.1\n",
      "  Using cached qiskit_terra-0.23.1-cp39-cp39-manylinux_2_17_x86_64.manylinux2014_x86_64.whl (5.1 MB)\n",
      "Collecting qiskit-aer==0.11.2\n",
      "  Using cached qiskit_aer-0.11.2-cp39-cp39-manylinux_2_17_x86_64.manylinux2014_x86_64.whl (12.8 MB)\n",
      "Collecting qiskit-ibmq-provider==0.20.0\n",
      "  Using cached qiskit_ibmq_provider-0.20.0-py3-none-any.whl (241 kB)\n",
      "Requirement already satisfied: numpy>=1.16.3 in /home/v/anaconda3/lib/python3.9/site-packages (from qiskit-aer==0.11.2->qiskit) (1.21.5)\n",
      "Requirement already satisfied: scipy>=1.0 in /home/v/anaconda3/lib/python3.9/site-packages (from qiskit-aer==0.11.2->qiskit) (1.9.1)\n",
      "Requirement already satisfied: python-dateutil>=2.8.0 in /home/v/anaconda3/lib/python3.9/site-packages (from qiskit-ibmq-provider==0.20.0->qiskit) (2.8.2)\n",
      "Collecting websocket-client<=1.3.3\n",
      "  Using cached websocket_client-1.3.3-py3-none-any.whl (54 kB)\n",
      "Requirement already satisfied: requests-ntlm>=1.1.0 in /home/v/anaconda3/lib/python3.9/site-packages (from qiskit-ibmq-provider==0.20.0->qiskit) (1.1.0)\n",
      "Requirement already satisfied: urllib3>=1.21.1 in /home/v/anaconda3/lib/python3.9/site-packages (from qiskit-ibmq-provider==0.20.0->qiskit) (1.26.11)\n",
      "Requirement already satisfied: websockets>=10.0 in /home/v/anaconda3/lib/python3.9/site-packages (from qiskit-ibmq-provider==0.20.0->qiskit) (10.4)\n",
      "Requirement already satisfied: requests>=2.19 in /home/v/anaconda3/lib/python3.9/site-packages (from qiskit-ibmq-provider==0.20.0->qiskit) (2.28.1)\n",
      "Requirement already satisfied: psutil>=5 in /home/v/anaconda3/lib/python3.9/site-packages (from qiskit-terra==0.23.1->qiskit) (5.9.0)\n",
      "Requirement already satisfied: ply>=3.10 in /home/v/anaconda3/lib/python3.9/site-packages (from qiskit-terra==0.23.1->qiskit) (3.11)\n",
      "Requirement already satisfied: sympy>=1.3 in /home/v/anaconda3/lib/python3.9/site-packages (from qiskit-terra==0.23.1->qiskit) (1.10.1)\n",
      "Requirement already satisfied: dill>=0.3 in /home/v/anaconda3/lib/python3.9/site-packages (from qiskit-terra==0.23.1->qiskit) (0.3.4)\n",
      "Requirement already satisfied: stevedore>=3.0.0 in /home/v/anaconda3/lib/python3.9/site-packages (from qiskit-terra==0.23.1->qiskit) (4.1.1)\n",
      "Requirement already satisfied: symengine>=0.9 in /home/v/anaconda3/lib/python3.9/site-packages (from qiskit-terra==0.23.1->qiskit) (0.9.2)\n",
      "Requirement already satisfied: rustworkx>=0.12.0 in /home/v/anaconda3/lib/python3.9/site-packages (from qiskit-terra==0.23.1->qiskit) (0.12.1)\n",
      "Requirement already satisfied: six>=1.5 in /home/v/anaconda3/lib/python3.9/site-packages (from python-dateutil>=2.8.0->qiskit-ibmq-provider==0.20.0->qiskit) (1.16.0)\n",
      "Requirement already satisfied: idna<4,>=2.5 in /home/v/anaconda3/lib/python3.9/site-packages (from requests>=2.19->qiskit-ibmq-provider==0.20.0->qiskit) (3.3)\n",
      "Requirement already satisfied: certifi>=2017.4.17 in /home/v/anaconda3/lib/python3.9/site-packages (from requests>=2.19->qiskit-ibmq-provider==0.20.0->qiskit) (2022.9.14)\n",
      "Requirement already satisfied: charset-normalizer<3,>=2 in /home/v/anaconda3/lib/python3.9/site-packages (from requests>=2.19->qiskit-ibmq-provider==0.20.0->qiskit) (2.0.4)\n",
      "Requirement already satisfied: ntlm-auth>=1.0.2 in /home/v/anaconda3/lib/python3.9/site-packages (from requests-ntlm>=1.1.0->qiskit-ibmq-provider==0.20.0->qiskit) (1.5.0)\n",
      "Requirement already satisfied: cryptography>=1.3 in /home/v/anaconda3/lib/python3.9/site-packages (from requests-ntlm>=1.1.0->qiskit-ibmq-provider==0.20.0->qiskit) (37.0.1)\n",
      "Requirement already satisfied: pbr!=2.1.0,>=2.0.0 in /home/v/anaconda3/lib/python3.9/site-packages (from stevedore>=3.0.0->qiskit-terra==0.23.1->qiskit) (5.11.1)\n",
      "Requirement already satisfied: mpmath>=0.19 in /home/v/anaconda3/lib/python3.9/site-packages (from sympy>=1.3->qiskit-terra==0.23.1->qiskit) (1.2.1)\n",
      "Requirement already satisfied: cffi>=1.12 in /home/v/anaconda3/lib/python3.9/site-packages (from cryptography>=1.3->requests-ntlm>=1.1.0->qiskit-ibmq-provider==0.20.0->qiskit) (1.15.1)\n",
      "Requirement already satisfied: pycparser in /home/v/anaconda3/lib/python3.9/site-packages (from cffi>=1.12->cryptography>=1.3->requests-ntlm>=1.1.0->qiskit-ibmq-provider==0.20.0->qiskit) (2.21)\n",
      "Installing collected packages: websocket-client, qiskit-terra, qiskit-aer, qiskit-ibmq-provider, qiskit\n",
      "  Attempting uninstall: websocket-client\n",
      "    Found existing installation: websocket-client 1.5.1\n",
      "    Uninstalling websocket-client-1.5.1:\n",
      "      Successfully uninstalled websocket-client-1.5.1\n",
      "  Attempting uninstall: qiskit-terra\n",
      "    Found existing installation: qiskit-terra 0.22.2\n",
      "    Uninstalling qiskit-terra-0.22.2:\n",
      "      Successfully uninstalled qiskit-terra-0.22.2\n",
      "  Attempting uninstall: qiskit-aer\n",
      "    Found existing installation: qiskit-aer 0.11.1\n",
      "    Uninstalling qiskit-aer-0.11.1:\n",
      "      Successfully uninstalled qiskit-aer-0.11.1\n",
      "  Attempting uninstall: qiskit-ibmq-provider\n",
      "    Found existing installation: qiskit-ibmq-provider 0.19.2\n",
      "    Uninstalling qiskit-ibmq-provider-0.19.2:\n",
      "      Successfully uninstalled qiskit-ibmq-provider-0.19.2\n",
      "  Attempting uninstall: qiskit\n",
      "    Found existing installation: qiskit 0.39.2\n",
      "    Uninstalling qiskit-0.39.2:\n",
      "      Successfully uninstalled qiskit-0.39.2\n",
      "Successfully installed qiskit-0.41.0 qiskit-aer-0.11.2 qiskit-ibmq-provider-0.20.0 qiskit-terra-0.23.1 websocket-client-1.3.3\n",
      "Note: you may need to restart the kernel to use updated packages.\n"
     ]
    }
   ],
   "source": [
    "pip install qiskit -U"
   ]
  },
  {
   "cell_type": "code",
   "execution_count": 2,
   "metadata": {},
   "outputs": [
    {
     "name": "stdout",
     "output_type": "stream",
     "text": [
      "Collecting qiskit-ibm-runtime\n",
      "  Downloading qiskit_ibm_runtime-0.9.0-py3-none-any.whl (175 kB)\n",
      "\u001b[2K     \u001b[38;2;114;156;31m━━━━━━━━━━━━━━━━━━━━━━━━━━━━━━━━━━━━━━━\u001b[0m \u001b[32m175.4/175.4 kB\u001b[0m \u001b[31m1.9 MB/s\u001b[0m eta \u001b[36m0:00:00\u001b[0mm eta \u001b[36m0:00:01\u001b[0m0:01\u001b[0m\n",
      "\u001b[?25hRequirement already satisfied: python-dateutil>=2.8.0 in /home/v/anaconda3/lib/python3.9/site-packages (from qiskit-ibm-runtime) (2.8.2)\n",
      "Collecting websocket-client>=1.5.1\n",
      "  Using cached websocket_client-1.5.1-py3-none-any.whl (55 kB)\n",
      "Requirement already satisfied: requests>=2.19 in /home/v/anaconda3/lib/python3.9/site-packages (from qiskit-ibm-runtime) (2.28.1)\n",
      "Requirement already satisfied: qiskit-terra>=0.23.1 in /home/v/anaconda3/lib/python3.9/site-packages (from qiskit-ibm-runtime) (0.23.1)\n",
      "Requirement already satisfied: requests-ntlm>=1.1.0 in /home/v/anaconda3/lib/python3.9/site-packages (from qiskit-ibm-runtime) (1.1.0)\n",
      "Requirement already satisfied: numpy<1.24 in /home/v/anaconda3/lib/python3.9/site-packages (from qiskit-ibm-runtime) (1.21.5)\n",
      "Requirement already satisfied: urllib3>=1.21.1 in /home/v/anaconda3/lib/python3.9/site-packages (from qiskit-ibm-runtime) (1.26.11)\n",
      "Requirement already satisfied: typing-extensions>=4.0.0 in /home/v/anaconda3/lib/python3.9/site-packages (from qiskit-ibm-runtime) (4.3.0)\n",
      "Collecting ibm-platform-services>=0.22.6\n",
      "  Downloading ibm-platform-services-0.31.1.tar.gz (248 kB)\n",
      "\u001b[2K     \u001b[38;2;114;156;31m━━━━━━━━━━━━━━━━━━━━━━━━━━━━━━━━━━━━━━━\u001b[0m \u001b[32m248.9/248.9 kB\u001b[0m \u001b[31m4.0 MB/s\u001b[0m eta \u001b[36m0:00:00\u001b[0mm eta \u001b[36m0:00:01\u001b[0m\n",
      "\u001b[?25h  Installing build dependencies ... \u001b[?25ldone\n",
      "\u001b[?25h  Getting requirements to build wheel ... \u001b[?25ldone\n",
      "\u001b[?25h  Preparing metadata (pyproject.toml) ... \u001b[?25ldone\n",
      "\u001b[?25hCollecting ibm-cloud-sdk-core<4.0.0,>=3.16.0\n",
      "  Downloading ibm-cloud-sdk-core-3.16.2.tar.gz (50 kB)\n",
      "\u001b[2K     \u001b[38;2;114;156;31m━━━━━━━━━━━━━━━━━━━━━━━━━━━━━━━━━━━━━━━\u001b[0m \u001b[32m50.5/50.5 kB\u001b[0m \u001b[31m826.1 kB/s\u001b[0m eta \u001b[36m0:00:00\u001b[0m MB/s\u001b[0m eta \u001b[36m0:00:01\u001b[0m\n",
      "\u001b[?25h  Installing build dependencies ... \u001b[?25ldone\n",
      "\u001b[?25h  Getting requirements to build wheel ... \u001b[?25ldone\n",
      "\u001b[?25h  Preparing metadata (pyproject.toml) ... \u001b[?25ldone\n",
      "\u001b[?25hRequirement already satisfied: six>=1.5 in /home/v/anaconda3/lib/python3.9/site-packages (from python-dateutil>=2.8.0->qiskit-ibm-runtime) (1.16.0)\n",
      "Requirement already satisfied: ply>=3.10 in /home/v/anaconda3/lib/python3.9/site-packages (from qiskit-terra>=0.23.1->qiskit-ibm-runtime) (3.11)\n",
      "Requirement already satisfied: symengine>=0.9 in /home/v/anaconda3/lib/python3.9/site-packages (from qiskit-terra>=0.23.1->qiskit-ibm-runtime) (0.9.2)\n",
      "Requirement already satisfied: stevedore>=3.0.0 in /home/v/anaconda3/lib/python3.9/site-packages (from qiskit-terra>=0.23.1->qiskit-ibm-runtime) (4.1.1)\n",
      "Requirement already satisfied: psutil>=5 in /home/v/anaconda3/lib/python3.9/site-packages (from qiskit-terra>=0.23.1->qiskit-ibm-runtime) (5.9.0)\n",
      "Requirement already satisfied: dill>=0.3 in /home/v/anaconda3/lib/python3.9/site-packages (from qiskit-terra>=0.23.1->qiskit-ibm-runtime) (0.3.4)\n",
      "Requirement already satisfied: scipy>=1.5 in /home/v/anaconda3/lib/python3.9/site-packages (from qiskit-terra>=0.23.1->qiskit-ibm-runtime) (1.9.1)\n",
      "Requirement already satisfied: sympy>=1.3 in /home/v/anaconda3/lib/python3.9/site-packages (from qiskit-terra>=0.23.1->qiskit-ibm-runtime) (1.10.1)\n",
      "Requirement already satisfied: rustworkx>=0.12.0 in /home/v/anaconda3/lib/python3.9/site-packages (from qiskit-terra>=0.23.1->qiskit-ibm-runtime) (0.12.1)\n",
      "Requirement already satisfied: idna<4,>=2.5 in /home/v/anaconda3/lib/python3.9/site-packages (from requests>=2.19->qiskit-ibm-runtime) (3.3)\n",
      "Requirement already satisfied: certifi>=2017.4.17 in /home/v/anaconda3/lib/python3.9/site-packages (from requests>=2.19->qiskit-ibm-runtime) (2022.9.14)\n",
      "Requirement already satisfied: charset-normalizer<3,>=2 in /home/v/anaconda3/lib/python3.9/site-packages (from requests>=2.19->qiskit-ibm-runtime) (2.0.4)\n",
      "Requirement already satisfied: cryptography>=1.3 in /home/v/anaconda3/lib/python3.9/site-packages (from requests-ntlm>=1.1.0->qiskit-ibm-runtime) (37.0.1)\n",
      "Requirement already satisfied: ntlm-auth>=1.0.2 in /home/v/anaconda3/lib/python3.9/site-packages (from requests-ntlm>=1.1.0->qiskit-ibm-runtime) (1.5.0)\n",
      "Requirement already satisfied: cffi>=1.12 in /home/v/anaconda3/lib/python3.9/site-packages (from cryptography>=1.3->requests-ntlm>=1.1.0->qiskit-ibm-runtime) (1.15.1)\n",
      "Requirement already satisfied: PyJWT<3.0.0,>=2.4.0 in /home/v/anaconda3/lib/python3.9/site-packages (from ibm-cloud-sdk-core<4.0.0,>=3.16.0->ibm-platform-services>=0.22.6->qiskit-ibm-runtime) (2.4.0)\n",
      "Requirement already satisfied: pbr!=2.1.0,>=2.0.0 in /home/v/anaconda3/lib/python3.9/site-packages (from stevedore>=3.0.0->qiskit-terra>=0.23.1->qiskit-ibm-runtime) (5.11.1)\n",
      "Requirement already satisfied: mpmath>=0.19 in /home/v/anaconda3/lib/python3.9/site-packages (from sympy>=1.3->qiskit-terra>=0.23.1->qiskit-ibm-runtime) (1.2.1)\n",
      "Requirement already satisfied: pycparser in /home/v/anaconda3/lib/python3.9/site-packages (from cffi>=1.12->cryptography>=1.3->requests-ntlm>=1.1.0->qiskit-ibm-runtime) (2.21)\n",
      "Building wheels for collected packages: ibm-platform-services, ibm-cloud-sdk-core\n",
      "  Building wheel for ibm-platform-services (pyproject.toml) ... \u001b[?25ldone\n",
      "\u001b[?25h  Created wheel for ibm-platform-services: filename=ibm_platform_services-0.31.1-py3-none-any.whl size=263974 sha256=c2d01ee3cdd4534107444494baff678cf0edfaa8b3dc1b757fda3abb9f20fd71\n",
      "  Stored in directory: /home/v/.cache/pip/wheels/d1/33/f8/82a0389388f8a2a8fa3c8afe43046ec12407da22ad3dc94dc1\n",
      "  Building wheel for ibm-cloud-sdk-core (pyproject.toml) ... \u001b[?25ldone\n",
      "\u001b[?25h  Created wheel for ibm-cloud-sdk-core: filename=ibm_cloud_sdk_core-3.16.2-py3-none-any.whl size=83556 sha256=3992d563a120b008db95e092aa08748330fb37382abbd03b3fab6d34367d02d0\n",
      "  Stored in directory: /home/v/.cache/pip/wheels/bc/70/ed/84b4301a3314d233704faaa1e527b5a27a97b34de0604315db\n",
      "Successfully built ibm-platform-services ibm-cloud-sdk-core\n",
      "Installing collected packages: websocket-client, ibm-cloud-sdk-core, ibm-platform-services, qiskit-ibm-runtime\n",
      "  Attempting uninstall: websocket-client\n",
      "    Found existing installation: websocket-client 1.3.3\n",
      "    Uninstalling websocket-client-1.3.3:\n",
      "      Successfully uninstalled websocket-client-1.3.3\n",
      "\u001b[31mERROR: pip's dependency resolver does not currently take into account all the packages that are installed. This behaviour is the source of the following dependency conflicts.\n",
      "qiskit-ibmq-provider 0.20.0 requires websocket-client<=1.3.3, but you have websocket-client 1.5.1 which is incompatible.\u001b[0m\u001b[31m\n",
      "\u001b[0mSuccessfully installed ibm-cloud-sdk-core-3.16.2 ibm-platform-services-0.31.1 qiskit-ibm-runtime-0.9.0 websocket-client-1.5.1\n",
      "Note: you may need to restart the kernel to use updated packages.\n"
     ]
    }
   ],
   "source": [
    "pip install qiskit-ibm-runtime -U\n"
   ]
  },
  {
   "cell_type": "code",
   "execution_count": 1,
   "metadata": {},
   "outputs": [],
   "source": [
    "from qiskit_ibm_runtime import QiskitRuntimeService\n",
    "\n",
    "QiskitRuntimeService.save_account(channel=\"ibm_quantum\", token='7cc830e0cb005ce6de9caf9c402a1992c5d38d25af4237c19e72a4c58ce204481eb7a0d08b9929e5b5d3028f3146c38d2da8f2eb8db8f6f8b02a97eeb8fbc6de')\n"
   ]
  },
  {
   "cell_type": "code",
   "execution_count": 2,
   "metadata": {},
   "outputs": [],
   "source": [
    "\n",
    "service = QiskitRuntimeService(channel=\"ibm_quantum\")\n",
    "backend = service.get_backend(\"ibmq_qasm_simulator\")"
   ]
  },
  {
   "cell_type": "code",
   "execution_count": 3,
   "metadata": {},
   "outputs": [
    {
     "name": "stderr",
     "output_type": "stream",
     "text": [
      "/tmp/ipykernel_9411/2531918938.py:6: DeprecationWarning: Note that the 'job_id' and 'backend' attributes of a runtime job have been deprecated as of qiskit-ibm-runtime 0.7 and will be removed no sooner than 3 months after the release date. Please use the job_id() and backend() methods instead.\n",
      "  job = service.run(program_id=\"hello-world\",\n"
     ]
    },
    {
     "name": "stdout",
     "output_type": "stream",
     "text": [
      "job id: cfqtvlblcn34i20gvf20\n",
      "Hello, World!\n"
     ]
    }
   ],
   "source": [
    "#   HELLO WORLD\n",
    "\n",
    "service = QiskitRuntimeService()\n",
    "program_inputs = {'iterations': 1}\n",
    "options = {\"backend_name\": \"ibmq_qasm_simulator\"}\n",
    "job = service.run(program_id=\"hello-world\",\n",
    "                options=options,\n",
    "                inputs=program_inputs\n",
    "                )\n",
    "print(f\"job id: {job.job_id()}\")\n",
    "result = job.result()\n",
    "print(result)"
   ]
  },
  {
   "cell_type": "code",
   "execution_count": 10,
   "metadata": {},
   "outputs": [
    {
     "ename": "QiskitRuntimeError",
     "evalue": "'Failed to create program: \"(\\'Connection aborted.\\', ConnectionResetError(104, \\'Connection reset by peer\\'))\"'",
     "output_type": "error",
     "traceback": [
      "\u001b[0;31m---------------------------------------------------------------------------\u001b[0m",
      "\u001b[0;31mQiskitRuntimeError\u001b[0m                        Traceback (most recent call last)",
      "\u001b[0;32m/tmp/ipykernel_9411/78325947.py\u001b[0m in \u001b[0;36m<module>\u001b[0;34m\u001b[0m\n\u001b[1;32m      8\u001b[0m \u001b[0;34m\u001b[0m\u001b[0m\n\u001b[1;32m      9\u001b[0m \u001b[0;34m\u001b[0m\u001b[0m\n\u001b[0;32m---> 10\u001b[0;31m \u001b[0mprogram_id\u001b[0m \u001b[0;34m=\u001b[0m \u001b[0mupload_vqe_runner\u001b[0m\u001b[0;34m(\u001b[0m\u001b[0mhub\u001b[0m\u001b[0;34m=\u001b[0m\u001b[0;34m\"ibm-q\"\u001b[0m\u001b[0;34m,\u001b[0m \u001b[0mgroup\u001b[0m\u001b[0;34m=\u001b[0m\u001b[0;34m\"open\"\u001b[0m\u001b[0;34m,\u001b[0m \u001b[0mproject\u001b[0m\u001b[0;34m=\u001b[0m\u001b[0;34m\"main\"\u001b[0m\u001b[0;34m)\u001b[0m\u001b[0;34m\u001b[0m\u001b[0;34m\u001b[0m\u001b[0m\n\u001b[0m\u001b[1;32m     11\u001b[0m \u001b[0mshots\u001b[0m \u001b[0;34m=\u001b[0m \u001b[0;36m10\u001b[0m\u001b[0;34m\u001b[0m\u001b[0;34m\u001b[0m\u001b[0m\n\u001b[1;32m     12\u001b[0m \u001b[0;31m#kwargs={\"hub\": \"ibm-q\", \"group\": \"open\", \"project\": \"main\"}\u001b[0m\u001b[0;34m\u001b[0m\u001b[0;34m\u001b[0m\u001b[0m\n",
      "\u001b[0;32m~/anaconda3/lib/python3.9/site-packages/pennylane_qiskit/vqe_runtime_runner.py\u001b[0m in \u001b[0;36mupload_vqe_runner\u001b[0;34m(hub, group, project, **kwargs)\u001b[0m\n\u001b[1;32m    194\u001b[0m     \u001b[0mprogram_path\u001b[0m \u001b[0;34m=\u001b[0m \u001b[0mos\u001b[0m\u001b[0;34m.\u001b[0m\u001b[0mpath\u001b[0m\u001b[0;34m.\u001b[0m\u001b[0mjoin\u001b[0m\u001b[0;34m(\u001b[0m\u001b[0mROOT_DIR\u001b[0m\u001b[0;34m,\u001b[0m \u001b[0mPROG_FILE\u001b[0m\u001b[0;34m)\u001b[0m\u001b[0;34m\u001b[0m\u001b[0;34m\u001b[0m\u001b[0m\n\u001b[1;32m    195\u001b[0m \u001b[0;34m\u001b[0m\u001b[0m\n\u001b[0;32m--> 196\u001b[0;31m     \u001b[0mprogram_id\u001b[0m \u001b[0;34m=\u001b[0m \u001b[0mprovider\u001b[0m\u001b[0;34m.\u001b[0m\u001b[0mruntime\u001b[0m\u001b[0;34m.\u001b[0m\u001b[0mupload_program\u001b[0m\u001b[0;34m(\u001b[0m\u001b[0mdata\u001b[0m\u001b[0;34m=\u001b[0m\u001b[0mprogram_path\u001b[0m\u001b[0;34m,\u001b[0m \u001b[0mmetadata\u001b[0m\u001b[0;34m=\u001b[0m\u001b[0mmeta\u001b[0m\u001b[0;34m)\u001b[0m\u001b[0;34m\u001b[0m\u001b[0;34m\u001b[0m\u001b[0m\n\u001b[0m\u001b[1;32m    197\u001b[0m     \u001b[0;32mreturn\u001b[0m \u001b[0mprogram_id\u001b[0m\u001b[0;34m\u001b[0m\u001b[0;34m\u001b[0m\u001b[0m\n\u001b[1;32m    198\u001b[0m \u001b[0;34m\u001b[0m\u001b[0m\n",
      "\u001b[0;32m~/anaconda3/lib/python3.9/site-packages/qiskit/providers/ibmq/runtime/ibm_runtime_service.py\u001b[0m in \u001b[0;36mupload_program\u001b[0;34m(self, data, metadata)\u001b[0m\n\u001b[1;32m    377\u001b[0m                 raise IBMQNotAuthorizedError(\n\u001b[1;32m    378\u001b[0m                     \"You are not authorized to upload programs.\") from None\n\u001b[0;32m--> 379\u001b[0;31m             \u001b[0;32mraise\u001b[0m \u001b[0mQiskitRuntimeError\u001b[0m\u001b[0;34m(\u001b[0m\u001b[0;34mf\"Failed to create program: {ex}\"\u001b[0m\u001b[0;34m)\u001b[0m \u001b[0;32mfrom\u001b[0m \u001b[0;32mNone\u001b[0m\u001b[0;34m\u001b[0m\u001b[0;34m\u001b[0m\u001b[0m\n\u001b[0m\u001b[1;32m    380\u001b[0m         \u001b[0;32mreturn\u001b[0m \u001b[0mresponse\u001b[0m\u001b[0;34m[\u001b[0m\u001b[0;34m'id'\u001b[0m\u001b[0;34m]\u001b[0m\u001b[0;34m\u001b[0m\u001b[0;34m\u001b[0m\u001b[0m\n\u001b[1;32m    381\u001b[0m \u001b[0;34m\u001b[0m\u001b[0m\n",
      "\u001b[0;31mQiskitRuntimeError\u001b[0m: 'Failed to create program: \"(\\'Connection aborted.\\', ConnectionResetError(104, \\'Connection reset by peer\\'))\"'"
     ]
    }
   ],
   "source": [
    "from pennylane_qiskit import upload_vqe_runner, vqe_runner\n",
    "import pennylane as qml\n",
    "from qiskit import IBMQ\n",
    "\n",
    "\n",
    "#token = '7cc830e0cb005ce6de9caf9c402a1992c5d38d25af4237c19e72a4c58ce204481eb7a0d08b9929e5b5d3028f3146c38d2da8f2eb8db8f6f8b02a97eeb8fbc6de'\n",
    "#IBMQ.enable_account(token)\n",
    "\n",
    "\n",
    "program_id = upload_vqe_runner(hub=\"ibm-q\", group=\"open\", project=\"main\")\n",
    "shots = 10\n",
    "#kwargs={\"hub\": \"ibm-q\", \"group\": \"open\", \"project\": \"main\"}\n",
    "dev = qml.device('qiskit.ibmq.circuit_runner', wires=2, backend='ibmq_qasm_simulator', shots=8000)\n",
    "\n",
    "def vqe_circuit(params):\n",
    "    qml.RX(params[0], wires=0)\n",
    "    qml.RY(params[1], wires=0)\n",
    "\n",
    "coeffs = [1, 1]\n",
    "obs = [qml.PauliX(0), qml.PauliZ(0)]\n",
    "hamiltonian = qml.Hamiltonian(coeffs, obs)\n",
    "\n",
    "job = vqe_runner(\n",
    "    program_id=program_id,\n",
    "    backend=\"ibmq_qasm_simulator\",\n",
    "    hamiltonian=hamiltonian,\n",
    "    ansatz=vqe_circuit,\n",
    "    x0=[3.97507603, 3.00854038],\n",
    "    shots=shots,\n",
    "    optimizer=\"SPSA\",\n",
    "    optimizer_config={\"maxiter\": 40},\n",
    "    kwargs={\"hub\": \"ibm-q\", \"group\": \"open\", \"project\": \"main\"},\n",
    ")"
   ]
  },
  {
   "cell_type": "code",
   "execution_count": 1,
   "metadata": {},
   "outputs": [],
   "source": [
    "token = '7cc830e0cb005ce6de9caf9c402a1992c5d38d25af4237c19e72a4c58ce204481eb7a0d08b9929e5b5d3028f3146c38d2da8f2eb8db8f6f8b02a97eeb8fbc6de'\n"
   ]
  },
  {
   "cell_type": "code",
   "execution_count": 5,
   "metadata": {},
   "outputs": [
    {
     "name": "stderr",
     "output_type": "stream",
     "text": [
      "/home/v/anaconda3/lib/python3.9/site-packages/pennylane/transforms/qfunc_transforms.py:68: UserWarning: ``make_tape`` is deprecated in favor of ``qml.tape.make_qscript``\n",
      "  warnings.warn(\"``make_tape`` is deprecated in favor of ``qml.tape.make_qscript``\", UserWarning)\n"
     ]
    }
   ],
   "source": [
    "from pennylane_qiskit import upload_vqe_runner, vqe_runner\n",
    "import pennylane as qml\n",
    "from qiskit import IBMQ\n",
    "#IBMQ.enable_account(token)\n",
    "\n",
    "program_id = upload_vqe_runner(hub=\"ibm-q\", group=\"open\", project=\"main\")\n",
    "\n",
    "def vqe_circuit(params):\n",
    "    qml.RX(params[0], wires=0)\n",
    "    qml.RY(params[1], wires=0)\n",
    "shots = 10\n",
    "\n",
    "coeffs = [1, 1]\n",
    "obs = [qml.PauliX(0), qml.PauliZ(0)]\n",
    "hamiltonian = qml.Hamiltonian(coeffs, obs)\n",
    "\n",
    "job = vqe_runner(\n",
    "    program_id=program_id,\n",
    "    backend=\"ibmq_qasm_simulator\",\n",
    "    hamiltonian=hamiltonian,\n",
    "    ansatz=vqe_circuit,\n",
    "    x0=[3.97507603, 3.00854038],\n",
    "    shots=shots,\n",
    "    optimizer=\"SPSA\",\n",
    "    optimizer_config={\"maxiter\": 40},\n",
    "    kwargs={\"hub\": \"ibm-q\", \"group\": \"open\", \"project\": \"main\"},\n",
    ")"
   ]
  },
  {
   "cell_type": "code",
   "execution_count": 6,
   "metadata": {},
   "outputs": [
    {
     "name": "stdout",
     "output_type": "stream",
     "text": [
      "     fun: -1.4000000000000001\n",
      " message: 'Optimization terminated successfully.'\n",
      "    nfev: 120\n",
      "     nit: 40\n",
      " success: True\n",
      "       x: array([6.49791302, 3.88503794])\n"
     ]
    }
   ],
   "source": [
    "result = job.result()\n",
    "print(result)"
   ]
  }
 ],
 "metadata": {
  "kernelspec": {
   "display_name": "base",
   "language": "python",
   "name": "python3"
  },
  "language_info": {
   "codemirror_mode": {
    "name": "ipython",
    "version": 3
   },
   "file_extension": ".py",
   "mimetype": "text/x-python",
   "name": "python",
   "nbconvert_exporter": "python",
   "pygments_lexer": "ipython3",
   "version": "3.9.13"
  },
  "orig_nbformat": 4,
  "vscode": {
   "interpreter": {
    "hash": "0ed14abce7655850474e63ee7c6c2759d1bab8539f26a9d7ce141d9d93c461cb"
   }
  }
 },
 "nbformat": 4,
 "nbformat_minor": 2
}
